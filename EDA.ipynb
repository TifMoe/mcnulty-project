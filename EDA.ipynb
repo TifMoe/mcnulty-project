{
 "cells": [
  {
   "cell_type": "code",
   "execution_count": 10,
   "metadata": {
    "ExecuteTime": {
     "end_time": "2018-02-12T02:43:08.079139Z",
     "start_time": "2018-02-12T02:43:07.163299Z"
    }
   },
   "outputs": [
    {
     "name": "stdout",
     "output_type": "stream",
     "text": [
      "Python version 3.6.3 |Anaconda custom (64-bit)| (default, Oct  6 2017, 12:04:38) \n",
      "[GCC 4.2.1 Compatible Clang 4.0.1 (tags/RELEASE_401/final)]\n",
      "Pandas version 0.20.3\n",
      "Numpy version 1.14.0\n"
     ]
    }
   ],
   "source": [
    "from db_functions import db_create_engine\n",
    "import pandas as pd\n",
    "import numpy as np\n",
    "from configparser import ConfigParser\n",
    "import sys\n",
    "import matplotlib.pyplot as plt\n",
    "import seaborn as sns\n",
    "from sql_queries import legislators_sql\n",
    "% matplotlib inline\n",
    "\n",
    "print('Python version', sys.version)\n",
    "print('Pandas version', pd.__version__)\n",
    "print('Numpy version', np.__version__)"
   ]
  },
  {
   "cell_type": "code",
   "execution_count": 4,
   "metadata": {
    "ExecuteTime": {
     "end_time": "2018-02-12T02:34:03.038208Z",
     "start_time": "2018-02-12T02:34:02.999891Z"
    }
   },
   "outputs": [],
   "source": [
    "engine = db_create_engine(config_file='config.ini',\n",
    "                          conn_name='PostgresConfig')"
   ]
  },
  {
   "cell_type": "code",
   "execution_count": 5,
   "metadata": {
    "ExecuteTime": {
     "end_time": "2018-02-12T02:34:08.278831Z",
     "start_time": "2018-02-12T02:34:06.491239Z"
    }
   },
   "outputs": [],
   "source": [
    "data = pd.read_sql_query(sql=legislators_sql, con=engine)"
   ]
  },
  {
   "cell_type": "code",
   "execution_count": 6,
   "metadata": {
    "ExecuteTime": {
     "end_time": "2018-02-12T02:34:13.309754Z",
     "start_time": "2018-02-12T02:34:13.279010Z"
    }
   },
   "outputs": [
    {
     "data": {
      "text/html": [
       "<div>\n",
       "<style>\n",
       "    .dataframe thead tr:only-child th {\n",
       "        text-align: right;\n",
       "    }\n",
       "\n",
       "    .dataframe thead th {\n",
       "        text-align: left;\n",
       "    }\n",
       "\n",
       "    .dataframe tbody tr th {\n",
       "        vertical-align: top;\n",
       "    }\n",
       "</style>\n",
       "<table border=\"1\" class=\"dataframe\">\n",
       "  <thead>\n",
       "    <tr style=\"text-align: right;\">\n",
       "      <th></th>\n",
       "      <th>party</th>\n",
       "      <th>id</th>\n",
       "      <th>gender</th>\n",
       "      <th>name</th>\n",
       "      <th>religion</th>\n",
       "      <th>twitter_id</th>\n",
       "      <th>location</th>\n",
       "      <th>followers_count</th>\n",
       "      <th>favourites_count</th>\n",
       "      <th>statuses_count</th>\n",
       "      <th>friends_count</th>\n",
       "      <th>twitter_id</th>\n",
       "      <th>tweet_count</th>\n",
       "      <th>tweet_fav_count</th>\n",
       "      <th>retweet_count</th>\n",
       "    </tr>\n",
       "  </thead>\n",
       "  <tbody>\n",
       "    <tr>\n",
       "      <th>0</th>\n",
       "      <td>Republican</td>\n",
       "      <td>R000600</td>\n",
       "      <td>F</td>\n",
       "      <td>Aumua Amata</td>\n",
       "      <td>None</td>\n",
       "      <td>3026622545</td>\n",
       "      <td>Washington, D.C.</td>\n",
       "      <td>1635.0</td>\n",
       "      <td>161.0</td>\n",
       "      <td>319.0</td>\n",
       "      <td>180.0</td>\n",
       "      <td>3026622545</td>\n",
       "      <td>10.0</td>\n",
       "      <td>36.0</td>\n",
       "      <td>25.0</td>\n",
       "    </tr>\n",
       "    <tr>\n",
       "      <th>1</th>\n",
       "      <td>Republican</td>\n",
       "      <td>Y000064</td>\n",
       "      <td>M</td>\n",
       "      <td>Todd Young</td>\n",
       "      <td>None</td>\n",
       "      <td>234128524</td>\n",
       "      <td>Indiana</td>\n",
       "      <td>34170.0</td>\n",
       "      <td>188.0</td>\n",
       "      <td>3657.0</td>\n",
       "      <td>507.0</td>\n",
       "      <td>234128524</td>\n",
       "      <td>72.0</td>\n",
       "      <td>2005.0</td>\n",
       "      <td>750.0</td>\n",
       "    </tr>\n",
       "    <tr>\n",
       "      <th>2</th>\n",
       "      <td>Republican</td>\n",
       "      <td>E000295</td>\n",
       "      <td>F</td>\n",
       "      <td>Joni Ernst</td>\n",
       "      <td>None</td>\n",
       "      <td>2856787757</td>\n",
       "      <td>Iowa</td>\n",
       "      <td>32448.0</td>\n",
       "      <td>3.0</td>\n",
       "      <td>1731.0</td>\n",
       "      <td>50.0</td>\n",
       "      <td>2856787757</td>\n",
       "      <td>38.0</td>\n",
       "      <td>2114.0</td>\n",
       "      <td>607.0</td>\n",
       "    </tr>\n",
       "    <tr>\n",
       "      <th>3</th>\n",
       "      <td>Republican</td>\n",
       "      <td>T000476</td>\n",
       "      <td>M</td>\n",
       "      <td>Thom Tillis</td>\n",
       "      <td>None</td>\n",
       "      <td>2964174789</td>\n",
       "      <td>Washington, D.C.</td>\n",
       "      <td>49229.0</td>\n",
       "      <td>854.0</td>\n",
       "      <td>3112.0</td>\n",
       "      <td>4602.0</td>\n",
       "      <td>2964174789</td>\n",
       "      <td>43.0</td>\n",
       "      <td>3235.0</td>\n",
       "      <td>1229.0</td>\n",
       "    </tr>\n",
       "    <tr>\n",
       "      <th>4</th>\n",
       "      <td>Republican</td>\n",
       "      <td>Y000063</td>\n",
       "      <td>M</td>\n",
       "      <td>Kevin Yoder</td>\n",
       "      <td>None</td>\n",
       "      <td>252819642</td>\n",
       "      <td>KS 3rd District &amp; DC</td>\n",
       "      <td>27618.0</td>\n",
       "      <td>211.0</td>\n",
       "      <td>7082.0</td>\n",
       "      <td>1654.0</td>\n",
       "      <td>252819642</td>\n",
       "      <td>50.0</td>\n",
       "      <td>6241.0</td>\n",
       "      <td>4914.0</td>\n",
       "    </tr>\n",
       "  </tbody>\n",
       "</table>\n",
       "</div>"
      ],
      "text/plain": [
       "        party       id gender         name religion  twitter_id  \\\n",
       "0  Republican  R000600      F  Aumua Amata     None  3026622545   \n",
       "1  Republican  Y000064      M   Todd Young     None   234128524   \n",
       "2  Republican  E000295      F   Joni Ernst     None  2856787757   \n",
       "3  Republican  T000476      M  Thom Tillis     None  2964174789   \n",
       "4  Republican  Y000063      M  Kevin Yoder     None   252819642   \n",
       "\n",
       "               location  followers_count  favourites_count  statuses_count  \\\n",
       "0      Washington, D.C.           1635.0             161.0           319.0   \n",
       "1               Indiana          34170.0             188.0          3657.0   \n",
       "2                 Iowa           32448.0               3.0          1731.0   \n",
       "3      Washington, D.C.          49229.0             854.0          3112.0   \n",
       "4  KS 3rd District & DC          27618.0             211.0          7082.0   \n",
       "\n",
       "   friends_count  twitter_id  tweet_count  tweet_fav_count  retweet_count  \n",
       "0          180.0  3026622545         10.0             36.0           25.0  \n",
       "1          507.0   234128524         72.0           2005.0          750.0  \n",
       "2           50.0  2856787757         38.0           2114.0          607.0  \n",
       "3         4602.0  2964174789         43.0           3235.0         1229.0  \n",
       "4         1654.0   252819642         50.0           6241.0         4914.0  "
      ]
     },
     "execution_count": 6,
     "metadata": {},
     "output_type": "execute_result"
    }
   ],
   "source": [
    "data.head()"
   ]
  },
  {
   "cell_type": "code",
   "execution_count": 82,
   "metadata": {
    "ExecuteTime": {
     "end_time": "2018-02-12T03:18:52.973293Z",
     "start_time": "2018-02-12T03:18:52.963530Z"
    }
   },
   "outputs": [
    {
     "data": {
      "text/plain": [
       "492"
      ]
     },
     "execution_count": 82,
     "metadata": {},
     "output_type": "execute_result"
    }
   ],
   "source": [
    "clean_data = data.dropna(how='any', subset=['twitter_id', 'followers_count', 'tweet_count'])\n",
    "len(clean_data)"
   ]
  },
  {
   "cell_type": "code",
   "execution_count": 89,
   "metadata": {
    "ExecuteTime": {
     "end_time": "2018-02-12T03:22:07.488086Z",
     "start_time": "2018-02-12T03:22:07.469113Z"
    }
   },
   "outputs": [
    {
     "name": "stdout",
     "output_type": "stream",
     "text": [
      "53.5% Republican - 263\n",
      "46.1% Democrat - 227\n"
     ]
    }
   ],
   "source": [
    "clean_data.party.value_counts()\n",
    "r = round(len(clean_data[clean_data['party']=='Republican'])/len(clean_data), 3) * 100\n",
    "d = round(len(clean_data[clean_data['party']=='Democrat'])/len(clean_data), 3) * 100\n",
    "\n",
    "print('{}% Republican - {}'.format(r, len(clean_data[clean_data['party']=='Republican'])))\n",
    "print('{}% Democrat - {}'.format(d, len(clean_data[clean_data['party']=='Democrat'])))"
   ]
  },
  {
   "cell_type": "code",
   "execution_count": 81,
   "metadata": {
    "ExecuteTime": {
     "end_time": "2018-02-12T03:18:06.657219Z",
     "start_time": "2018-02-12T03:18:06.306668Z"
    }
   },
   "outputs": [
    {
     "data": {
      "image/png": "[encoded data removed]",
      "text/plain": [
       "<matplotlib.figure.Figure at 0x11d070d68>"
      ]
     },
     "metadata": {},
     "output_type": "display_data"
    }
   ],
   "source": [
    "sns.pairplot(x_vars=[\"statuses_count\"], y_vars=[\"tweet_count\"], data=clean_data, \n",
    "hue=\"party\", size=7, aspect=1.5);"
   ]
  },
  {
   "cell_type": "code",
   "execution_count": null,
   "metadata": {
    "collapsed": true
   },
   "outputs": [],
   "source": []
  },
  {
   "cell_type": "code",
   "execution_count": null,
   "metadata": {
    "collapsed": true
   },
   "outputs": [],
   "source": []
  }
 ],
 "metadata": {
  "kernelspec": {
   "display_name": "Python 3",
   "language": "python",
   "name": "python3"
  },
  "language_info": {
   "codemirror_mode": {
    "name": "ipython",
    "version": 3
   },
   "file_extension": ".py",
   "mimetype": "text/x-python",
   "name": "python",
   "nbconvert_exporter": "python",
   "pygments_lexer": "ipython3",
   "version": "3.6.3"
  },
  "toc": {
   "nav_menu": {},
   "number_sections": true,
   "sideBar": true,
   "skip_h1_title": false,
   "title_cell": "Table of Contents",
   "title_sidebar": "Contents",
   "toc_cell": false,
   "toc_position": {},
   "toc_section_display": true,
   "toc_window_display": false
  },
  "varInspector": {
   "cols": {
    "lenName": 16,
    "lenType": 16,
    "lenVar": 40
   },
   "kernels_config": {
    "python": {
     "delete_cmd_postfix": "",
     "delete_cmd_prefix": "del ",
     "library": "var_list.py",
     "varRefreshCmd": "print(var_dic_list())"
    },
    "r": {
     "delete_cmd_postfix": ") ",
     "delete_cmd_prefix": "rm(",
     "library": "var_list.r",
     "varRefreshCmd": "cat(var_dic_list()) "
    }
   },
   "types_to_exclude": [
    "module",
    "function",
    "builtin_function_or_method",
    "instance",
    "_Feature"
   ],
   "window_display": false
  }
 },
 "nbformat": 4,
 "nbformat_minor": 2
}
