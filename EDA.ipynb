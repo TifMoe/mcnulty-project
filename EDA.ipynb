{
 "cells": [
  {
   "cell_type": "code",
   "execution_count": 55,
   "metadata": {
    "ExecuteTime": {
     "end_time": "2018-02-12T21:41:51.363658Z",
     "start_time": "2018-02-12T21:41:51.347667Z"
    }
   },
   "outputs": [
    {
     "name": "stdout",
     "output_type": "stream",
     "text": [
      "Python version 3.6.3 |Anaconda custom (64-bit)| (default, Oct  6 2017, 12:04:38) \n",
      "[GCC 4.2.1 Compatible Clang 4.0.1 (tags/RELEASE_401/final)]\n",
      "Pandas version 0.20.3\n",
      "Numpy version 1.14.0\n"
     ]
    }
   ],
   "source": [
    "from db_functions import db_create_engine\n",
    "import pandas as pd\n",
    "import numpy as np\n",
    "from configparser import ConfigParser\n",
    "import sys\n",
    "import matplotlib.pyplot as plt\n",
    "import seaborn as sns\n",
    "from sklearn.metrics import confusion_matrix\n",
    "from sklearn.model_selection import train_test_split\n",
    "from sklearn import metrics\n",
    "\n",
    "from sql_queries import legislators_sql\n",
    "% matplotlib inline\n",
    "\n",
    "print('Python version', sys.version)\n",
    "print('Pandas version', pd.__version__)\n",
    "print('Numpy version', np.__version__)"
   ]
  },
  {
   "cell_type": "code",
   "execution_count": 38,
   "metadata": {
    "ExecuteTime": {
     "end_time": "2018-02-12T21:32:46.095623Z",
     "start_time": "2018-02-12T21:32:46.089572Z"
    },
    "collapsed": true
   },
   "outputs": [],
   "source": [
    "engine = db_create_engine(config_file='config.ini',\n",
    "                          conn_name='PostgresConfig')"
   ]
  },
  {
   "cell_type": "code",
   "execution_count": 39,
   "metadata": {
    "ExecuteTime": {
     "end_time": "2018-02-12T21:32:47.269790Z",
     "start_time": "2018-02-12T21:32:46.461670Z"
    }
   },
   "outputs": [],
   "source": [
    "data = pd.read_sql_query(sql=legislators_sql, con=engine)"
   ]
  },
  {
   "cell_type": "code",
   "execution_count": 69,
   "metadata": {
    "ExecuteTime": {
     "end_time": "2018-02-12T21:44:50.733744Z",
     "start_time": "2018-02-12T21:44:50.714708Z"
    }
   },
   "outputs": [
    {
     "data": {
      "text/html": [
       "<div>\n",
       "<style>\n",
       "    .dataframe thead tr:only-child th {\n",
       "        text-align: right;\n",
       "    }\n",
       "\n",
       "    .dataframe thead th {\n",
       "        text-align: left;\n",
       "    }\n",
       "\n",
       "    .dataframe tbody tr th {\n",
       "        vertical-align: top;\n",
       "    }\n",
       "</style>\n",
       "<table border=\"1\" class=\"dataframe\">\n",
       "  <thead>\n",
       "    <tr style=\"text-align: right;\">\n",
       "      <th></th>\n",
       "      <th>party</th>\n",
       "      <th>id</th>\n",
       "      <th>gender</th>\n",
       "      <th>name</th>\n",
       "      <th>religion</th>\n",
       "      <th>twitter_id</th>\n",
       "      <th>location</th>\n",
       "      <th>followers_count</th>\n",
       "      <th>favourites_count</th>\n",
       "      <th>statuses_count</th>\n",
       "      <th>friends_count</th>\n",
       "      <th>tweet_count</th>\n",
       "      <th>tweet_fav_count</th>\n",
       "      <th>retweet_count</th>\n",
       "    </tr>\n",
       "  </thead>\n",
       "  <tbody>\n",
       "    <tr>\n",
       "      <th>0</th>\n",
       "      <td>Republican</td>\n",
       "      <td>R000600</td>\n",
       "      <td>F</td>\n",
       "      <td>Aumua Amata</td>\n",
       "      <td>None</td>\n",
       "      <td>3026622545</td>\n",
       "      <td>Washington, D.C.</td>\n",
       "      <td>1635.0</td>\n",
       "      <td>161.0</td>\n",
       "      <td>319.0</td>\n",
       "      <td>180.0</td>\n",
       "      <td>10.0</td>\n",
       "      <td>36.0</td>\n",
       "      <td>25.0</td>\n",
       "    </tr>\n",
       "    <tr>\n",
       "      <th>1</th>\n",
       "      <td>Republican</td>\n",
       "      <td>Y000064</td>\n",
       "      <td>M</td>\n",
       "      <td>Todd Young</td>\n",
       "      <td>None</td>\n",
       "      <td>234128524</td>\n",
       "      <td>Indiana</td>\n",
       "      <td>34170.0</td>\n",
       "      <td>188.0</td>\n",
       "      <td>3657.0</td>\n",
       "      <td>507.0</td>\n",
       "      <td>72.0</td>\n",
       "      <td>2005.0</td>\n",
       "      <td>750.0</td>\n",
       "    </tr>\n",
       "    <tr>\n",
       "      <th>2</th>\n",
       "      <td>Republican</td>\n",
       "      <td>E000295</td>\n",
       "      <td>F</td>\n",
       "      <td>Joni Ernst</td>\n",
       "      <td>None</td>\n",
       "      <td>2856787757</td>\n",
       "      <td>Iowa</td>\n",
       "      <td>32448.0</td>\n",
       "      <td>3.0</td>\n",
       "      <td>1731.0</td>\n",
       "      <td>50.0</td>\n",
       "      <td>38.0</td>\n",
       "      <td>2114.0</td>\n",
       "      <td>607.0</td>\n",
       "    </tr>\n",
       "    <tr>\n",
       "      <th>3</th>\n",
       "      <td>Republican</td>\n",
       "      <td>T000476</td>\n",
       "      <td>M</td>\n",
       "      <td>Thom Tillis</td>\n",
       "      <td>None</td>\n",
       "      <td>2964174789</td>\n",
       "      <td>Washington, D.C.</td>\n",
       "      <td>49229.0</td>\n",
       "      <td>854.0</td>\n",
       "      <td>3112.0</td>\n",
       "      <td>4602.0</td>\n",
       "      <td>43.0</td>\n",
       "      <td>3235.0</td>\n",
       "      <td>1229.0</td>\n",
       "    </tr>\n",
       "    <tr>\n",
       "      <th>4</th>\n",
       "      <td>Republican</td>\n",
       "      <td>Y000063</td>\n",
       "      <td>M</td>\n",
       "      <td>Kevin Yoder</td>\n",
       "      <td>None</td>\n",
       "      <td>252819642</td>\n",
       "      <td>KS 3rd District &amp; DC</td>\n",
       "      <td>27618.0</td>\n",
       "      <td>211.0</td>\n",
       "      <td>7082.0</td>\n",
       "      <td>1654.0</td>\n",
       "      <td>50.0</td>\n",
       "      <td>6241.0</td>\n",
       "      <td>4914.0</td>\n",
       "    </tr>\n",
       "  </tbody>\n",
       "</table>\n",
       "</div>"
      ],
      "text/plain": [
       "        party       id gender         name religion  twitter_id  \\\n",
       "0  Republican  R000600      F  Aumua Amata     None  3026622545   \n",
       "1  Republican  Y000064      M   Todd Young     None   234128524   \n",
       "2  Republican  E000295      F   Joni Ernst     None  2856787757   \n",
       "3  Republican  T000476      M  Thom Tillis     None  2964174789   \n",
       "4  Republican  Y000063      M  Kevin Yoder     None   252819642   \n",
       "\n",
       "               location  followers_count  favourites_count  statuses_count  \\\n",
       "0      Washington, D.C.           1635.0             161.0           319.0   \n",
       "1               Indiana          34170.0             188.0          3657.0   \n",
       "2                 Iowa           32448.0               3.0          1731.0   \n",
       "3      Washington, D.C.          49229.0             854.0          3112.0   \n",
       "4  KS 3rd District & DC          27618.0             211.0          7082.0   \n",
       "\n",
       "   friends_count  tweet_count  tweet_fav_count  retweet_count  \n",
       "0          180.0         10.0             36.0           25.0  \n",
       "1          507.0         72.0           2005.0          750.0  \n",
       "2           50.0         38.0           2114.0          607.0  \n",
       "3         4602.0         43.0           3235.0         1229.0  \n",
       "4         1654.0         50.0           6241.0         4914.0  "
      ]
     },
     "execution_count": 69,
     "metadata": {},
     "output_type": "execute_result"
    }
   ],
   "source": [
    "data.head()\n"
   ]
  },
  {
   "cell_type": "markdown",
   "metadata": {
    "ExecuteTime": {
     "end_time": "2018-02-12T21:17:33.376511Z",
     "start_time": "2018-02-12T21:17:33.372358Z"
    }
   },
   "source": [
    "# Visualization"
   ]
  },
  {
   "cell_type": "code",
   "execution_count": 5,
   "metadata": {
    "ExecuteTime": {
     "end_time": "2018-02-12T21:16:40.639708Z",
     "start_time": "2018-02-12T21:16:40.627358Z"
    }
   },
   "outputs": [
    {
     "data": {
      "text/plain": [
       "492"
      ]
     },
     "execution_count": 5,
     "metadata": {},
     "output_type": "execute_result"
    }
   ],
   "source": [
    "clean_data = data.dropna(how='any', subset=['twitter_id', 'followers_count', 'tweet_count'])\n",
    "len(clean_data)"
   ]
  },
  {
   "cell_type": "code",
   "execution_count": 22,
   "metadata": {
    "ExecuteTime": {
     "end_time": "2018-02-12T21:27:09.320944Z",
     "start_time": "2018-02-12T21:27:09.304582Z"
    }
   },
   "outputs": [
    {
     "name": "stdout",
     "output_type": "stream",
     "text": [
      "53.5% Republican - 263\n",
      "46.1% Democrat - 227\n",
      "46.1% Independent - 2\n"
     ]
    }
   ],
   "source": [
    "clean_data.party.value_counts()\n",
    "r = round(len(clean_data[clean_data['party']=='Republican'])/len(clean_data), 3) * 100\n",
    "d = round(len(clean_data[clean_data['party']=='Democrat'])/len(clean_data), 3) * 100\n",
    "\n",
    "print('{}% Republican - {}'.format(r, len(clean_data[clean_data['party']=='Republican'])))\n",
    "print('{}% Democrat - {}'.format(d, len(clean_data[clean_data['party']=='Democrat'])))\n",
    "print('{}% Independent - {}'.format(d, len(clean_data[clean_data['party']=='Independent'])))"
   ]
  },
  {
   "cell_type": "code",
   "execution_count": 7,
   "metadata": {
    "ExecuteTime": {
     "end_time": "2018-02-12T21:16:45.393671Z",
     "start_time": "2018-02-12T21:16:45.024006Z"
    }
   },
   "outputs": [
    {
     "data": {
      "image/png": "[encoded data removed]",
      "text/plain": [
       "<matplotlib.figure.Figure at 0x1078d2cc0>"
      ]
     },
     "metadata": {},
     "output_type": "display_data"
    }
   ],
   "source": [
    "sns.pairplot(x_vars=[\"statuses_count\"], y_vars=[\"tweet_count\"], data=clean_data, \n",
    "hue=\"party\", size=7, aspect=1.5);"
   ]
  },
  {
   "cell_type": "markdown",
   "metadata": {
    "collapsed": true
   },
   "source": [
    "# Dummy Model"
   ]
  },
  {
   "cell_type": "markdown",
   "metadata": {
    "collapsed": true
   },
   "source": [
    "How accurate would a model be if it always predicted the class that is the mode of the target?"
   ]
  },
  {
   "cell_type": "code",
   "execution_count": 82,
   "metadata": {
    "ExecuteTime": {
     "end_time": "2018-02-12T21:48:28.327753Z",
     "start_time": "2018-02-12T21:48:28.318289Z"
    },
    "collapsed": true
   },
   "outputs": [],
   "source": [
    "# Remove the two Independant party observations\n",
    "cleaned_data = data[data.party != 'Independent'].copy()\n",
    "cleaned_data = cleaned_data.dropna(how='any', subset=['followers_count', 'tweet_count'])\n"
   ]
  },
  {
   "cell_type": "code",
   "execution_count": 89,
   "metadata": {
    "ExecuteTime": {
     "end_time": "2018-02-12T21:49:29.098735Z",
     "start_time": "2018-02-12T21:49:29.089574Z"
    }
   },
   "outputs": [],
   "source": [
    "party_mode = cleaned_data.party.mode()[0]\n",
    "cleaned_data['dummy_predict'] = party_mode\n",
    "\n",
    "cleaned_data.replace({'Republican':1, 'Democrat':0}, inplace=True)"
   ]
  },
  {
   "cell_type": "code",
   "execution_count": 90,
   "metadata": {
    "ExecuteTime": {
     "end_time": "2018-02-12T21:49:29.760526Z",
     "start_time": "2018-02-12T21:49:29.753904Z"
    },
    "collapsed": true
   },
   "outputs": [],
   "source": [
    "# Generate a confusion matrix plot\n",
    "def plot_confusion_matrix(cm, title='Confusion Matrix', cmap=plt.cm.Blues):\n",
    "    plt.imshow(cm, interpolation='nearest', cmap=cmap)\n",
    "    plt.title(title)\n",
    "    plt.colorbar()\n",
    "    plt.tight_layout()\n",
    "    plt.ylabel('True label')\n",
    "    plt.xlabel('Predicted label')"
   ]
  },
  {
   "cell_type": "code",
   "execution_count": 111,
   "metadata": {
    "ExecuteTime": {
     "end_time": "2018-02-12T21:52:24.686525Z",
     "start_time": "2018-02-12T21:52:24.459558Z"
    }
   },
   "outputs": [
    {
     "name": "stdout",
     "output_type": "stream",
     "text": [
      "Baseline Accuracy:      0.54\n",
      "\n",
      "\n",
      "[[  0 227]\n",
      " [  0 263]]\n",
      "\n",
      "\n",
      "Precision:              0.54\n",
      "Recall:                 1.00\n",
      "\n",
      "\n"
     ]
    },
    {
     "data": {
      "image/png": "[encoded data removed]",
      "text/plain": [
       "<matplotlib.figure.Figure at 0x1a14a0df28>"
      ]
     },
     "metadata": {},
     "output_type": "display_data"
    }
   ],
   "source": [
    "# create a confusion matrix\n",
    "y_true = cleaned_data['party']\n",
    "y_pred = cleaned_data['dummy_predict']\n",
    "\n",
    "conf = confusion_matrix(y_true, y_pred)\n",
    "print (\"Baseline Accuracy:      %0.2f\"% (conf[0, 0] + conf[1, 1] / (conf[0, 0] + conf[0, 1] + conf[1, 0] + conf[1, 1])))\n",
    "\n",
    "print ('\\n')\n",
    "print(conf)\n",
    "\n",
    "print ('\\n')\n",
    "print (\"Precision:              %0.2f\" %(conf[1, 1] / (conf[0, 1] + conf[1, 1])))\n",
    "print (\"Recall:                 %0.2f\"% (conf[1, 1] / (conf[1, 0] + conf[1, 1])))\n",
    "\n",
    "cm = confusion_matrix(y_true, y_pred, labels=None)\n",
    "\n",
    "# plot the confusion matrix\n",
    "\n",
    "print ('\\n')\n",
    "plt.figure()\n",
    "plot_confusion_matrix(cm)"
   ]
  },
  {
   "cell_type": "code",
   "execution_count": 107,
   "metadata": {
    "ExecuteTime": {
     "end_time": "2018-02-12T21:52:03.143790Z",
     "start_time": "2018-02-12T21:52:03.102821Z"
    }
   },
   "outputs": [],
   "source": [
    "def train_score(classifier, x, y):\n",
    "    \n",
    "    # split data into to training and test sets\n",
    "    xtrain, xtest, ytrain, ytest = cross_validation.train_test_split(x, y, test_size=0.2, random_state=1234)\n",
    "    ytrain = np.ravel(ytrain)\n",
    "    \n",
    "    # fit a model\n",
    "    clf = classifier.fit(xtrain, ytrain)\n",
    "    \n",
    "    # score the model (accuracy)\n",
    "    train_acc = clf.score(xtrain, ytrain)\n",
    "    test_acc = clf.score(xtest, ytest)\n",
    "    print(\"Training Data Accuracy: %0.2f\" %(train_acc))\n",
    "    print(\"Test Data Accuracy:     %0.2f\" %(test_acc))\n",
    "  \n",
    "\n",
    "    # create a confusion matrix\n",
    "    y_true = ytest\n",
    "    y_pred = clf.predict(xtest)\n",
    "    \n",
    "    conf = confusion_matrix(y_true, y_pred)\n",
    "    print ('\\n')\n",
    "    print(conf)\n",
    "\n",
    "    print ('\\n')\n",
    "    print (\"Precision:              %0.2f\" %(conf[1, 1] / (conf[0, 1] + conf[1, 1])))\n",
    "    print (\"Recall:                 %0.2f\"% (conf[1, 1] / (conf[1, 0] + conf[1, 1])))\n",
    "\n",
    "    cm = confusion_matrix(y_true, y_pred, labels=None)\n",
    "\n",
    "    # plot the confusion matrix\n",
    "\n",
    "    print ('\\n')\n",
    "    plt.figure()\n",
    "    plot_confusion_matrix(cm)"
   ]
  },
  {
   "cell_type": "code",
   "execution_count": 108,
   "metadata": {
    "ExecuteTime": {
     "end_time": "2018-02-12T21:52:03.646855Z",
     "start_time": "2018-02-12T21:52:03.637870Z"
    }
   },
   "outputs": [
    {
     "name": "stderr",
     "output_type": "stream",
     "text": [
      "/Users/tmoeller/anaconda3/lib/python3.6/site-packages/ipykernel_launcher.py:1: FutureWarning: reshape is deprecated and will raise in a subsequent release. Please use .values.reshape(...) instead\n",
      "  \"\"\"Entry point for launching an IPython kernel.\n"
     ]
    }
   ],
   "source": [
    "x = cleaned_data['tweet_count'].reshape(-1,1)\n",
    "\n",
    "xtrain, xtest, ytrain, ytest = train_test_split(x, cleaned_data['party'], \n",
    "                                                test_size=0.2, random_state=42)"
   ]
  },
  {
   "cell_type": "code",
   "execution_count": 109,
   "metadata": {
    "ExecuteTime": {
     "end_time": "2018-02-12T21:52:03.998209Z",
     "start_time": "2018-02-12T21:52:03.991343Z"
    }
   },
   "outputs": [
    {
     "data": {
      "text/plain": [
       "False"
      ]
     },
     "execution_count": 109,
     "metadata": {},
     "output_type": "execute_result"
    }
   ],
   "source": [
    "np.any(np.isnan(xtrain))"
   ]
  },
  {
   "cell_type": "code",
   "execution_count": 110,
   "metadata": {
    "ExecuteTime": {
     "end_time": "2018-02-12T21:52:04.984570Z",
     "start_time": "2018-02-12T21:52:04.775295Z"
    }
   },
   "outputs": [
    {
     "name": "stdout",
     "output_type": "stream",
     "text": [
      "Training Data Accuracy: 0.64\n",
      "Test Data Accuracy:     0.62\n",
      "\n",
      "\n",
      "[[17 25]\n",
      " [ 5 32]]\n",
      "\n",
      "\n",
      "Precision:              0.56\n",
      "Recall:                 0.86\n",
      "\n",
      "\n"
     ]
    },
    {
     "data": {
      "image/png": "[encoded data removed]",
      "text/plain": [
       "<matplotlib.figure.Figure at 0x1a0e895898>"
      ]
     },
     "metadata": {},
     "output_type": "display_data"
    }
   ],
   "source": [
    "from sklearn.linear_model import LogisticRegression\n",
    "\n",
    "log_reg = LogisticRegression()\n",
    "train_score(log_reg, xtrain, ytrain)"
   ]
  },
  {
   "cell_type": "code",
   "execution_count": null,
   "metadata": {
    "collapsed": true
   },
   "outputs": [],
   "source": []
  }
 ],
 "metadata": {
  "kernelspec": {
   "display_name": "Python 3",
   "language": "python",
   "name": "python3"
  },
  "language_info": {
   "codemirror_mode": {
    "name": "ipython",
    "version": 3
   },
   "file_extension": ".py",
   "mimetype": "text/x-python",
   "name": "python",
   "nbconvert_exporter": "python",
   "pygments_lexer": "ipython3",
   "version": "3.6.3"
  },
  "toc": {
   "nav_menu": {},
   "number_sections": true,
   "sideBar": true,
   "skip_h1_title": false,
   "title_cell": "Table of Contents",
   "title_sidebar": "Contents",
   "toc_cell": false,
   "toc_position": {},
   "toc_section_display": true,
   "toc_window_display": false
  },
  "varInspector": {
   "cols": {
    "lenName": 16,
    "lenType": 16,
    "lenVar": 40
   },
   "kernels_config": {
    "python": {
     "delete_cmd_postfix": "",
     "delete_cmd_prefix": "del ",
     "library": "var_list.py",
     "varRefreshCmd": "print(var_dic_list())"
    },
    "r": {
     "delete_cmd_postfix": ") ",
     "delete_cmd_prefix": "rm(",
     "library": "var_list.r",
     "varRefreshCmd": "cat(var_dic_list()) "
    }
   },
   "types_to_exclude": [
    "module",
    "function",
    "builtin_function_or_method",
    "instance",
    "_Feature"
   ],
   "window_display": false
  }
 },
 "nbformat": 4,
 "nbformat_minor": 2
}
