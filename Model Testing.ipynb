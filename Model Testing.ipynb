{
 "cells": [
  {
   "cell_type": "code",
   "execution_count": 27,
   "metadata": {
    "ExecuteTime": {
     "end_time": "2018-02-16T19:02:36.571210Z",
     "start_time": "2018-02-16T19:02:36.552190Z"
    }
   },
   "outputs": [
    {
     "name": "stdout",
     "output_type": "stream",
     "text": [
      "Python version 3.6.3 |Anaconda custom (64-bit)| (default, Oct  6 2017, 12:04:38) \n",
      "[GCC 4.2.1 Compatible Clang 4.0.1 (tags/RELEASE_401/final)]\n",
      "Pandas version 0.20.3\n",
      "Numpy version 1.14.0\n"
     ]
    }
   ],
   "source": [
    "import pandas as pd\n",
    "import numpy as np\n",
    "import sys\n",
    "import matplotlib.pyplot as plt\n",
    "import seaborn as sns\n",
    "from sklearn.metrics import confusion_matrix\n",
    "from sklearn.model_selection import train_test_split\n",
    "from sklearn.metrics import roc_curve, auc\n",
    "from sklearn import metrics\n",
    "from sklearn.ensemble import RandomForestClassifier, GradientBoostingClassifier\n",
    "from sklearn.tree import DecisionTreeClassifier\n",
    "from sklearn.linear_model import LogisticRegression\n",
    "from sklearn.naive_bayes import GaussianNB\n",
    "\n",
    "% matplotlib inline\n",
    "\n",
    "print('Python version', sys.version)\n",
    "print('Pandas version', pd.__version__)\n",
    "print('Numpy version', np.__version__)"
   ]
  },
  {
   "cell_type": "markdown",
   "metadata": {},
   "source": [
    "# Import pickled feature data"
   ]
  },
  {
   "cell_type": "code",
   "execution_count": 47,
   "metadata": {
    "ExecuteTime": {
     "end_time": "2018-02-16T19:11:22.179623Z",
     "start_time": "2018-02-16T19:11:22.165402Z"
    },
    "collapsed": true
   },
   "outputs": [],
   "source": [
    "data = pd.read_pickle('data/feature_engineering.pkl')"
   ]
  },
  {
   "cell_type": "code",
   "execution_count": 48,
   "metadata": {
    "ExecuteTime": {
     "end_time": "2018-02-16T19:11:22.380455Z",
     "start_time": "2018-02-16T19:11:22.364808Z"
    }
   },
   "outputs": [
    {
     "data": {
      "text/html": [
       "<div>\n",
       "<style>\n",
       "    .dataframe thead tr:only-child th {\n",
       "        text-align: right;\n",
       "    }\n",
       "\n",
       "    .dataframe thead th {\n",
       "        text-align: left;\n",
       "    }\n",
       "\n",
       "    .dataframe tbody tr th {\n",
       "        vertical-align: top;\n",
       "    }\n",
       "</style>\n",
       "<table border=\"1\" class=\"dataframe\">\n",
       "  <thead>\n",
       "    <tr style=\"text-align: right;\">\n",
       "      <th></th>\n",
       "      <th>id</th>\n",
       "      <th>hour_created</th>\n",
       "      <th>weekday_created</th>\n",
       "      <th>photo_exists</th>\n",
       "      <th>tweet_sentiment</th>\n",
       "      <th>retweets_per_followers</th>\n",
       "      <th>favs_per_followers</th>\n",
       "      <th>rate_all_caps</th>\n",
       "      <th>retweet_count</th>\n",
       "      <th>favorite_count</th>\n",
       "      <th>text_length</th>\n",
       "      <th>target</th>\n",
       "    </tr>\n",
       "  </thead>\n",
       "  <tbody>\n",
       "    <tr>\n",
       "      <th>0</th>\n",
       "      <td>9.529341e+17</td>\n",
       "      <td>16</td>\n",
       "      <td>0</td>\n",
       "      <td>1</td>\n",
       "      <td>1</td>\n",
       "      <td>0.000743</td>\n",
       "      <td>0.002601</td>\n",
       "      <td>0.000000</td>\n",
       "      <td>28</td>\n",
       "      <td>98</td>\n",
       "      <td>203</td>\n",
       "      <td>1</td>\n",
       "    </tr>\n",
       "    <tr>\n",
       "      <th>1</th>\n",
       "      <td>9.533119e+17</td>\n",
       "      <td>17</td>\n",
       "      <td>1</td>\n",
       "      <td>1</td>\n",
       "      <td>1</td>\n",
       "      <td>0.000637</td>\n",
       "      <td>0.001805</td>\n",
       "      <td>0.000000</td>\n",
       "      <td>24</td>\n",
       "      <td>68</td>\n",
       "      <td>202</td>\n",
       "      <td>1</td>\n",
       "    </tr>\n",
       "    <tr>\n",
       "      <th>2</th>\n",
       "      <td>9.533464e+17</td>\n",
       "      <td>19</td>\n",
       "      <td>1</td>\n",
       "      <td>0</td>\n",
       "      <td>1</td>\n",
       "      <td>0.000212</td>\n",
       "      <td>0.000557</td>\n",
       "      <td>0.060606</td>\n",
       "      <td>8</td>\n",
       "      <td>21</td>\n",
       "      <td>243</td>\n",
       "      <td>1</td>\n",
       "    </tr>\n",
       "    <tr>\n",
       "      <th>3</th>\n",
       "      <td>9.536457e+17</td>\n",
       "      <td>15</td>\n",
       "      <td>2</td>\n",
       "      <td>0</td>\n",
       "      <td>1</td>\n",
       "      <td>0.000610</td>\n",
       "      <td>0.003901</td>\n",
       "      <td>0.000000</td>\n",
       "      <td>23</td>\n",
       "      <td>147</td>\n",
       "      <td>61</td>\n",
       "      <td>1</td>\n",
       "    </tr>\n",
       "    <tr>\n",
       "      <th>4</th>\n",
       "      <td>9.536777e+17</td>\n",
       "      <td>17</td>\n",
       "      <td>2</td>\n",
       "      <td>0</td>\n",
       "      <td>1</td>\n",
       "      <td>0.000478</td>\n",
       "      <td>0.001327</td>\n",
       "      <td>0.037037</td>\n",
       "      <td>18</td>\n",
       "      <td>50</td>\n",
       "      <td>220</td>\n",
       "      <td>1</td>\n",
       "    </tr>\n",
       "  </tbody>\n",
       "</table>\n",
       "</div>"
      ],
      "text/plain": [
       "             id  hour_created  weekday_created  photo_exists  tweet_sentiment  \\\n",
       "0  9.529341e+17            16                0             1                1   \n",
       "1  9.533119e+17            17                1             1                1   \n",
       "2  9.533464e+17            19                1             0                1   \n",
       "3  9.536457e+17            15                2             0                1   \n",
       "4  9.536777e+17            17                2             0                1   \n",
       "\n",
       "   retweets_per_followers  favs_per_followers  rate_all_caps  retweet_count  \\\n",
       "0                0.000743            0.002601       0.000000             28   \n",
       "1                0.000637            0.001805       0.000000             24   \n",
       "2                0.000212            0.000557       0.060606              8   \n",
       "3                0.000610            0.003901       0.000000             23   \n",
       "4                0.000478            0.001327       0.037037             18   \n",
       "\n",
       "   favorite_count  text_length  target  \n",
       "0              98          203       1  \n",
       "1              68          202       1  \n",
       "2              21          243       1  \n",
       "3             147           61       1  \n",
       "4              50          220       1  "
      ]
     },
     "execution_count": 48,
     "metadata": {},
     "output_type": "execute_result"
    }
   ],
   "source": [
    "data.head()"
   ]
  },
  {
   "cell_type": "code",
   "execution_count": 49,
   "metadata": {
    "ExecuteTime": {
     "end_time": "2018-02-16T19:11:22.765742Z",
     "start_time": "2018-02-16T19:11:22.759266Z"
    }
   },
   "outputs": [],
   "source": [
    "y = data.pop('target')\n",
    "X = data.drop(['id'], axis=1)"
   ]
  },
  {
   "cell_type": "code",
   "execution_count": 50,
   "metadata": {
    "ExecuteTime": {
     "end_time": "2018-02-16T19:11:23.539420Z",
     "start_time": "2018-02-16T19:11:23.526271Z"
    }
   },
   "outputs": [],
   "source": [
    "y = np.array([int(i) for i in y])"
   ]
  },
  {
   "cell_type": "code",
   "execution_count": 51,
   "metadata": {
    "ExecuteTime": {
     "end_time": "2018-02-16T19:11:23.764526Z",
     "start_time": "2018-02-16T19:11:23.756258Z"
    },
    "collapsed": true
   },
   "outputs": [],
   "source": [
    "# Generate a confusion matrix plot\n",
    "def plot_confusion_matrix(cm, title='Confusion Matrix', cmap=plt.cm.Blues):\n",
    "    plt.imshow(cm, interpolation='nearest', cmap=cmap)\n",
    "    plt.title(title)\n",
    "    plt.colorbar()\n",
    "    plt.tight_layout()\n",
    "    plt.ylabel('True label')\n",
    "    plt.xlabel('Predicted label')"
   ]
  },
  {
   "cell_type": "code",
   "execution_count": 52,
   "metadata": {
    "ExecuteTime": {
     "end_time": "2018-02-16T19:11:24.153172Z",
     "start_time": "2018-02-16T19:11:24.139394Z"
    },
    "collapsed": true
   },
   "outputs": [],
   "source": [
    "def find_auc(y_test, y_score):\n",
    "    \n",
    "    fpr, tpr, _ = roc_curve(y_test, y_score)\n",
    "    roc_auc = auc(fpr, tpr)\n",
    "\n",
    "    plt.figure()\n",
    "\n",
    "    plt.plot([0,1],[0,1]) # this is our baseline\n",
    "    plt.plot(fpr, tpr) # this is our ROC curve\n",
    "    plt.xlabel('FPR')\n",
    "    plt.ylabel('TPR')\n",
    "    plt.show()\n",
    "\n",
    "    print('AUC: ', roc_auc)"
   ]
  },
  {
   "cell_type": "code",
   "execution_count": null,
   "metadata": {
    "collapsed": true
   },
   "outputs": [],
   "source": [
    "def cross_validation_kfold(features, target, num_folds, model, scale=True):\n",
    "    \"\"\"\n",
    "    Takes in feature set, target, model and number of folds to evaluate the in and out of sample error\n",
    "    Returns the train and validation errors as defined by AUC Score\n",
    "    \"\"\"\n",
    "    K = num_folds\n",
    "    kf = KFold(n_splits=K, shuffle=True, random_state=42)\n",
    "    \n",
    "    if len(np.shape(features))==1:\n",
    "        features = pd.DataFrame(np.array(features).reshape(-1,1))\n",
    "    \n",
    "    for train_index, val_index in kf.split(features, target):\n",
    "        \n",
    "        # split data\n",
    "        X_train, X_val = features.loc[train_index], features.loc[val_index]\n",
    "        y_train, y_val = target[train_index], target[val_index]\n",
    "        \n",
    "        # calculate errors\n",
    "        train_rmse, train_adj_r, validation_rmse, validation_adj_r = calc_metrics(X_train = X_train, \n",
    "                                                                                  y_train = y_train, \n",
    "                                                                                  X_test = X_val, \n",
    "                                                                                  y_test = y_val, \n",
    "                                                                                  model = model)\n",
    "\n",
    "\n",
    "        # append to appropriate list\n",
    "        train_rmse_l.append(train_rmse)\n",
    "        train_adj_r_l.append(train_adj_r)\n",
    "        validation_rmse_l.append(validation_rmse)\n",
    "        validation_adj_r_l.append(validation_adj_r)\n",
    "        \n",
    "        \n",
    "    # generate report    \n",
    "    pretty_print_stats(train_rmse=np.mean(train_rmse_l), \n",
    "                       train_adj_r=np.mean(train_adj_r_l), \n",
    "                       validation_rmse=np.mean(validation_rmse_l), \n",
    "                       validation_adj_r=np.mean(validation_adj_r_l))"
   ]
  },
  {
   "cell_type": "code",
   "execution_count": 53,
   "metadata": {
    "ExecuteTime": {
     "end_time": "2018-02-16T19:11:24.735105Z",
     "start_time": "2018-02-16T19:11:24.675520Z"
    },
    "collapsed": true
   },
   "outputs": [],
   "source": [
    "def train_score(classifier, x, y):\n",
    "    \n",
    "    # split data into to training and test sets\n",
    "    xtrain, xtest, ytrain, ytest = train_test_split(x, y,test_size=0.2, random_state=42)\n",
    "    ytrain = np.ravel(ytrain)\n",
    "    \n",
    "    # fit a model\n",
    "    clf = classifier.fit(xtrain, ytrain)\n",
    "    \n",
    "    # score the model (accuracy)\n",
    "    train_acc = clf.score(xtrain, ytrain)\n",
    "    test_acc = clf.score(xtest, ytest)\n",
    "    print(\"Training Data Accuracy: %0.2f\" %(train_acc))\n",
    "    print(\"Test Data Accuracy:     %0.2f\" %(test_acc))\n",
    "\n",
    "    # create a confusion matrix\n",
    "    y_true = ytest\n",
    "    y_pred = clf.predict(xtest)\n",
    "    \n",
    "    conf = confusion_matrix(y_true, y_pred)\n",
    "    print ('\\n')\n",
    "    print(conf)\n",
    "\n",
    "    print ('\\n')\n",
    "    print (\"Precision:              %0.2f\" %(conf[1, 1] / (conf[0, 1] + conf[1, 1])))\n",
    "    print (\"Recall:                 %0.2f\"% (conf[1, 1] / (conf[1, 0] + conf[1, 1])))\n",
    "\n",
    "    cm = confusion_matrix(y_true, y_pred, labels=None)\n",
    "    # plot the confusion matrix\n",
    "\n",
    "    print ('\\n')\n",
    "    plt.figure()\n",
    "    plot_confusion_matrix(cm)\n",
    "    plt.show()\n",
    "    \n",
    "    print('\\n Feature Importance')\n",
    "    for i in zip(list(X), clf.feature_importances_):\n",
    "        print(i)\n",
    "       \n",
    "    print('\\n')\n",
    "    find_auc(y_test=y_true, y_score=y_pred)"
   ]
  },
  {
   "cell_type": "code",
   "execution_count": 35,
   "metadata": {
    "ExecuteTime": {
     "end_time": "2018-02-16T19:02:45.798252Z",
     "start_time": "2018-02-16T19:02:45.790355Z"
    },
    "collapsed": true
   },
   "outputs": [],
   "source": [
    "gbc = GradientBoostingClassifier(learning_rate=.05, n_estimators=300)\n",
    "rf = RandomForestClassifier(n_estimators=30, max_features='log2')\n",
    "dt = DecisionTreeClassifier(max_depth=3)\n",
    "lr = LogisticRegression()"
   ]
  },
  {
   "cell_type": "code",
   "execution_count": 45,
   "metadata": {
    "ExecuteTime": {
     "end_time": "2018-02-16T19:10:32.725179Z",
     "start_time": "2018-02-16T19:10:28.373613Z"
    }
   },
   "outputs": [
    {
     "name": "stdout",
     "output_type": "stream",
     "text": [
      "Training Data Accuracy: 0.65\n",
      "Test Data Accuracy:     0.63\n",
      "\n",
      "\n",
      "[[3004  865]\n",
      " [1694 1444]]\n",
      "\n",
      "\n",
      "Precision:              0.63\n",
      "Recall:                 0.46\n",
      "\n",
      "\n"
     ]
    },
    {
     "data": {
      "image/png": "[encoded data removed]",
      "text/plain": [
       "<matplotlib.figure.Figure at 0x1a0afcb4e0>"
      ]
     },
     "metadata": {},
     "output_type": "display_data"
    },
    {
     "name": "stdout",
     "output_type": "stream",
     "text": [
      "\n",
      " Feature Importance\n",
      "('hour_created', 0.08970201825117453)\n",
      "('weekday_created', 0.056799215090794074)\n",
      "('photo_exists', 0.02750066945634734)\n",
      "('tweet_sentiment', 0.033220169458604884)\n",
      "('retweets_per_followers', 0.32527634951148615)\n",
      "('favs_per_followers', 0.22717834270903808)\n",
      "('rate_all_caps', 0.08792094716832706)\n",
      "('text_length', 0.1524022883542279)\n",
      "\n",
      "\n"
     ]
    },
    {
     "data": {
      "image/png": "[encoded data removed]",
      "text/plain": [
       "<matplotlib.figure.Figure at 0x102000fd0>"
      ]
     },
     "metadata": {},
     "output_type": "display_data"
    },
    {
     "name": "stdout",
     "output_type": "stream",
     "text": [
      "AUC:  0.6182968641096613\n"
     ]
    }
   ],
   "source": [
    "train_score(classifier=gbc, x=X, y=y)"
   ]
  },
  {
   "cell_type": "code",
   "execution_count": 14,
   "metadata": {
    "ExecuteTime": {
     "end_time": "2018-02-16T16:43:10.104025Z",
     "start_time": "2018-02-16T16:43:10.072439Z"
    }
   },
   "outputs": [
    {
     "data": {
      "image/svg+xml": [
       "<?xml version=\"1.0\" encoding=\"UTF-8\" standalone=\"no\"?>\n",
       "<!DOCTYPE svg PUBLIC \"-//W3C//DTD SVG 1.1//EN\"\n",
       " \"http://www.w3.org/Graphics/SVG/1.1/DTD/svg11.dtd\">\n",
       "<!-- Generated by graphviz version 2.40.1 (20161225.0304)\n",
       " -->\n",
       "<!-- Title: Tree Pages: 1 -->\n",
       "<svg width=\"1231pt\" height=\"400pt\"\n",
       " viewBox=\"0.00 0.00 1231.23 400.00\" xmlns=\"http://www.w3.org/2000/svg\" xmlns:xlink=\"http://www.w3.org/1999/xlink\">\n",
       "<g id=\"graph0\" class=\"graph\" transform=\"scale(1 1) rotate(0) translate(4 396)\">\n",
       "<title>Tree</title>\n",
       "<polygon fill=\"#ffffff\" stroke=\"transparent\" points=\"-4,4 -4,-396 1227.2334,-396 1227.2334,4 -4,4\"/>\n",
       "<!-- 0 -->\n",
       "<g id=\"node1\" class=\"node\">\n",
       "<title>0</title>\n",
       "<path fill=\"#e58139\" fill-opacity=\"0.176471\" stroke=\"#000000\" d=\"M649.9154,-392.1003C649.9154,-392.1003 515.318,-392.1003 515.318,-392.1003 509.318,-392.1003 503.318,-386.1003 503.318,-380.1003 503.318,-380.1003 503.318,-328.6997 503.318,-328.6997 503.318,-322.6997 509.318,-316.6997 515.318,-316.6997 515.318,-316.6997 649.9154,-316.6997 649.9154,-316.6997 655.9154,-316.6997 661.9154,-322.6997 661.9154,-328.6997 661.9154,-328.6997 661.9154,-380.1003 661.9154,-380.1003 661.9154,-386.1003 655.9154,-392.1003 649.9154,-392.1003\"/>\n",
       "<text text-anchor=\"start\" x=\"516.0894\" y=\"-375.4\" font-family=\"Helvetica,sans-Serif\" font-size=\"14.00\" fill=\"#000000\">retweet_count ≤ 15.5</text>\n",
       "<text text-anchor=\"start\" x=\"546.2391\" y=\"-358.6\" font-family=\"Helvetica,sans-Serif\" font-size=\"14.00\" fill=\"#000000\">gini = 0.495</text>\n",
       "<text text-anchor=\"start\" x=\"529.1248\" y=\"-341.8\" font-family=\"Helvetica,sans-Serif\" font-size=\"14.00\" fill=\"#000000\">samples = 28025</text>\n",
       "<text text-anchor=\"start\" x=\"511.2174\" y=\"-325\" font-family=\"Helvetica,sans-Serif\" font-size=\"14.00\" fill=\"#000000\">value = [15382, 12643]</text>\n",
       "</g>\n",
       "<!-- 1 -->\n",
       "<g id=\"node2\" class=\"node\">\n",
       "<title>1</title>\n",
       "<path fill=\"#399de5\" fill-opacity=\"0.098039\" stroke=\"#000000\" d=\"M558.3503,-280.9003C558.3503,-280.9003 438.8831,-280.9003 438.8831,-280.9003 432.8831,-280.9003 426.8831,-274.9003 426.8831,-268.9003 426.8831,-268.9003 426.8831,-217.4997 426.8831,-217.4997 426.8831,-211.4997 432.8831,-205.4997 438.8831,-205.4997 438.8831,-205.4997 558.3503,-205.4997 558.3503,-205.4997 564.3503,-205.4997 570.3503,-211.4997 570.3503,-217.4997 570.3503,-217.4997 570.3503,-268.9003 570.3503,-268.9003 570.3503,-274.9003 564.3503,-280.9003 558.3503,-280.9003\"/>\n",
       "<text text-anchor=\"start\" x=\"437.9197\" y=\"-264.2\" font-family=\"Helvetica,sans-Serif\" font-size=\"14.00\" fill=\"#000000\">text_length ≤ 144.5</text>\n",
       "<text text-anchor=\"start\" x=\"462.2391\" y=\"-247.4\" font-family=\"Helvetica,sans-Serif\" font-size=\"14.00\" fill=\"#000000\">gini = 0.499</text>\n",
       "<text text-anchor=\"start\" x=\"445.1248\" y=\"-230.6\" font-family=\"Helvetica,sans-Serif\" font-size=\"14.00\" fill=\"#000000\">samples = 17271</text>\n",
       "<text text-anchor=\"start\" x=\"435\" y=\"-213.8\" font-family=\"Helvetica,sans-Serif\" font-size=\"14.00\" fill=\"#000000\">value = [8194, 9077]</text>\n",
       "</g>\n",
       "<!-- 0&#45;&gt;1 -->\n",
       "<g id=\"edge1\" class=\"edge\">\n",
       "<title>0&#45;&gt;1</title>\n",
       "<path fill=\"none\" stroke=\"#000000\" d=\"M554.1781,-316.7528C547.4047,-307.786 540.104,-298.1213 533.0926,-288.8395\"/>\n",
       "<polygon fill=\"#000000\" stroke=\"#000000\" points=\"535.8463,-286.6781 527.026,-280.8085 530.2608,-290.8974 535.8463,-286.6781\"/>\n",
       "<text text-anchor=\"middle\" x=\"523.5757\" y=\"-301.3692\" font-family=\"Helvetica,sans-Serif\" font-size=\"14.00\" fill=\"#000000\">True</text>\n",
       "</g>\n",
       "<!-- 8 -->\n",
       "<g id=\"node9\" class=\"node\">\n",
       "<title>8</title>\n",
       "<path fill=\"#e58139\" fill-opacity=\"0.501961\" stroke=\"#000000\" d=\"M790.3503,-280.9003C790.3503,-280.9003 670.8831,-280.9003 670.8831,-280.9003 664.8831,-280.9003 658.8831,-274.9003 658.8831,-268.9003 658.8831,-268.9003 658.8831,-217.4997 658.8831,-217.4997 658.8831,-211.4997 664.8831,-205.4997 670.8831,-205.4997 670.8831,-205.4997 790.3503,-205.4997 790.3503,-205.4997 796.3503,-205.4997 802.3503,-211.4997 802.3503,-217.4997 802.3503,-217.4997 802.3503,-268.9003 802.3503,-268.9003 802.3503,-274.9003 796.3503,-280.9003 790.3503,-280.9003\"/>\n",
       "<text text-anchor=\"start\" x=\"669.9197\" y=\"-264.2\" font-family=\"Helvetica,sans-Serif\" font-size=\"14.00\" fill=\"#000000\">text_length ≤ 132.5</text>\n",
       "<text text-anchor=\"start\" x=\"694.2391\" y=\"-247.4\" font-family=\"Helvetica,sans-Serif\" font-size=\"14.00\" fill=\"#000000\">gini = 0.443</text>\n",
       "<text text-anchor=\"start\" x=\"677.1248\" y=\"-230.6\" font-family=\"Helvetica,sans-Serif\" font-size=\"14.00\" fill=\"#000000\">samples = 10754</text>\n",
       "<text text-anchor=\"start\" x=\"667\" y=\"-213.8\" font-family=\"Helvetica,sans-Serif\" font-size=\"14.00\" fill=\"#000000\">value = [7188, 3566]</text>\n",
       "</g>\n",
       "<!-- 0&#45;&gt;8 -->\n",
       "<g id=\"edge8\" class=\"edge\">\n",
       "<title>0&#45;&gt;8</title>\n",
       "<path fill=\"none\" stroke=\"#000000\" d=\"M632.7227,-316.7528C645.5008,-307.1519 659.3437,-296.7511 672.4858,-286.8768\"/>\n",
       "<polygon fill=\"#000000\" stroke=\"#000000\" points=\"674.6699,-289.6136 680.5623,-280.8085 670.465,-284.0172 674.6699,-289.6136\"/>\n",
       "<text text-anchor=\"middle\" x=\"677.0481\" y=\"-301.3603\" font-family=\"Helvetica,sans-Serif\" font-size=\"14.00\" fill=\"#000000\">False</text>\n",
       "</g>\n",
       "<!-- 2 -->\n",
       "<g id=\"node3\" class=\"node\">\n",
       "<title>2</title>\n",
       "<path fill=\"#399de5\" fill-opacity=\"0.341176\" stroke=\"#000000\" d=\"M294.1727,-169.7003C294.1727,-169.7003 155.0607,-169.7003 155.0607,-169.7003 149.0607,-169.7003 143.0607,-163.7003 143.0607,-157.7003 143.0607,-157.7003 143.0607,-106.2997 143.0607,-106.2997 143.0607,-100.2997 149.0607,-94.2997 155.0607,-94.2997 155.0607,-94.2997 294.1727,-94.2997 294.1727,-94.2997 300.1727,-94.2997 306.1727,-100.2997 306.1727,-106.2997 306.1727,-106.2997 306.1727,-157.7003 306.1727,-157.7003 306.1727,-163.7003 300.1727,-169.7003 294.1727,-169.7003\"/>\n",
       "<text text-anchor=\"start\" x=\"151.0887\" y=\"-153\" font-family=\"Helvetica,sans-Serif\" font-size=\"14.00\" fill=\"#000000\">weekday_created ≤ 4.5</text>\n",
       "<text text-anchor=\"start\" x=\"188.2391\" y=\"-136.2\" font-family=\"Helvetica,sans-Serif\" font-size=\"14.00\" fill=\"#000000\">gini = 0.479</text>\n",
       "<text text-anchor=\"start\" x=\"175.0161\" y=\"-119.4\" font-family=\"Helvetica,sans-Serif\" font-size=\"14.00\" fill=\"#000000\">samples = 5890</text>\n",
       "<text text-anchor=\"start\" x=\"161\" y=\"-102.6\" font-family=\"Helvetica,sans-Serif\" font-size=\"14.00\" fill=\"#000000\">value = [2336, 3554]</text>\n",
       "</g>\n",
       "<!-- 1&#45;&gt;2 -->\n",
       "<g id=\"edge2\" class=\"edge\">\n",
       "<title>1&#45;&gt;2</title>\n",
       "<path fill=\"none\" stroke=\"#000000\" d=\"M426.9843,-214.1288C393.07,-200.365 352.1752,-183.7683 316.0505,-169.1074\"/>\n",
       "<polygon fill=\"#000000\" stroke=\"#000000\" points=\"317.0708,-165.7443 306.4886,-165.2269 314.4384,-172.2305 317.0708,-165.7443\"/>\n",
       "</g>\n",
       "<!-- 5 -->\n",
       "<g id=\"node6\" class=\"node\">\n",
       "<title>5</title>\n",
       "<path fill=\"#e58139\" fill-opacity=\"0.058824\" stroke=\"#000000\" d=\"M558.3503,-169.7003C558.3503,-169.7003 438.8831,-169.7003 438.8831,-169.7003 432.8831,-169.7003 426.8831,-163.7003 426.8831,-157.7003 426.8831,-157.7003 426.8831,-106.2997 426.8831,-106.2997 426.8831,-100.2997 432.8831,-94.2997 438.8831,-94.2997 438.8831,-94.2997 558.3503,-94.2997 558.3503,-94.2997 564.3503,-94.2997 570.3503,-100.2997 570.3503,-106.2997 570.3503,-106.2997 570.3503,-157.7003 570.3503,-157.7003 570.3503,-163.7003 564.3503,-169.7003 558.3503,-169.7003\"/>\n",
       "<text text-anchor=\"start\" x=\"435.9807\" y=\"-153\" font-family=\"Helvetica,sans-Serif\" font-size=\"14.00\" fill=\"#000000\">retweet_count ≤ 4.5</text>\n",
       "<text text-anchor=\"start\" x=\"470.0217\" y=\"-136.2\" font-family=\"Helvetica,sans-Serif\" font-size=\"14.00\" fill=\"#000000\">gini = 0.5</text>\n",
       "<text text-anchor=\"start\" x=\"445.1248\" y=\"-119.4\" font-family=\"Helvetica,sans-Serif\" font-size=\"14.00\" fill=\"#000000\">samples = 11381</text>\n",
       "<text text-anchor=\"start\" x=\"435\" y=\"-102.6\" font-family=\"Helvetica,sans-Serif\" font-size=\"14.00\" fill=\"#000000\">value = [5858, 5523]</text>\n",
       "</g>\n",
       "<!-- 1&#45;&gt;5 -->\n",
       "<g id=\"edge5\" class=\"edge\">\n",
       "<title>1&#45;&gt;5</title>\n",
       "<path fill=\"none\" stroke=\"#000000\" d=\"M498.6167,-205.5528C498.6167,-197.22 498.6167,-188.2845 498.6167,-179.6137\"/>\n",
       "<polygon fill=\"#000000\" stroke=\"#000000\" points=\"502.1168,-179.6084 498.6167,-169.6085 495.1168,-179.6085 502.1168,-179.6084\"/>\n",
       "</g>\n",
       "<!-- 3 -->\n",
       "<g id=\"node4\" class=\"node\">\n",
       "<title>3</title>\n",
       "<path fill=\"#399de5\" fill-opacity=\"0.396078\" stroke=\"#000000\" d=\"M131.3503,-58.6014C131.3503,-58.6014 11.8831,-58.6014 11.8831,-58.6014 5.8831,-58.6014 -.1169,-52.6014 -.1169,-46.6014 -.1169,-46.6014 -.1169,-11.7986 -.1169,-11.7986 -.1169,-5.7986 5.8831,.2014 11.8831,.2014 11.8831,.2014 131.3503,.2014 131.3503,.2014 137.3503,.2014 143.3503,-5.7986 143.3503,-11.7986 143.3503,-11.7986 143.3503,-46.6014 143.3503,-46.6014 143.3503,-52.6014 137.3503,-58.6014 131.3503,-58.6014\"/>\n",
       "<text text-anchor=\"start\" x=\"39.1304\" y=\"-41.8\" font-family=\"Helvetica,sans-Serif\" font-size=\"14.00\" fill=\"#000000\">gini = 0.47</text>\n",
       "<text text-anchor=\"start\" x=\"22.0161\" y=\"-25\" font-family=\"Helvetica,sans-Serif\" font-size=\"14.00\" fill=\"#000000\">samples = 5148</text>\n",
       "<text text-anchor=\"start\" x=\"8\" y=\"-8.2\" font-family=\"Helvetica,sans-Serif\" font-size=\"14.00\" fill=\"#000000\">value = [1939, 3209]</text>\n",
       "</g>\n",
       "<!-- 2&#45;&gt;3 -->\n",
       "<g id=\"edge3\" class=\"edge\">\n",
       "<title>2&#45;&gt;3</title>\n",
       "<path fill=\"none\" stroke=\"#000000\" d=\"M168.5139,-94.3048C153.8275,-84.4371 138.0591,-73.8423 123.5979,-64.1259\"/>\n",
       "<polygon fill=\"#000000\" stroke=\"#000000\" points=\"125.5048,-61.1905 115.2524,-58.5186 121.6009,-67.0008 125.5048,-61.1905\"/>\n",
       "</g>\n",
       "<!-- 4 -->\n",
       "<g id=\"node5\" class=\"node\">\n",
       "<title>4</title>\n",
       "<path fill=\"#e58139\" fill-opacity=\"0.129412\" stroke=\"#000000\" d=\"M276.2853,-58.6014C276.2853,-58.6014 172.9481,-58.6014 172.9481,-58.6014 166.9481,-58.6014 160.9481,-52.6014 160.9481,-46.6014 160.9481,-46.6014 160.9481,-11.7986 160.9481,-11.7986 160.9481,-5.7986 166.9481,.2014 172.9481,.2014 172.9481,.2014 276.2853,.2014 276.2853,.2014 282.2853,.2014 288.2853,-5.7986 288.2853,-11.7986 288.2853,-11.7986 288.2853,-46.6014 288.2853,-46.6014 288.2853,-52.6014 282.2853,-58.6014 276.2853,-58.6014\"/>\n",
       "<text text-anchor=\"start\" x=\"188.2391\" y=\"-41.8\" font-family=\"Helvetica,sans-Serif\" font-size=\"14.00\" fill=\"#000000\">gini = 0.498</text>\n",
       "<text text-anchor=\"start\" x=\"178.9074\" y=\"-25\" font-family=\"Helvetica,sans-Serif\" font-size=\"14.00\" fill=\"#000000\">samples = 742</text>\n",
       "<text text-anchor=\"start\" x=\"168.7826\" y=\"-8.2\" font-family=\"Helvetica,sans-Serif\" font-size=\"14.00\" fill=\"#000000\">value = [397, 345]</text>\n",
       "</g>\n",
       "<!-- 2&#45;&gt;4 -->\n",
       "<g id=\"edge4\" class=\"edge\">\n",
       "<title>2&#45;&gt;4</title>\n",
       "<path fill=\"none\" stroke=\"#000000\" d=\"M224.6167,-94.3048C224.6167,-85.9126 224.6167,-76.9946 224.6167,-68.5382\"/>\n",
       "<polygon fill=\"#000000\" stroke=\"#000000\" points=\"228.1168,-68.5186 224.6167,-58.5186 221.1168,-68.5187 228.1168,-68.5186\"/>\n",
       "</g>\n",
       "<!-- 6 -->\n",
       "<g id=\"node7\" class=\"node\">\n",
       "<title>6</title>\n",
       "<path fill=\"#399de5\" fill-opacity=\"0.141176\" stroke=\"#000000\" d=\"M437.3503,-58.6014C437.3503,-58.6014 317.8831,-58.6014 317.8831,-58.6014 311.8831,-58.6014 305.8831,-52.6014 305.8831,-46.6014 305.8831,-46.6014 305.8831,-11.7986 305.8831,-11.7986 305.8831,-5.7986 311.8831,.2014 317.8831,.2014 317.8831,.2014 437.3503,.2014 437.3503,.2014 443.3503,.2014 449.3503,-5.7986 449.3503,-11.7986 449.3503,-11.7986 449.3503,-46.6014 449.3503,-46.6014 449.3503,-52.6014 443.3503,-58.6014 437.3503,-58.6014\"/>\n",
       "<text text-anchor=\"start\" x=\"341.2391\" y=\"-41.8\" font-family=\"Helvetica,sans-Serif\" font-size=\"14.00\" fill=\"#000000\">gini = 0.497</text>\n",
       "<text text-anchor=\"start\" x=\"328.0161\" y=\"-25\" font-family=\"Helvetica,sans-Serif\" font-size=\"14.00\" fill=\"#000000\">samples = 4222</text>\n",
       "<text text-anchor=\"start\" x=\"314\" y=\"-8.2\" font-family=\"Helvetica,sans-Serif\" font-size=\"14.00\" fill=\"#000000\">value = [1949, 2273]</text>\n",
       "</g>\n",
       "<!-- 5&#45;&gt;6 -->\n",
       "<g id=\"edge6\" class=\"edge\">\n",
       "<title>5&#45;&gt;6</title>\n",
       "<path fill=\"none\" stroke=\"#000000\" d=\"M454.2478,-94.3048C443.0673,-84.806 431.0938,-74.6335 420.0128,-65.2192\"/>\n",
       "<polygon fill=\"#000000\" stroke=\"#000000\" points=\"422.0131,-62.326 412.126,-58.5186 417.4808,-67.6607 422.0131,-62.326\"/>\n",
       "</g>\n",
       "<!-- 7 -->\n",
       "<g id=\"node8\" class=\"node\">\n",
       "<title>7</title>\n",
       "<path fill=\"#e58139\" fill-opacity=\"0.168627\" stroke=\"#000000\" d=\"M598.3503,-58.6014C598.3503,-58.6014 478.8831,-58.6014 478.8831,-58.6014 472.8831,-58.6014 466.8831,-52.6014 466.8831,-46.6014 466.8831,-46.6014 466.8831,-11.7986 466.8831,-11.7986 466.8831,-5.7986 472.8831,.2014 478.8831,.2014 478.8831,.2014 598.3503,.2014 598.3503,.2014 604.3503,.2014 610.3503,-5.7986 610.3503,-11.7986 610.3503,-11.7986 610.3503,-46.6014 610.3503,-46.6014 610.3503,-52.6014 604.3503,-58.6014 598.3503,-58.6014\"/>\n",
       "<text text-anchor=\"start\" x=\"502.2391\" y=\"-41.8\" font-family=\"Helvetica,sans-Serif\" font-size=\"14.00\" fill=\"#000000\">gini = 0.496</text>\n",
       "<text text-anchor=\"start\" x=\"489.0161\" y=\"-25\" font-family=\"Helvetica,sans-Serif\" font-size=\"14.00\" fill=\"#000000\">samples = 7159</text>\n",
       "<text text-anchor=\"start\" x=\"475\" y=\"-8.2\" font-family=\"Helvetica,sans-Serif\" font-size=\"14.00\" fill=\"#000000\">value = [3909, 3250]</text>\n",
       "</g>\n",
       "<!-- 5&#45;&gt;7 -->\n",
       "<g id=\"edge7\" class=\"edge\">\n",
       "<title>5&#45;&gt;7</title>\n",
       "<path fill=\"none\" stroke=\"#000000\" d=\"M513.2841,-94.3048C516.6213,-85.7282 520.1722,-76.6024 523.5267,-67.9813\"/>\n",
       "<polygon fill=\"#000000\" stroke=\"#000000\" points=\"526.8442,-69.1072 527.2087,-58.5186 520.3206,-66.5688 526.8442,-69.1072\"/>\n",
       "</g>\n",
       "<!-- 9 -->\n",
       "<g id=\"node10\" class=\"node\">\n",
       "<title>9</title>\n",
       "<path fill=\"#e58139\" fill-opacity=\"0.211765\" stroke=\"#000000\" d=\"M796.954,-169.7003C796.954,-169.7003 664.2794,-169.7003 664.2794,-169.7003 658.2794,-169.7003 652.2794,-163.7003 652.2794,-157.7003 652.2794,-157.7003 652.2794,-106.2997 652.2794,-106.2997 652.2794,-100.2997 658.2794,-94.2997 664.2794,-94.2997 664.2794,-94.2997 796.954,-94.2997 796.954,-94.2997 802.954,-94.2997 808.954,-100.2997 808.954,-106.2997 808.954,-106.2997 808.954,-157.7003 808.954,-157.7003 808.954,-163.7003 802.954,-169.7003 796.954,-169.7003\"/>\n",
       "<text text-anchor=\"start\" x=\"660.1981\" y=\"-153\" font-family=\"Helvetica,sans-Serif\" font-size=\"14.00\" fill=\"#000000\">favorite_count ≤ 107.5</text>\n",
       "<text text-anchor=\"start\" x=\"694.2391\" y=\"-136.2\" font-family=\"Helvetica,sans-Serif\" font-size=\"14.00\" fill=\"#000000\">gini = 0.493</text>\n",
       "<text text-anchor=\"start\" x=\"681.0161\" y=\"-119.4\" font-family=\"Helvetica,sans-Serif\" font-size=\"14.00\" fill=\"#000000\">samples = 2208</text>\n",
       "<text text-anchor=\"start\" x=\"670.8913\" y=\"-102.6\" font-family=\"Helvetica,sans-Serif\" font-size=\"14.00\" fill=\"#000000\">value = [1234, 974]</text>\n",
       "</g>\n",
       "<!-- 8&#45;&gt;9 -->\n",
       "<g id=\"edge9\" class=\"edge\">\n",
       "<title>8&#45;&gt;9</title>\n",
       "<path fill=\"none\" stroke=\"#000000\" d=\"M730.6167,-205.5528C730.6167,-197.22 730.6167,-188.2845 730.6167,-179.6137\"/>\n",
       "<polygon fill=\"#000000\" stroke=\"#000000\" points=\"734.1168,-179.6084 730.6167,-169.6085 727.1168,-179.6085 734.1168,-179.6084\"/>\n",
       "</g>\n",
       "<!-- 12 -->\n",
       "<g id=\"node13\" class=\"node\">\n",
       "<title>12</title>\n",
       "<path fill=\"#e58139\" fill-opacity=\"0.564706\" stroke=\"#000000\" d=\"M1053.1713,-169.7003C1053.1713,-169.7003 928.0621,-169.7003 928.0621,-169.7003 922.0621,-169.7003 916.0621,-163.7003 916.0621,-157.7003 916.0621,-157.7003 916.0621,-106.2997 916.0621,-106.2997 916.0621,-100.2997 922.0621,-94.2997 928.0621,-94.2997 928.0621,-94.2997 1053.1713,-94.2997 1053.1713,-94.2997 1059.1713,-94.2997 1065.1713,-100.2997 1065.1713,-106.2997 1065.1713,-106.2997 1065.1713,-157.7003 1065.1713,-157.7003 1065.1713,-163.7003 1059.1713,-169.7003 1053.1713,-169.7003\"/>\n",
       "<text text-anchor=\"start\" x=\"924.0894\" y=\"-153\" font-family=\"Helvetica,sans-Serif\" font-size=\"14.00\" fill=\"#000000\">retweet_count ≤ 37.5</text>\n",
       "<text text-anchor=\"start\" x=\"954.2391\" y=\"-136.2\" font-family=\"Helvetica,sans-Serif\" font-size=\"14.00\" fill=\"#000000\">gini = 0.423</text>\n",
       "<text text-anchor=\"start\" x=\"941.0161\" y=\"-119.4\" font-family=\"Helvetica,sans-Serif\" font-size=\"14.00\" fill=\"#000000\">samples = 8546</text>\n",
       "<text text-anchor=\"start\" x=\"927\" y=\"-102.6\" font-family=\"Helvetica,sans-Serif\" font-size=\"14.00\" fill=\"#000000\">value = [5954, 2592]</text>\n",
       "</g>\n",
       "<!-- 8&#45;&gt;12 -->\n",
       "<g id=\"edge12\" class=\"edge\">\n",
       "<title>8&#45;&gt;12</title>\n",
       "<path fill=\"none\" stroke=\"#000000\" d=\"M802.3511,-212.5197C834.6383,-198.7108 872.9713,-182.316 906.5942,-167.9358\"/>\n",
       "<polygon fill=\"#000000\" stroke=\"#000000\" points=\"908.1258,-171.0875 915.9438,-163.937 905.3731,-164.6514 908.1258,-171.0875\"/>\n",
       "</g>\n",
       "<!-- 10 -->\n",
       "<g id=\"node11\" class=\"node\">\n",
       "<title>10</title>\n",
       "<path fill=\"#399de5\" fill-opacity=\"0.062745\" stroke=\"#000000\" d=\"M743.2853,-58.6014C743.2853,-58.6014 639.9481,-58.6014 639.9481,-58.6014 633.9481,-58.6014 627.9481,-52.6014 627.9481,-46.6014 627.9481,-46.6014 627.9481,-11.7986 627.9481,-11.7986 627.9481,-5.7986 633.9481,.2014 639.9481,.2014 639.9481,.2014 743.2853,.2014 743.2853,.2014 749.2853,.2014 755.2853,-5.7986 755.2853,-11.7986 755.2853,-11.7986 755.2853,-46.6014 755.2853,-46.6014 755.2853,-52.6014 749.2853,-58.6014 743.2853,-58.6014\"/>\n",
       "<text text-anchor=\"start\" x=\"655.2391\" y=\"-41.8\" font-family=\"Helvetica,sans-Serif\" font-size=\"14.00\" fill=\"#000000\">gini = 0.499</text>\n",
       "<text text-anchor=\"start\" x=\"645.9074\" y=\"-25\" font-family=\"Helvetica,sans-Serif\" font-size=\"14.00\" fill=\"#000000\">samples = 840</text>\n",
       "<text text-anchor=\"start\" x=\"635.7826\" y=\"-8.2\" font-family=\"Helvetica,sans-Serif\" font-size=\"14.00\" fill=\"#000000\">value = [406, 434]</text>\n",
       "</g>\n",
       "<!-- 9&#45;&gt;10 -->\n",
       "<g id=\"edge10\" class=\"edge\">\n",
       "<title>9&#45;&gt;10</title>\n",
       "<path fill=\"none\" stroke=\"#000000\" d=\"M716.316,-94.3048C713.0622,-85.7282 709.6001,-76.6024 706.3295,-67.9813\"/>\n",
       "<polygon fill=\"#000000\" stroke=\"#000000\" points=\"709.5591,-66.6269 702.7395,-58.5186 703.0143,-69.1099 709.5591,-66.6269\"/>\n",
       "</g>\n",
       "<!-- 11 -->\n",
       "<g id=\"node12\" class=\"node\">\n",
       "<title>11</title>\n",
       "<path fill=\"#e58139\" fill-opacity=\"0.349020\" stroke=\"#000000\" d=\"M889.2853,-58.6014C889.2853,-58.6014 785.9481,-58.6014 785.9481,-58.6014 779.9481,-58.6014 773.9481,-52.6014 773.9481,-46.6014 773.9481,-46.6014 773.9481,-11.7986 773.9481,-11.7986 773.9481,-5.7986 779.9481,.2014 785.9481,.2014 785.9481,.2014 889.2853,.2014 889.2853,.2014 895.2853,.2014 901.2853,-5.7986 901.2853,-11.7986 901.2853,-11.7986 901.2853,-46.6014 901.2853,-46.6014 901.2853,-52.6014 895.2853,-58.6014 889.2853,-58.6014\"/>\n",
       "<text text-anchor=\"start\" x=\"801.2391\" y=\"-41.8\" font-family=\"Helvetica,sans-Serif\" font-size=\"14.00\" fill=\"#000000\">gini = 0.478</text>\n",
       "<text text-anchor=\"start\" x=\"788.0161\" y=\"-25\" font-family=\"Helvetica,sans-Serif\" font-size=\"14.00\" fill=\"#000000\">samples = 1368</text>\n",
       "<text text-anchor=\"start\" x=\"781.7826\" y=\"-8.2\" font-family=\"Helvetica,sans-Serif\" font-size=\"14.00\" fill=\"#000000\">value = [828, 540]</text>\n",
       "</g>\n",
       "<!-- 9&#45;&gt;11 -->\n",
       "<g id=\"edge11\" class=\"edge\">\n",
       "<title>9&#45;&gt;11</title>\n",
       "<path fill=\"none\" stroke=\"#000000\" d=\"M769.852,-94.3048C779.6429,-84.8982 790.1215,-74.8309 799.8403,-65.4936\"/>\n",
       "<polygon fill=\"#000000\" stroke=\"#000000\" points=\"802.3139,-67.9707 807.1002,-58.5186 797.4642,-62.9229 802.3139,-67.9707\"/>\n",
       "</g>\n",
       "<!-- 13 -->\n",
       "<g id=\"node14\" class=\"node\">\n",
       "<title>13</title>\n",
       "<path fill=\"#e58139\" fill-opacity=\"0.462745\" stroke=\"#000000\" d=\"M1050.3503,-58.6014C1050.3503,-58.6014 930.8831,-58.6014 930.8831,-58.6014 924.8831,-58.6014 918.8831,-52.6014 918.8831,-46.6014 918.8831,-46.6014 918.8831,-11.7986 918.8831,-11.7986 918.8831,-5.7986 924.8831,.2014 930.8831,.2014 930.8831,.2014 1050.3503,.2014 1050.3503,.2014 1056.3503,.2014 1062.3503,-5.7986 1062.3503,-11.7986 1062.3503,-11.7986 1062.3503,-46.6014 1062.3503,-46.6014 1062.3503,-52.6014 1056.3503,-58.6014 1050.3503,-58.6014\"/>\n",
       "<text text-anchor=\"start\" x=\"954.2391\" y=\"-41.8\" font-family=\"Helvetica,sans-Serif\" font-size=\"14.00\" fill=\"#000000\">gini = 0.455</text>\n",
       "<text text-anchor=\"start\" x=\"941.0161\" y=\"-25\" font-family=\"Helvetica,sans-Serif\" font-size=\"14.00\" fill=\"#000000\">samples = 3308</text>\n",
       "<text text-anchor=\"start\" x=\"927\" y=\"-8.2\" font-family=\"Helvetica,sans-Serif\" font-size=\"14.00\" fill=\"#000000\">value = [2150, 1158]</text>\n",
       "</g>\n",
       "<!-- 12&#45;&gt;13 -->\n",
       "<g id=\"edge13\" class=\"edge\">\n",
       "<title>12&#45;&gt;13</title>\n",
       "<path fill=\"none\" stroke=\"#000000\" d=\"M990.6167,-94.3048C990.6167,-85.9126 990.6167,-76.9946 990.6167,-68.5382\"/>\n",
       "<polygon fill=\"#000000\" stroke=\"#000000\" points=\"994.1168,-68.5186 990.6167,-58.5186 987.1168,-68.5187 994.1168,-68.5186\"/>\n",
       "</g>\n",
       "<!-- 14 -->\n",
       "<g id=\"node15\" class=\"node\">\n",
       "<title>14</title>\n",
       "<path fill=\"#e58139\" fill-opacity=\"0.623529\" stroke=\"#000000\" d=\"M1211.3503,-58.6014C1211.3503,-58.6014 1091.8831,-58.6014 1091.8831,-58.6014 1085.8831,-58.6014 1079.8831,-52.6014 1079.8831,-46.6014 1079.8831,-46.6014 1079.8831,-11.7986 1079.8831,-11.7986 1079.8831,-5.7986 1085.8831,.2014 1091.8831,.2014 1091.8831,.2014 1211.3503,.2014 1211.3503,.2014 1217.3503,.2014 1223.3503,-5.7986 1223.3503,-11.7986 1223.3503,-11.7986 1223.3503,-46.6014 1223.3503,-46.6014 1223.3503,-52.6014 1217.3503,-58.6014 1211.3503,-58.6014\"/>\n",
       "<text text-anchor=\"start\" x=\"1115.2391\" y=\"-41.8\" font-family=\"Helvetica,sans-Serif\" font-size=\"14.00\" fill=\"#000000\">gini = 0.398</text>\n",
       "<text text-anchor=\"start\" x=\"1102.0161\" y=\"-25\" font-family=\"Helvetica,sans-Serif\" font-size=\"14.00\" fill=\"#000000\">samples = 5238</text>\n",
       "<text text-anchor=\"start\" x=\"1088\" y=\"-8.2\" font-family=\"Helvetica,sans-Serif\" font-size=\"14.00\" fill=\"#000000\">value = [3804, 1434]</text>\n",
       "</g>\n",
       "<!-- 12&#45;&gt;14 -->\n",
       "<g id=\"edge14\" class=\"edge\">\n",
       "<title>12&#45;&gt;14</title>\n",
       "<path fill=\"none\" stroke=\"#000000\" d=\"M1049.653,-94.3048C1065.1073,-84.4371 1081.7002,-73.8423 1096.9176,-64.1259\"/>\n",
       "<polygon fill=\"#000000\" stroke=\"#000000\" points=\"1099.1545,-66.8502 1105.6994,-58.5186 1095.3874,-60.9503 1099.1545,-66.8502\"/>\n",
       "</g>\n",
       "</g>\n",
       "</svg>\n"
      ],
      "text/plain": [
       "<graphviz.files.Source at 0x1a0ac3a588>"
      ]
     },
     "execution_count": 14,
     "metadata": {},
     "output_type": "execute_result"
    }
   ],
   "source": [
    "import graphviz \n",
    "from sklearn import tree\n",
    "\n",
    "dot_data = tree.export_graphviz(dt, out_file=None, \n",
    "                         feature_names=X.columns,  \n",
    "                         filled=True, rounded=True,  \n",
    "                         special_characters=True)  \n",
    "\n",
    "graph = graphviz.Source(dot_data)  \n",
    "graph "
   ]
  },
  {
   "cell_type": "code",
   "execution_count": 15,
   "metadata": {
    "ExecuteTime": {
     "end_time": "2018-02-16T16:43:14.565408Z",
     "start_time": "2018-02-16T16:43:14.558422Z"
    }
   },
   "outputs": [
    {
     "data": {
      "text/plain": [
       "Index(['hour_created', 'weekday_created', 'photo_exists', 'tweet_sentiment',\n",
       "       'retweet_count', 'favorite_count', 'text_length'],\n",
       "      dtype='object')"
      ]
     },
     "execution_count": 15,
     "metadata": {},
     "output_type": "execute_result"
    }
   ],
   "source": [
    "X.columns"
   ]
  },
  {
   "cell_type": "code",
   "execution_count": 16,
   "metadata": {
    "ExecuteTime": {
     "end_time": "2018-02-16T16:44:07.198875Z",
     "start_time": "2018-02-16T16:44:03.793070Z"
    },
    "collapsed": true
   },
   "outputs": [],
   "source": [
    "toy_model = gbc.fit(X, y)"
   ]
  },
  {
   "cell_type": "code",
   "execution_count": 21,
   "metadata": {
    "ExecuteTime": {
     "end_time": "2018-02-16T16:45:49.140453Z",
     "start_time": "2018-02-16T16:45:49.123509Z"
    }
   },
   "outputs": [],
   "source": [
    "with open('../muffin_flask_example/toy_model.pkl', 'wb') as file:\n",
    "    pickle.dump(toy_model, file)"
   ]
  },
  {
   "cell_type": "code",
   "execution_count": 18,
   "metadata": {
    "ExecuteTime": {
     "end_time": "2018-02-16T16:44:53.151744Z",
     "start_time": "2018-02-16T16:44:53.147664Z"
    },
    "collapsed": true
   },
   "outputs": [],
   "source": [
    "import pickle"
   ]
  },
  {
   "cell_type": "code",
   "execution_count": 23,
   "metadata": {
    "ExecuteTime": {
     "end_time": "2018-02-16T16:50:22.668789Z",
     "start_time": "2018-02-16T16:50:22.656567Z"
    }
   },
   "outputs": [
    {
     "name": "stdout",
     "output_type": "stream",
     "text": [
      "<class 'pandas.core.frame.DataFrame'>\n",
      "Int64Index: 35032 entries, 0 to 35300\n",
      "Data columns (total 7 columns):\n",
      "hour_created       35032 non-null int64\n",
      "weekday_created    35032 non-null int64\n",
      "photo_exists       35032 non-null int64\n",
      "tweet_sentiment    35032 non-null int64\n",
      "retweet_count      35032 non-null int64\n",
      "favorite_count     35032 non-null int64\n",
      "text_length        35032 non-null int64\n",
      "dtypes: int64(7)\n",
      "memory usage: 2.1 MB\n"
     ]
    }
   ],
   "source": [
    "X.info()\n"
   ]
  },
  {
   "cell_type": "code",
   "execution_count": null,
   "metadata": {
    "collapsed": true
   },
   "outputs": [],
   "source": []
  }
 ],
 "metadata": {
  "kernelspec": {
   "display_name": "Python 3",
   "language": "python",
   "name": "python3"
  },
  "language_info": {
   "codemirror_mode": {
    "name": "ipython",
    "version": 3
   },
   "file_extension": ".py",
   "mimetype": "text/x-python",
   "name": "python",
   "nbconvert_exporter": "python",
   "pygments_lexer": "ipython3",
   "version": "3.6.3"
  },
  "toc": {
   "nav_menu": {},
   "number_sections": true,
   "sideBar": true,
   "skip_h1_title": false,
   "title_cell": "Table of Contents",
   "title_sidebar": "Contents",
   "toc_cell": false,
   "toc_position": {},
   "toc_section_display": true,
   "toc_window_display": false
  },
  "varInspector": {
   "cols": {
    "lenName": 16,
    "lenType": 16,
    "lenVar": 40
   },
   "kernels_config": {
    "python": {
     "delete_cmd_postfix": "",
     "delete_cmd_prefix": "del ",
     "library": "var_list.py",
     "varRefreshCmd": "print(var_dic_list())"
    },
    "r": {
     "delete_cmd_postfix": ") ",
     "delete_cmd_prefix": "rm(",
     "library": "var_list.r",
     "varRefreshCmd": "cat(var_dic_list()) "
    }
   },
   "types_to_exclude": [
    "module",
    "function",
    "builtin_function_or_method",
    "instance",
    "_Feature"
   ],
   "window_display": false
  }
 },
 "nbformat": 4,
 "nbformat_minor": 2
}
