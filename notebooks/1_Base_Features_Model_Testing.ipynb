{
 "cells": [
  {
   "cell_type": "code",
   "execution_count": 78,
   "metadata": {
    "ExecuteTime": {
     "end_time": "2018-02-20T14:23:22.797578Z",
     "start_time": "2018-02-20T14:23:22.772621Z"
    }
   },
   "outputs": [
    {
     "name": "stdout",
     "output_type": "stream",
     "text": [
      "Python version 3.6.3 |Anaconda custom (64-bit)| (default, Oct  6 2017, 12:04:38) \n",
      "[GCC 4.2.1 Compatible Clang 4.0.1 (tags/RELEASE_401/final)]\n",
      "Pandas version 0.20.3\n",
      "Numpy version 1.14.0\n"
     ]
    }
   ],
   "source": [
    "import pandas as pd\n",
    "import numpy as np\n",
    "import sys\n",
    "import pickle\n",
    "import matplotlib.pyplot as plt\n",
    "import operator\n",
    "import seaborn as sns\n",
    "from sklearn.metrics import confusion_matrix\n",
    "from sklearn.model_selection import train_test_split, StratifiedKFold, cross_val_score, GridSearchCV\n",
    "from sklearn.metrics import roc_curve, auc\n",
    "from sklearn import metrics\n",
    "from sklearn.ensemble import RandomForestClassifier, GradientBoostingClassifier\n",
    "from sklearn.discriminant_analysis import LinearDiscriminantAnalysis\n",
    "from sklearn.tree import DecisionTreeClassifier\n",
    "from sklearn.linear_model import LogisticRegression\n",
    "from sklearn.naive_bayes import GaussianNB\n",
    "from sklearn.neighbors import KNeighborsClassifier\n",
    "\n",
    "\n",
    "% matplotlib inline\n",
    "\n",
    "print('Python version', sys.version)\n",
    "print('Pandas version', pd.__version__)\n",
    "print('Numpy version', np.__version__)"
   ]
  },
  {
   "cell_type": "markdown",
   "metadata": {},
   "source": [
    "# Import pickled feature data"
   ]
  },
  {
   "cell_type": "code",
   "execution_count": 79,
   "metadata": {
    "ExecuteTime": {
     "end_time": "2018-02-20T14:23:23.371126Z",
     "start_time": "2018-02-20T14:23:23.351361Z"
    },
    "collapsed": true
   },
   "outputs": [],
   "source": [
    "data = pd.read_pickle('../data/processed/base_features.pkl')"
   ]
  },
  {
   "cell_type": "code",
   "execution_count": 80,
   "metadata": {
    "ExecuteTime": {
     "end_time": "2018-02-20T14:23:23.702058Z",
     "start_time": "2018-02-20T14:23:23.685698Z"
    }
   },
   "outputs": [
    {
     "data": {
      "text/html": [
       "<div>\n",
       "<style>\n",
       "    .dataframe thead tr:only-child th {\n",
       "        text-align: right;\n",
       "    }\n",
       "\n",
       "    .dataframe thead th {\n",
       "        text-align: left;\n",
       "    }\n",
       "\n",
       "    .dataframe tbody tr th {\n",
       "        vertical-align: top;\n",
       "    }\n",
       "</style>\n",
       "<table border=\"1\" class=\"dataframe\">\n",
       "  <thead>\n",
       "    <tr style=\"text-align: right;\">\n",
       "      <th></th>\n",
       "      <th>tweet_id</th>\n",
       "      <th>hour_created</th>\n",
       "      <th>weekday_created</th>\n",
       "      <th>photo_exists</th>\n",
       "      <th>tweet_sentiment</th>\n",
       "      <th>retweets_per_followers</th>\n",
       "      <th>favs_per_followers</th>\n",
       "      <th>rate_all_caps</th>\n",
       "      <th>retweet_count</th>\n",
       "      <th>favorite_count</th>\n",
       "      <th>text_length</th>\n",
       "      <th>target</th>\n",
       "    </tr>\n",
       "  </thead>\n",
       "  <tbody>\n",
       "    <tr>\n",
       "      <th>0</th>\n",
       "      <td>954068125439463425</td>\n",
       "      <td>19</td>\n",
       "      <td>3</td>\n",
       "      <td>0</td>\n",
       "      <td>1</td>\n",
       "      <td>0.002015</td>\n",
       "      <td>0.001936</td>\n",
       "      <td>0.030303</td>\n",
       "      <td>76</td>\n",
       "      <td>73</td>\n",
       "      <td>190</td>\n",
       "      <td>1</td>\n",
       "    </tr>\n",
       "    <tr>\n",
       "      <th>1</th>\n",
       "      <td>954396450611441664</td>\n",
       "      <td>16</td>\n",
       "      <td>4</td>\n",
       "      <td>0</td>\n",
       "      <td>1</td>\n",
       "      <td>0.000371</td>\n",
       "      <td>0.001114</td>\n",
       "      <td>0.000000</td>\n",
       "      <td>14</td>\n",
       "      <td>42</td>\n",
       "      <td>145</td>\n",
       "      <td>1</td>\n",
       "    </tr>\n",
       "    <tr>\n",
       "      <th>2</th>\n",
       "      <td>954409153203703808</td>\n",
       "      <td>17</td>\n",
       "      <td>4</td>\n",
       "      <td>0</td>\n",
       "      <td>1</td>\n",
       "      <td>0.001538</td>\n",
       "      <td>0.003686</td>\n",
       "      <td>0.058824</td>\n",
       "      <td>58</td>\n",
       "      <td>139</td>\n",
       "      <td>101</td>\n",
       "      <td>1</td>\n",
       "    </tr>\n",
       "    <tr>\n",
       "      <th>3</th>\n",
       "      <td>954480752573460480</td>\n",
       "      <td>22</td>\n",
       "      <td>4</td>\n",
       "      <td>0</td>\n",
       "      <td>-1</td>\n",
       "      <td>0.000663</td>\n",
       "      <td>0.001034</td>\n",
       "      <td>0.055556</td>\n",
       "      <td>25</td>\n",
       "      <td>39</td>\n",
       "      <td>144</td>\n",
       "      <td>1</td>\n",
       "    </tr>\n",
       "    <tr>\n",
       "      <th>4</th>\n",
       "      <td>954504963501314048</td>\n",
       "      <td>0</td>\n",
       "      <td>5</td>\n",
       "      <td>1</td>\n",
       "      <td>0</td>\n",
       "      <td>0.001220</td>\n",
       "      <td>0.002254</td>\n",
       "      <td>0.090909</td>\n",
       "      <td>46</td>\n",
       "      <td>85</td>\n",
       "      <td>80</td>\n",
       "      <td>1</td>\n",
       "    </tr>\n",
       "  </tbody>\n",
       "</table>\n",
       "</div>"
      ],
      "text/plain": [
       "             tweet_id  hour_created  weekday_created  photo_exists  \\\n",
       "0  954068125439463425            19                3             0   \n",
       "1  954396450611441664            16                4             0   \n",
       "2  954409153203703808            17                4             0   \n",
       "3  954480752573460480            22                4             0   \n",
       "4  954504963501314048             0                5             1   \n",
       "\n",
       "   tweet_sentiment  retweets_per_followers  favs_per_followers  rate_all_caps  \\\n",
       "0                1                0.002015            0.001936       0.030303   \n",
       "1                1                0.000371            0.001114       0.000000   \n",
       "2                1                0.001538            0.003686       0.058824   \n",
       "3               -1                0.000663            0.001034       0.055556   \n",
       "4                0                0.001220            0.002254       0.090909   \n",
       "\n",
       "   retweet_count  favorite_count  text_length  target  \n",
       "0             76              73          190       1  \n",
       "1             14              42          145       1  \n",
       "2             58             139          101       1  \n",
       "3             25              39          144       1  \n",
       "4             46              85           80       1  "
      ]
     },
     "execution_count": 80,
     "metadata": {},
     "output_type": "execute_result"
    }
   ],
   "source": [
    "data.head()"
   ]
  },
  {
   "cell_type": "markdown",
   "metadata": {},
   "source": [
    "# Define Evaluation Functions"
   ]
  },
  {
   "cell_type": "code",
   "execution_count": 103,
   "metadata": {
    "ExecuteTime": {
     "end_time": "2018-02-20T14:38:19.010578Z",
     "start_time": "2018-02-20T14:38:19.003158Z"
    },
    "collapsed": true
   },
   "outputs": [],
   "source": [
    "# Generate a confusion matrix plot\n",
    "def plot_confusion_matrix(cm, title='Confusion Matrix', cmap=plt.cm.Blues):\n",
    "    plt.imshow(cm, interpolation='nearest', cmap=cmap)\n",
    "    plt.title(title)\n",
    "    plt.colorbar()\n",
    "    plt.tight_layout()\n",
    "    plt.ylabel('True label')\n",
    "    plt.xlabel('Predicted label')"
   ]
  },
  {
   "cell_type": "code",
   "execution_count": 112,
   "metadata": {
    "ExecuteTime": {
     "end_time": "2018-02-20T14:44:14.849843Z",
     "start_time": "2018-02-20T14:44:14.831385Z"
    },
    "collapsed": true
   },
   "outputs": [],
   "source": [
    "def find_auc(y_test, y_score):\n",
    "    \n",
    "    fpr, tpr, _ = roc_curve(y_test, y_score)\n",
    "    roc_auc = auc(fpr, tpr)\n",
    "\n",
    "    plt.figure(figsize=(6, 6))\n",
    "\n",
    "    plt.plot([0,1],[0,1], linestyle=\":\", color='grey', linewidth=4) # this is our baseline\n",
    "    plt.plot(fpr, tpr, color='steelblue', linewidth=4, label=\"AUC=\"+str(round(roc_auc, 3))) # this is our ROC curve\n",
    "    \n",
    "    plt.xlabel('FPR', fontsize=20)\n",
    "    plt.ylabel('TPR', fontsize=20)\n",
    "    plt.legend(loc=0)\n",
    "\n",
    "    plt.show()\n",
    "\n",
    "\n",
    "    print('AUC: ', roc_auc)"
   ]
  },
  {
   "cell_type": "code",
   "execution_count": 83,
   "metadata": {
    "ExecuteTime": {
     "end_time": "2018-02-20T14:23:24.714142Z",
     "start_time": "2018-02-20T14:23:24.704799Z"
    },
    "collapsed": true
   },
   "outputs": [],
   "source": [
    "def split_train_test(features, target, test_size, seed):\n",
    "    \"\"\"\n",
    "    Split data into training and test sets before cross validation on training set\n",
    "    \"\"\"\n",
    "    assert isinstance(features, np.ndarray) and isinstance(target, np.ndarray), 'Inputs and target must be np.arrays'\n",
    "\n",
    "    # Split features and response into training and validation sets\n",
    "    validation_size = test_size\n",
    "    X_train, X_validation, Y_train, Y_validation = train_test_split(features, target,\n",
    "                                                                    test_size=validation_size,\n",
    "                                                                    random_state=seed)\n",
    "\n",
    "    return X_train, X_validation, Y_train, Y_validation"
   ]
  },
  {
   "cell_type": "code",
   "execution_count": 84,
   "metadata": {
    "ExecuteTime": {
     "end_time": "2018-02-20T14:23:24.965035Z",
     "start_time": "2018-02-20T14:23:24.863708Z"
    },
    "collapsed": true
   },
   "outputs": [],
   "source": [
    "def find_best_classifier(features, target, seed, k_folds, crossval_scoring, feature_names):\n",
    "\n",
    "    \"\"\"\n",
    "    Test multiple classifiers using cross validation.\n",
    "    Evaluate performance to find model with highest score as defined by the 'crossval_scoring' argument \n",
    "    ('roc_auc', 'f1', log_loss', precision', 'recall', etc)\n",
    "    \"\"\"\n",
    "\n",
    "    # Test options and evaluation metric\n",
    "    scoring=crossval_scoring\n",
    "\n",
    "    # Spot Check Algorithms\n",
    "    models = []\n",
    "    models.append(('LogisticRegression', LogisticRegression()))\n",
    "    models.append(('LinearDiscriminantAnalysis', LinearDiscriminantAnalysis()))\n",
    "    models.append(('KNeighborsClassifier', KNeighborsClassifier()))\n",
    "    models.append(('DecisionTree', DecisionTreeClassifier(random_state=seed)))\n",
    "    models.append(('NaiveBayesGaussian', GaussianNB()))\n",
    "    models.append(('RandomForest', RandomForestClassifier(random_state=seed)))\n",
    "    models.append(('GradientBoosting', GradientBoostingClassifier(random_state=seed)))\n",
    "\n",
    "\n",
    "    # Evaluate each model in turn\n",
    "    results = []\n",
    "    names = []\n",
    "\n",
    "    for name, model in models:\n",
    "        kfold = StratifiedKFold(n_splits=k_folds, random_state=seed)\n",
    "        cv_results = cross_val_score(model, features, target, cv=kfold, scoring=scoring)\n",
    "        results.append(cv_results)\n",
    "        names.append(name)\n",
    "        msg = \"%s: %s (%f), std (%f)\" % (name, scoring, cv_results.mean(), cv_results.std())\n",
    "        print(msg)\n",
    "\n",
    "    zipped_eval = zip(models, [i.mean() for i in results])\n",
    "    model_eval = sorted(zipped_eval, key=operator.itemgetter(1))\n",
    "    \n",
    "    best_clf = model_eval[-1][0][1]\n",
    "    clf_name = model_eval[-1][0][0]\n",
    "    print(\"\\n Model with best {} is {}\".format(scoring, clf_name))\n",
    "    print('\\n', best_clf)\n",
    "    \n",
    "    print('\\n Feature Importance:')\n",
    "    try:\n",
    "        clf = best_clf\n",
    "        clf.fit(features, target)\n",
    "\n",
    "        for i in zip(feature_names, clf.feature_importances_):\n",
    "            print(i)\n",
    "            \n",
    "        feat_imp = pd.Series(clf.feature_importances_, feature_names).sort_values(ascending=False)\n",
    "        feat_imp.plot(kind='bar', title='Feature Importances')\n",
    "        plt.ylabel('Feature Importance Score')\n",
    "        \n",
    "    except AttributeError:\n",
    "        print(' Not available for {}'.format(clf_name))\n",
    "        \n",
    "    return best_clf"
   ]
  },
  {
   "cell_type": "markdown",
   "metadata": {},
   "source": [
    "# Find Best Classifier"
   ]
  },
  {
   "cell_type": "code",
   "execution_count": 85,
   "metadata": {
    "ExecuteTime": {
     "end_time": "2018-02-20T14:23:25.196087Z",
     "start_time": "2018-02-20T14:23:25.174102Z"
    }
   },
   "outputs": [],
   "source": [
    "target = data.pop('target')\n",
    "target_array = np.array([int(x) for x in target])\n",
    "\n",
    "features = data.drop(['tweet_id'], axis=1)\n",
    "features_array = np.array(features)"
   ]
  },
  {
   "cell_type": "code",
   "execution_count": 86,
   "metadata": {
    "ExecuteTime": {
     "end_time": "2018-02-20T14:23:25.353250Z",
     "start_time": "2018-02-20T14:23:25.343485Z"
    }
   },
   "outputs": [],
   "source": [
    "X_train, X_validation, Y_train, Y_validation = split_train_test(features=features_array, \n",
    "                                                                target=target_array, \n",
    "                                                                test_size=.2, seed=42)"
   ]
  },
  {
   "cell_type": "markdown",
   "metadata": {
    "ExecuteTime": {
     "end_time": "2018-02-16T20:56:20.129880Z",
     "start_time": "2018-02-16T20:56:20.125759Z"
    }
   },
   "source": [
    "## Test for optimal ROC AUC Score"
   ]
  },
  {
   "cell_type": "code",
   "execution_count": 87,
   "metadata": {
    "ExecuteTime": {
     "end_time": "2018-02-20T14:23:38.324066Z",
     "start_time": "2018-02-20T14:23:25.746800Z"
    }
   },
   "outputs": [
    {
     "name": "stdout",
     "output_type": "stream",
     "text": [
      "LogisticRegression: roc_auc (0.601621), std (0.003623)\n",
      "LinearDiscriminantAnalysis: roc_auc (0.615896), std (0.005646)\n",
      "KNeighborsClassifier: roc_auc (0.582537), std (0.005166)\n",
      "DecisionTree: roc_auc (0.607189), std (0.006052)\n",
      "NaiveBayesGaussian: roc_auc (0.604923), std (0.005639)\n",
      "RandomForest: roc_auc (0.701140), std (0.003384)\n",
      "GradientBoosting: roc_auc (0.715069), std (0.005409)\n",
      "\n",
      " Model with best roc_auc is GradientBoosting\n",
      "\n",
      " GradientBoostingClassifier(criterion='friedman_mse', init=None,\n",
      "              learning_rate=0.1, loss='deviance', max_depth=3,\n",
      "              max_features=None, max_leaf_nodes=None,\n",
      "              min_impurity_decrease=0.0, min_impurity_split=None,\n",
      "              min_samples_leaf=1, min_samples_split=2,\n",
      "              min_weight_fraction_leaf=0.0, n_estimators=100,\n",
      "              presort='auto', random_state=42, subsample=1.0, verbose=0,\n",
      "              warm_start=False)\n",
      "\n",
      " Feature Importance:\n",
      "('hour_created', 0.07575005791508847)\n",
      "('weekday_created', 0.03927961267722298)\n",
      "('photo_exists', 0.024359117899577374)\n",
      "('tweet_sentiment', 0.0233607159384369)\n",
      "('retweets_per_followers', 0.2478536216939468)\n",
      "('favs_per_followers', 0.20323884237825024)\n",
      "('rate_all_caps', 0.0735760793845008)\n",
      "('retweet_count', 0.1516371522288889)\n",
      "('favorite_count', 0.09509088744761433)\n",
      "('text_length', 0.06585391243647302)\n"
     ]
    },
    {
     "data": {
      "image/png": "[encoded data removed]",
      "text/plain": [
       "<matplotlib.figure.Figure at 0x1a0e1c58d0>"
      ]
     },
     "metadata": {},
     "output_type": "display_data"
    }
   ],
   "source": [
    "best_clf = find_best_classifier(features=X_train, \n",
    "                                target=Y_train, \n",
    "                                seed=42, \n",
    "                                k_folds=5, \n",
    "                                crossval_scoring='roc_auc', \n",
    "                                feature_names=list(features))"
   ]
  },
  {
   "cell_type": "markdown",
   "metadata": {},
   "source": [
    "## Test for optimal Log Loss"
   ]
  },
  {
   "cell_type": "code",
   "execution_count": 88,
   "metadata": {
    "ExecuteTime": {
     "end_time": "2018-02-20T14:23:50.994485Z",
     "start_time": "2018-02-20T14:23:38.407020Z"
    }
   },
   "outputs": [
    {
     "name": "stdout",
     "output_type": "stream",
     "text": [
      "LogisticRegression: neg_log_loss (-0.668673), std (0.002291)\n",
      "LinearDiscriminantAnalysis: neg_log_loss (-0.665405), std (0.001321)\n",
      "KNeighborsClassifier: neg_log_loss (-2.028503), std (0.034937)\n",
      "DecisionTree: neg_log_loss (-13.354142), std (0.188100)\n",
      "NaiveBayesGaussian: neg_log_loss (-0.976134), std (0.100742)\n",
      "RandomForest: neg_log_loss (-0.889549), std (0.016814)\n",
      "GradientBoosting: neg_log_loss (-0.611261), std (0.002840)\n",
      "\n",
      " Model with best neg_log_loss is GradientBoosting\n",
      "\n",
      " GradientBoostingClassifier(criterion='friedman_mse', init=None,\n",
      "              learning_rate=0.1, loss='deviance', max_depth=3,\n",
      "              max_features=None, max_leaf_nodes=None,\n",
      "              min_impurity_decrease=0.0, min_impurity_split=None,\n",
      "              min_samples_leaf=1, min_samples_split=2,\n",
      "              min_weight_fraction_leaf=0.0, n_estimators=100,\n",
      "              presort='auto', random_state=42, subsample=1.0, verbose=0,\n",
      "              warm_start=False)\n",
      "\n",
      " Feature Importance:\n",
      "('hour_created', 0.07575005791508847)\n",
      "('weekday_created', 0.03927961267722298)\n",
      "('photo_exists', 0.024359117899577374)\n",
      "('tweet_sentiment', 0.0233607159384369)\n",
      "('retweets_per_followers', 0.2478536216939468)\n",
      "('favs_per_followers', 0.20323884237825024)\n",
      "('rate_all_caps', 0.0735760793845008)\n",
      "('retweet_count', 0.1516371522288889)\n",
      "('favorite_count', 0.09509088744761433)\n",
      "('text_length', 0.06585391243647302)\n"
     ]
    },
    {
     "data": {
      "image/png": "[encoded data removed]",
      "text/plain": [
       "<matplotlib.figure.Figure at 0x1a1afb9c50>"
      ]
     },
     "metadata": {},
     "output_type": "display_data"
    }
   ],
   "source": [
    "best_clf = find_best_classifier(features=X_train, \n",
    "                                target=Y_train, \n",
    "                                seed=42, \n",
    "                                k_folds=5, \n",
    "                                crossval_scoring='neg_log_loss', \n",
    "                                feature_names=list(features))"
   ]
  },
  {
   "cell_type": "markdown",
   "metadata": {},
   "source": [
    "## Test for optimal F1 Score"
   ]
  },
  {
   "cell_type": "code",
   "execution_count": 89,
   "metadata": {
    "ExecuteTime": {
     "end_time": "2018-02-20T14:24:02.389005Z",
     "start_time": "2018-02-20T14:23:51.145057Z"
    }
   },
   "outputs": [
    {
     "name": "stdout",
     "output_type": "stream",
     "text": [
      "LogisticRegression: f1 (0.394173), std (0.013750)\n",
      "LinearDiscriminantAnalysis: f1 (0.393588), std (0.009419)\n",
      "KNeighborsClassifier: f1 (0.490459), std (0.007069)\n",
      "DecisionTree: f1 (0.557365), std (0.008380)\n",
      "NaiveBayesGaussian: f1 (0.605542), std (0.001463)\n",
      "RandomForest: f1 (0.545066), std (0.004123)\n",
      "GradientBoosting: f1 (0.570645), std (0.003421)\n",
      "\n",
      " Model with best f1 is NaiveBayesGaussian\n",
      "\n",
      " GaussianNB(priors=None)\n",
      "\n",
      " Feature Importance:\n",
      " Not available for NaiveBayesGaussian\n"
     ]
    }
   ],
   "source": [
    "best_clf = find_best_classifier(features=X_train, \n",
    "                                target=Y_train, \n",
    "                                seed=42, \n",
    "                                k_folds=5, \n",
    "                                crossval_scoring='f1', \n",
    "                                feature_names=list(features))"
   ]
  },
  {
   "cell_type": "markdown",
   "metadata": {
    "ExecuteTime": {
     "end_time": "2018-02-16T21:07:33.775514Z",
     "start_time": "2018-02-16T21:07:33.771803Z"
    }
   },
   "source": [
    "# Find Best Parameters"
   ]
  },
  {
   "cell_type": "code",
   "execution_count": 90,
   "metadata": {
    "ExecuteTime": {
     "end_time": "2018-02-20T14:24:02.466285Z",
     "start_time": "2018-02-20T14:24:02.458131Z"
    },
    "collapsed": true
   },
   "outputs": [],
   "source": [
    "def find_best_params(model, parameter_dict, scoring, features, target, feature_names):\n",
    "    \"\"\"\n",
    "    Use GridSearchCV to find optimal parameters for a given model\n",
    "    \"\"\"\n",
    "    gsearch = GridSearchCV(estimator=model, param_grid=parameter_dict, \n",
    "                           scoring=scoring,n_jobs=4,iid=False, cv=5)\n",
    "    \n",
    "    gsearch.fit(features, target)\n",
    "    \n",
    "    print(gsearch.best_score_)\n",
    "    print(gsearch.best_params_)\n"
   ]
  },
  {
   "cell_type": "markdown",
   "metadata": {},
   "source": [
    "## Find best number estimators"
   ]
  },
  {
   "cell_type": "code",
   "execution_count": 91,
   "metadata": {
    "ExecuteTime": {
     "end_time": "2018-02-20T14:24:02.547213Z",
     "start_time": "2018-02-20T14:24:02.539957Z"
    },
    "collapsed": true
   },
   "outputs": [],
   "source": [
    "gbc1 =  GradientBoostingClassifier(criterion='friedman_mse', \n",
    "                                  init=None,\n",
    "                                  learning_rate=0.1, \n",
    "                                  loss='deviance', \n",
    "                                  max_depth=3,\n",
    "                                  max_features=None, \n",
    "                                  max_leaf_nodes=None,\n",
    "                                  min_impurity_decrease=0.0, \n",
    "                                  min_impurity_split=None,\n",
    "                                  min_samples_leaf=1, \n",
    "                                  min_samples_split=2,\n",
    "                                  min_weight_fraction_leaf=0.0,\n",
    "                                  presort='auto', \n",
    "                                  random_state=42, \n",
    "                                  subsample=1.0, \n",
    "                                  verbose=0,\n",
    "                                  warm_start=False)"
   ]
  },
  {
   "cell_type": "code",
   "execution_count": 92,
   "metadata": {
    "ExecuteTime": {
     "end_time": "2018-02-20T14:24:02.627740Z",
     "start_time": "2018-02-20T14:24:02.623893Z"
    },
    "collapsed": true
   },
   "outputs": [],
   "source": [
    "parameters1 = {'n_estimators':range(20,200,10)}"
   ]
  },
  {
   "cell_type": "code",
   "execution_count": 93,
   "metadata": {
    "ExecuteTime": {
     "end_time": "2018-02-20T14:25:18.464898Z",
     "start_time": "2018-02-20T14:24:02.698926Z"
    }
   },
   "outputs": [
    {
     "name": "stdout",
     "output_type": "stream",
     "text": [
      "0.729346085437071\n",
      "{'n_estimators': 190}\n"
     ]
    }
   ],
   "source": [
    "find_best_params(model=gbc1, \n",
    "                 parameter_dict=parameters1, \n",
    "                 scoring='roc_auc',\n",
    "                 features=X_train,\n",
    "                 target=Y_train,\n",
    "                 feature_names=list(features))"
   ]
  },
  {
   "cell_type": "markdown",
   "metadata": {},
   "source": [
    "## Find best learning rate"
   ]
  },
  {
   "cell_type": "code",
   "execution_count": 94,
   "metadata": {
    "ExecuteTime": {
     "end_time": "2018-02-20T14:25:18.547471Z",
     "start_time": "2018-02-20T14:25:18.539316Z"
    },
    "collapsed": true
   },
   "outputs": [],
   "source": [
    "gbc2 =  GradientBoostingClassifier(criterion='friedman_mse', \n",
    "                                  init=None, \n",
    "                                  loss='deviance', \n",
    "                                  max_depth=3,\n",
    "                                  max_features=None, \n",
    "                                  max_leaf_nodes=None,\n",
    "                                  min_impurity_decrease=0.0, \n",
    "                                  min_impurity_split=None,\n",
    "                                  min_samples_leaf=1, \n",
    "                                  min_samples_split=2,\n",
    "                                  min_weight_fraction_leaf=0.0,\n",
    "                                  presort='auto',\n",
    "                                  n_estimators=190,\n",
    "                                  random_state=42, \n",
    "                                  subsample=1.0, \n",
    "                                  verbose=0,\n",
    "                                  warm_start=False)"
   ]
  },
  {
   "cell_type": "code",
   "execution_count": 95,
   "metadata": {
    "ExecuteTime": {
     "end_time": "2018-02-20T14:25:18.621757Z",
     "start_time": "2018-02-20T14:25:18.617913Z"
    },
    "collapsed": true
   },
   "outputs": [],
   "source": [
    "parameters2 = {'learning_rate':[0.0001, 0.001, 0.01, 0.1, 0.2, 0.3, 0.5, 1.0, 10.0]}"
   ]
  },
  {
   "cell_type": "code",
   "execution_count": 96,
   "metadata": {
    "ExecuteTime": {
     "end_time": "2018-02-20T14:26:23.473707Z",
     "start_time": "2018-02-20T14:25:18.704593Z"
    }
   },
   "outputs": [
    {
     "name": "stdout",
     "output_type": "stream",
     "text": [
      "0.7776273251595764\n",
      "{'learning_rate': 0.5}\n"
     ]
    }
   ],
   "source": [
    "find_best_params(model=gbc2, \n",
    "                 parameter_dict=parameters2, \n",
    "                 scoring='roc_auc',\n",
    "                 features=X_train,\n",
    "                 target=Y_train,\n",
    "                 feature_names=list(features))"
   ]
  },
  {
   "cell_type": "markdown",
   "metadata": {},
   "source": [
    "## Find best max_depth and min_samples_leaf"
   ]
  },
  {
   "cell_type": "code",
   "execution_count": 97,
   "metadata": {
    "ExecuteTime": {
     "end_time": "2018-02-20T14:26:23.561072Z",
     "start_time": "2018-02-20T14:26:23.552912Z"
    },
    "collapsed": true
   },
   "outputs": [],
   "source": [
    "gbc3 =  GradientBoostingClassifier(criterion='friedman_mse', \n",
    "                                  init=None, \n",
    "                                  loss='deviance', \n",
    "                                  max_features=None, \n",
    "                                  max_leaf_nodes=None,\n",
    "                                  min_impurity_decrease=0.0, \n",
    "                                  min_impurity_split=None,\n",
    "                                  min_samples_split=2,\n",
    "                                  min_weight_fraction_leaf=0.0,\n",
    "                                  presort='auto',\n",
    "                                  n_estimators=190,\n",
    "                                  random_state=42,\n",
    "                                  learning_rate=0.5, \n",
    "                                  subsample=1.0, \n",
    "                                  verbose=0,\n",
    "                                  warm_start=False)"
   ]
  },
  {
   "cell_type": "code",
   "execution_count": 98,
   "metadata": {
    "ExecuteTime": {
     "end_time": "2018-02-20T14:26:23.639344Z",
     "start_time": "2018-02-20T14:26:23.634629Z"
    },
    "collapsed": true
   },
   "outputs": [],
   "source": [
    "parameters3 = {'max_depth':[3, 5, 8, 10],\n",
    "               'min_samples_leaf':range(1, 100, 10)}"
   ]
  },
  {
   "cell_type": "code",
   "execution_count": 99,
   "metadata": {
    "ExecuteTime": {
     "end_time": "2018-02-20T14:37:36.641486Z",
     "start_time": "2018-02-20T14:26:23.713988Z"
    }
   },
   "outputs": [
    {
     "name": "stdout",
     "output_type": "stream",
     "text": [
      "-0.541393980883978\n",
      "{'max_depth': 5, 'min_samples_leaf': 11}\n"
     ]
    }
   ],
   "source": [
    "find_best_params(model=gbc3, \n",
    "                 parameter_dict=parameters3, \n",
    "                 scoring='neg_log_loss',\n",
    "                 features=X_train,\n",
    "                 target=Y_train,\n",
    "                 feature_names=list(features))"
   ]
  },
  {
   "cell_type": "markdown",
   "metadata": {},
   "source": [
    "# Visualize Results of Best Classifier on Test Set"
   ]
  },
  {
   "cell_type": "code",
   "execution_count": 100,
   "metadata": {
    "ExecuteTime": {
     "end_time": "2018-02-20T14:37:36.759926Z",
     "start_time": "2018-02-20T14:37:36.716807Z"
    },
    "collapsed": true
   },
   "outputs": [],
   "source": [
    "def train_test_score(best_classifier, X_train, X_validation, Y_train, Y_validation):\n",
    "    \n",
    "    # fit a model\n",
    "    clf = best_classifier.fit(X_train, Y_train)\n",
    "    \n",
    "    # score the model (accuracy)\n",
    "    train_acc = clf.score(X_train, Y_train)\n",
    "    test_acc = clf.score(X_validation, Y_validation)\n",
    "    print(\"Training Data Accuracy: %0.2f\" %(train_acc))\n",
    "    print(\"Test Data Accuracy:     %0.2f\" %(test_acc))\n",
    "\n",
    "    # create a confusion matrix\n",
    "    y_true = Y_validation\n",
    "    y_pred = clf.predict(X_validation)\n",
    "    \n",
    "    conf = confusion_matrix(y_true, y_pred)\n",
    "    print ('\\n')\n",
    "    print(conf)\n",
    "\n",
    "    print ('\\n')\n",
    "    print (\"Precision:              %0.2f\" %(conf[1, 1] / (conf[0, 1] + conf[1, 1])))\n",
    "    print (\"Recall:                 %0.2f\"% (conf[1, 1] / (conf[1, 0] + conf[1, 1])))\n",
    "\n",
    "    cm = confusion_matrix(y_true, y_pred, labels=None)\n",
    "    # plot the confusion matrix\n",
    "\n",
    "    print ('\\n')\n",
    "    plt.figure(figsize=(6, 6))\n",
    "    plot_confusion_matrix(cm)\n",
    "    plt.show()\n",
    "       \n",
    "    print('\\n')\n",
    "    y_pred_prob = clf.predict_proba(X_validation)\n",
    "    y_prob = [pred[1] for pred in y_pred_prob]\n",
    "    \n",
    "    find_auc(y_test=y_true, y_score=y_prob)"
   ]
  },
  {
   "cell_type": "code",
   "execution_count": 101,
   "metadata": {
    "ExecuteTime": {
     "end_time": "2018-02-20T14:37:36.854126Z",
     "start_time": "2018-02-20T14:37:36.840186Z"
    },
    "collapsed": true
   },
   "outputs": [],
   "source": [
    "tuned_classifier = GradientBoostingClassifier(criterion='friedman_mse', \n",
    "                                             init=None, \n",
    "                                             loss='deviance', \n",
    "                                             max_depth=5,\n",
    "                                             max_features=None, \n",
    "                                             max_leaf_nodes=None,\n",
    "                                             min_impurity_decrease=0.0, \n",
    "                                             min_impurity_split=None,\n",
    "                                             min_samples_leaf=11, \n",
    "                                             min_samples_split=2,\n",
    "                                             min_weight_fraction_leaf=0.0,\n",
    "                                             presort='auto',\n",
    "                                             n_estimators=190,\n",
    "                                             random_state=42, \n",
    "                                             subsample=1.0, \n",
    "                                             verbose=0,\n",
    "                                             learning_rate=0.5,\n",
    "                                             warm_start=False)"
   ]
  },
  {
   "cell_type": "code",
   "execution_count": 113,
   "metadata": {
    "ExecuteTime": {
     "end_time": "2018-02-20T14:44:25.623421Z",
     "start_time": "2018-02-20T14:44:19.701450Z"
    }
   },
   "outputs": [
    {
     "name": "stdout",
     "output_type": "stream",
     "text": [
      "Training Data Accuracy: 0.89\n",
      "Test Data Accuracy:     0.75\n",
      "\n",
      "\n",
      "[[3297  758]\n",
      " [1068 2158]]\n",
      "\n",
      "\n",
      "Precision:              0.74\n",
      "Recall:                 0.67\n",
      "\n",
      "\n"
     ]
    },
    {
     "data": {
      "image/png": "[encoded data removed]",
      "text/plain": [
       "<matplotlib.figure.Figure at 0x1a1ad62d30>"
      ]
     },
     "metadata": {},
     "output_type": "display_data"
    },
    {
     "name": "stdout",
     "output_type": "stream",
     "text": [
      "\n",
      "\n"
     ]
    },
    {
     "data": {
      "image/png": "[encoded data removed]",
      "text/plain": [
       "<matplotlib.figure.Figure at 0x1a1b63ba90>"
      ]
     },
     "metadata": {},
     "output_type": "display_data"
    },
    {
     "name": "stdout",
     "output_type": "stream",
     "text": [
      "AUC:  0.8164920043145132\n"
     ]
    }
   ],
   "source": [
    "train_test_score(tuned_classifier, X_train, X_validation, Y_train, Y_validation)"
   ]
  },
  {
   "cell_type": "markdown",
   "metadata": {},
   "source": [
    "# Fit Training Data and Pickle Best CLF & Test Data"
   ]
  },
  {
   "cell_type": "code",
   "execution_count": 44,
   "metadata": {
    "ExecuteTime": {
     "end_time": "2018-02-19T23:14:25.996154Z",
     "start_time": "2018-02-19T23:14:20.596145Z"
    }
   },
   "outputs": [
    {
     "data": {
      "text/plain": [
       "GradientBoostingClassifier(criterion='friedman_mse', init=None,\n",
       "              learning_rate=0.5, loss='deviance', max_depth=5,\n",
       "              max_features=None, max_leaf_nodes=None,\n",
       "              min_impurity_decrease=0.0, min_impurity_split=None,\n",
       "              min_samples_leaf=11, min_samples_split=2,\n",
       "              min_weight_fraction_leaf=0.0, n_estimators=190,\n",
       "              presort='auto', random_state=42, subsample=1.0, verbose=0,\n",
       "              warm_start=False)"
      ]
     },
     "execution_count": 44,
     "metadata": {},
     "output_type": "execute_result"
    }
   ],
   "source": [
    "tuned_classifier.fit(X_train, Y_train)"
   ]
  },
  {
   "cell_type": "code",
   "execution_count": 47,
   "metadata": {
    "ExecuteTime": {
     "end_time": "2018-02-19T23:14:54.778700Z",
     "start_time": "2018-02-19T23:14:54.764488Z"
    }
   },
   "outputs": [],
   "source": [
    "with open('../models/gcb_trained_base_clf.pkl', 'wb') as file:\n",
    "    pickle.dump(tuned_classifier, file)"
   ]
  },
  {
   "cell_type": "code",
   "execution_count": null,
   "metadata": {
    "collapsed": true
   },
   "outputs": [],
   "source": []
  }
 ],
 "metadata": {
  "kernelspec": {
   "display_name": "Python 3",
   "language": "python",
   "name": "python3"
  },
  "language_info": {
   "codemirror_mode": {
    "name": "ipython",
    "version": 3
   },
   "file_extension": ".py",
   "mimetype": "text/x-python",
   "name": "python",
   "nbconvert_exporter": "python",
   "pygments_lexer": "ipython3",
   "version": "3.6.3"
  },
  "toc": {
   "nav_menu": {},
   "number_sections": true,
   "sideBar": true,
   "skip_h1_title": false,
   "title_cell": "Table of Contents",
   "title_sidebar": "Contents",
   "toc_cell": false,
   "toc_position": {},
   "toc_section_display": true,
   "toc_window_display": true
  },
  "varInspector": {
   "cols": {
    "lenName": 16,
    "lenType": 16,
    "lenVar": 40
   },
   "kernels_config": {
    "python": {
     "delete_cmd_postfix": "",
     "delete_cmd_prefix": "del ",
     "library": "var_list.py",
     "varRefreshCmd": "print(var_dic_list())"
    },
    "r": {
     "delete_cmd_postfix": ") ",
     "delete_cmd_prefix": "rm(",
     "library": "var_list.r",
     "varRefreshCmd": "cat(var_dic_list()) "
    }
   },
   "types_to_exclude": [
    "module",
    "function",
    "builtin_function_or_method",
    "instance",
    "_Feature"
   ],
   "window_display": false
  }
 },
 "nbformat": 4,
 "nbformat_minor": 2
}
