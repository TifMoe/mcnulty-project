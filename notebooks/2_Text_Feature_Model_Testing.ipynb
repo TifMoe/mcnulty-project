{
 "cells": [
  {
   "cell_type": "code",
   "execution_count": 2,
   "metadata": {
    "ExecuteTime": {
     "end_time": "2018-02-20T21:47:16.973469Z",
     "start_time": "2018-02-20T21:47:15.865814Z"
    }
   },
   "outputs": [
    {
     "name": "stdout",
     "output_type": "stream",
     "text": [
      "Python version 3.6.3 |Anaconda custom (64-bit)| (default, Oct  6 2017, 12:04:38) \n",
      "[GCC 4.2.1 Compatible Clang 4.0.1 (tags/RELEASE_401/final)]\n",
      "Pandas version 0.20.3\n",
      "Numpy version 1.14.0\n"
     ]
    }
   ],
   "source": [
    "import pandas as pd\n",
    "import numpy as np\n",
    "import sys\n",
    "import matplotlib.pyplot as plt\n",
    "import pickle\n",
    "import operator\n",
    "import seaborn as sns\n",
    "import nltk\n",
    "from sklearn.metrics import confusion_matrix\n",
    "from sklearn.model_selection import train_test_split, StratifiedKFold, cross_val_score, GridSearchCV\n",
    "from sklearn.metrics import roc_curve, auc\n",
    "from sklearn import metrics\n",
    "from sklearn.ensemble import RandomForestClassifier, GradientBoostingClassifier\n",
    "from sklearn.naive_bayes import GaussianNB, BernoulliNB\n",
    "\n",
    "% matplotlib inline\n",
    "\n",
    "print('Python version', sys.version)\n",
    "print('Pandas version', pd.__version__)\n",
    "print('Numpy version', np.__version__)"
   ]
  },
  {
   "cell_type": "markdown",
   "metadata": {},
   "source": [
    "# Import pickled text feature data"
   ]
  },
  {
   "cell_type": "code",
   "execution_count": 3,
   "metadata": {
    "ExecuteTime": {
     "end_time": "2018-02-20T21:47:17.066155Z",
     "start_time": "2018-02-20T21:47:16.986095Z"
    },
    "collapsed": true
   },
   "outputs": [],
   "source": [
    "train_features = pd.read_pickle('../data/processed/train_text_features.pkl')\n",
    "\n",
    "train_tar = train_features.pop('target')\n",
    "train_target = np.array([int(i) for i in train_tar])"
   ]
  },
  {
   "cell_type": "code",
   "execution_count": 4,
   "metadata": {
    "ExecuteTime": {
     "end_time": "2018-02-20T21:47:17.185819Z",
     "start_time": "2018-02-20T21:47:17.163113Z"
    },
    "collapsed": true
   },
   "outputs": [],
   "source": [
    "test_features = pd.read_pickle('../data/processed/test_text_features.pkl')\n",
    "\n",
    "test_tar = test_features.pop('target')\n",
    "test_target = np.array([int(i) for i in test_tar])"
   ]
  },
  {
   "cell_type": "markdown",
   "metadata": {},
   "source": [
    "# Define Evaluation Functions"
   ]
  },
  {
   "cell_type": "code",
   "execution_count": 5,
   "metadata": {
    "ExecuteTime": {
     "end_time": "2018-02-20T21:47:18.179749Z",
     "start_time": "2018-02-20T21:47:18.172590Z"
    }
   },
   "outputs": [],
   "source": [
    "# Generate a confusion matrix plot\n",
    "def plot_confusion_matrix(cm, title='Confusion Matrix', cmap=plt.cm.Greys):\n",
    "    plt.imshow(cm, interpolation='nearest', cmap=cmap)\n",
    "    plt.title(title)\n",
    "    plt.colorbar()\n",
    "    plt.tight_layout()\n",
    "    plt.ylabel('True label')\n",
    "    plt.xlabel('Predicted label')"
   ]
  },
  {
   "cell_type": "code",
   "execution_count": 6,
   "metadata": {
    "ExecuteTime": {
     "end_time": "2018-02-20T21:47:19.173650Z",
     "start_time": "2018-02-20T21:47:19.155490Z"
    },
    "collapsed": true
   },
   "outputs": [],
   "source": [
    "def find_auc(y_test, y_score):\n",
    "    \n",
    "    fpr, tpr, _ = roc_curve(y_test, y_score)\n",
    "    roc_auc = auc(fpr, tpr)\n",
    "\n",
    "    plt.figure(figsize=(6, 6))\n",
    "\n",
    "    plt.plot([0,1],[0,1], linestyle=\":\", color='grey', linewidth=4) # this is our baseline\n",
    "    plt.plot(fpr, tpr, color='purple', alpha=.7, linewidth=3, label=\"AUC=\"+str(round(roc_auc, 3))) # this is our ROC curve\n",
    "    \n",
    "    plt.xlabel('FPR', fontsize=20)\n",
    "    plt.ylabel('TPR', fontsize=20)\n",
    "    plt.legend(loc=0)\n",
    "\n",
    "    plt.show()\n",
    "\n",
    "    print('AUC: ', roc_auc)"
   ]
  },
  {
   "cell_type": "code",
   "execution_count": 7,
   "metadata": {
    "ExecuteTime": {
     "end_time": "2018-02-20T21:47:20.588086Z",
     "start_time": "2018-02-20T21:47:20.580297Z"
    },
    "collapsed": true
   },
   "outputs": [],
   "source": [
    "def show_most_informative_features(vectorizer, clf, n=20):\n",
    "    \"\"\"\n",
    "    Utility function to show most informative features from sklearn\n",
    "    \"\"\"\n",
    "    feature_names = vectorizer.get_feature_names()\n",
    "    coefs_with_fns = sorted(zip(clf.coef_[0], feature_names))\n",
    "    top = zip(coefs_with_fns[:n], coefs_with_fns[:-(n + 1):-1])\n",
    "    for (coef_1, fn_1), (coef_2, fn_2) in top:\n",
    "        print(\"\\t%.4f\\t%-15s\\t\\t%.4f\\t%-15s\" % (coef_1, fn_1, coef_2, fn_2))"
   ]
  },
  {
   "cell_type": "code",
   "execution_count": 8,
   "metadata": {
    "ExecuteTime": {
     "end_time": "2018-02-20T21:47:21.427533Z",
     "start_time": "2018-02-20T21:47:21.353547Z"
    },
    "collapsed": true
   },
   "outputs": [],
   "source": [
    "def find_best_classifier(features, target, seed, k_folds, crossval_scoring, feature_names):\n",
    "\n",
    "    \"\"\"\n",
    "    Test multiple classifiers using cross validation.\n",
    "    Evaluate performance to find model with highest score as defined by the 'crossval_scoring' argument \n",
    "    ('roc_auc', 'f1', log_loss', precision', 'recall', etc)\n",
    "    \"\"\"\n",
    "\n",
    "    # Test options and evaluation metric\n",
    "    scoring=crossval_scoring\n",
    "\n",
    "    # Spot Check Algorithms\n",
    "    models = []\n",
    "    models.append(('NaiveBayesGaussian', GaussianNB()))\n",
    "    models.append(('NaiveBayesBernoulli', BernoulliNB()))\n",
    "    models.append(('RandomForest', RandomForestClassifier(random_state=seed)))\n",
    "    models.append(('GradientBoosting', GradientBoostingClassifier(random_state=seed)))\n",
    "\n",
    "\n",
    "    # Evaluate each model in turn\n",
    "    results = []\n",
    "    names = []\n",
    "\n",
    "    for name, model in models:\n",
    "        kfold = StratifiedKFold(n_splits=k_folds, random_state=seed)\n",
    "        cv_results = cross_val_score(model, features, target, cv=kfold, scoring=scoring)\n",
    "        results.append(cv_results)\n",
    "        names.append(name)\n",
    "        msg = \"%s: %s (%f), std (%f)\" % (name, scoring, cv_results.mean(), cv_results.std())\n",
    "        print(msg)\n",
    "\n",
    "    zipped_eval = zip(models, [i.mean() for i in results])\n",
    "    model_eval = sorted(zipped_eval, key=operator.itemgetter(1))\n",
    "    \n",
    "    best_clf = model_eval[-1][0][1]\n",
    "    clf_name = model_eval[-1][0][0]\n",
    "    print(\"\\n Model with best {} is {}\".format(scoring, clf_name))\n",
    "    print('\\n', best_clf)\n",
    "    \n",
    "    print('\\n Feature Importance:')\n",
    "    try:\n",
    "        clf = best_clf\n",
    "        clf.fit(features, target)\n",
    "\n",
    "        feat_imp = pd.Series(clf.feature_importances_, feature_names).sort_values(ascending=False)\n",
    "        feat_imp[:10].plot(kind='bar', title='Feature Importances')\n",
    "        plt.ylabel('Feature Importance Score')\n",
    "        \n",
    "    except AttributeError:\n",
    "        print(' Not available for {}'.format(clf_name))\n",
    "        \n",
    "    return best_clf"
   ]
  },
  {
   "cell_type": "markdown",
   "metadata": {},
   "source": [
    "# Find Best Classifier"
   ]
  },
  {
   "cell_type": "markdown",
   "metadata": {
    "ExecuteTime": {
     "end_time": "2018-02-16T20:56:20.129880Z",
     "start_time": "2018-02-16T20:56:20.125759Z"
    }
   },
   "source": [
    "## Test for optimal ROC AUC Score"
   ]
  },
  {
   "cell_type": "code",
   "execution_count": 18,
   "metadata": {
    "ExecuteTime": {
     "end_time": "2018-02-19T21:45:25.558473Z",
     "start_time": "2018-02-19T21:40:54.385647Z"
    }
   },
   "outputs": [
    {
     "name": "stdout",
     "output_type": "stream",
     "text": [
      "NaiveBayesGaussian: roc_auc (0.755832), std (0.006269)\n",
      "NaiveBayesBernoulli: roc_auc (0.854950), std (0.003463)\n",
      "RandomForest: roc_auc (0.838190), std (0.006953)\n",
      "GradientBoosting: roc_auc (0.814300), std (0.004583)\n",
      "\n",
      " Model with best roc_auc is NaiveBayesBernoulli\n",
      "\n",
      " BernoulliNB(alpha=1.0, binarize=0.0, class_prior=None, fit_prior=True)\n",
      "\n",
      " Feature Importance:\n",
      " Not available for NaiveBayesBernoulli\n"
     ]
    }
   ],
   "source": [
    "best_clf = find_best_classifier(features=train_features, \n",
    "                                target=train_target, \n",
    "                                seed=42, \n",
    "                                k_folds=5, \n",
    "                                crossval_scoring='roc_auc', \n",
    "                                feature_names=list(train_features))"
   ]
  },
  {
   "cell_type": "markdown",
   "metadata": {},
   "source": [
    "## Test for optimal Log Loss"
   ]
  },
  {
   "cell_type": "code",
   "execution_count": 20,
   "metadata": {
    "ExecuteTime": {
     "end_time": "2018-02-19T21:51:28.124416Z",
     "start_time": "2018-02-19T21:46:47.961298Z"
    }
   },
   "outputs": [
    {
     "name": "stdout",
     "output_type": "stream",
     "text": [
      "NaiveBayesGaussian: neg_log_loss (-9.481938), std (0.222841)\n",
      "NaiveBayesBernoulli: neg_log_loss (-0.545044), std (0.012221)\n",
      "RandomForest: neg_log_loss (-0.696332), std (0.065362)\n",
      "GradientBoosting: neg_log_loss (-0.547488), std (0.000857)\n",
      "\n",
      " Model with best neg_log_loss is NaiveBayesBernoulli\n",
      "\n",
      " BernoulliNB(alpha=1.0, binarize=0.0, class_prior=None, fit_prior=True)\n",
      "\n",
      " Feature Importance:\n",
      " Not available for NaiveBayesBernoulli\n"
     ]
    }
   ],
   "source": [
    "best_clf = find_best_classifier(features=train_features, \n",
    "                                target=train_target, \n",
    "                                seed=42, \n",
    "                                k_folds=5, \n",
    "                                crossval_scoring='neg_log_loss', \n",
    "                                feature_names=list(train_features))"
   ]
  },
  {
   "cell_type": "markdown",
   "metadata": {},
   "source": [
    "## Test for optimal F1 Score"
   ]
  },
  {
   "cell_type": "code",
   "execution_count": 21,
   "metadata": {
    "ExecuteTime": {
     "end_time": "2018-02-19T21:55:56.290205Z",
     "start_time": "2018-02-19T21:51:28.194237Z"
    }
   },
   "outputs": [
    {
     "name": "stdout",
     "output_type": "stream",
     "text": [
      "NaiveBayesGaussian: f1 (0.728077), std (0.004589)\n",
      "NaiveBayesBernoulli: f1 (0.740615), std (0.006181)\n",
      "RandomForest: f1 (0.698938), std (0.006731)\n",
      "GradientBoosting: f1 (0.570992), std (0.006738)\n",
      "\n",
      " Model with best f1 is NaiveBayesBernoulli\n",
      "\n",
      " BernoulliNB(alpha=1.0, binarize=0.0, class_prior=None, fit_prior=True)\n",
      "\n",
      " Feature Importance:\n",
      " Not available for NaiveBayesBernoulli\n"
     ]
    }
   ],
   "source": [
    "best_clf = find_best_classifier(features=train_features, \n",
    "                                target=train_target, \n",
    "                                seed=42, \n",
    "                                k_folds=5, \n",
    "                                crossval_scoring='f1', \n",
    "                                feature_names=list(train_features))"
   ]
  },
  {
   "cell_type": "markdown",
   "metadata": {},
   "source": [
    "# Visualize results of best model on test set"
   ]
  },
  {
   "cell_type": "code",
   "execution_count": 9,
   "metadata": {
    "ExecuteTime": {
     "end_time": "2018-02-20T21:47:25.909131Z",
     "start_time": "2018-02-20T21:47:25.905505Z"
    },
    "collapsed": true
   },
   "outputs": [],
   "source": [
    "best_clf = BernoulliNB(alpha=1.0, binarize=0.0, class_prior=None, fit_prior=True)"
   ]
  },
  {
   "cell_type": "code",
   "execution_count": 10,
   "metadata": {
    "ExecuteTime": {
     "end_time": "2018-02-20T21:47:26.719837Z",
     "start_time": "2018-02-20T21:47:26.673311Z"
    },
    "collapsed": true
   },
   "outputs": [],
   "source": [
    "def train_score(classifier, xtrain, ytrain, xtest, ytest):\n",
    "     \n",
    "    # fit a model\n",
    "    clf = classifier.fit(xtrain, ytrain)\n",
    "    \n",
    "    # score the model (accuracy)\n",
    "    train_acc = clf.score(xtrain, ytrain)\n",
    "    test_acc = clf.score(xtest, ytest)\n",
    "    print(\"Training Data Accuracy: %0.2f\" %(train_acc))\n",
    "    print(\"Test Data Accuracy:     %0.2f\" %(test_acc))\n",
    "\n",
    "    # create a confusion matrix\n",
    "    y_true = ytest\n",
    "    y_pred = clf.predict(xtest)\n",
    "    \n",
    "    conf = confusion_matrix(y_true, y_pred)\n",
    "    print ('\\n')\n",
    "    print(conf)\n",
    "\n",
    "    print ('\\n')\n",
    "    print (\"Precision:              %0.2f\" %(conf[1, 1] / (conf[0, 1] + conf[1, 1])))\n",
    "    print (\"Recall:                 %0.2f\"% (conf[1, 1] / (conf[1, 0] + conf[1, 1])))\n",
    "\n",
    "    cm = confusion_matrix(y_true, y_pred, labels=None)\n",
    "    # plot the confusion matrix\n",
    "\n",
    "    print ('\\n')\n",
    "    plt.figure(figsize=(6, 6))\n",
    "    plot_confusion_matrix(cm)\n",
    "    plt.show()\n",
    "       \n",
    "    print('\\n')\n",
    "    y_pred_prob = clf.predict_proba(xtest)\n",
    "    y_prob = [pred[1] for pred in y_pred_prob]\n",
    "    \n",
    "    find_auc(y_test=y_true, y_score=y_prob)"
   ]
  },
  {
   "cell_type": "code",
   "execution_count": 11,
   "metadata": {
    "ExecuteTime": {
     "end_time": "2018-02-20T21:47:31.807034Z",
     "start_time": "2018-02-20T21:47:28.189075Z"
    }
   },
   "outputs": [
    {
     "name": "stdout",
     "output_type": "stream",
     "text": [
      "Training Data Accuracy: 0.78\n",
      "Test Data Accuracy:     0.76\n",
      "\n",
      "\n",
      "[[2983 1072]\n",
      " [ 710 2516]]\n",
      "\n",
      "\n",
      "Precision:              0.70\n",
      "Recall:                 0.78\n",
      "\n",
      "\n"
     ]
    },
    {
     "data": {
      "image/png": "[encoded data removed]",
      "text/plain": [
       "<matplotlib.figure.Figure at 0x1194ebef0>"
      ]
     },
     "metadata": {},
     "output_type": "display_data"
    },
    {
     "name": "stdout",
     "output_type": "stream",
     "text": [
      "\n",
      "\n"
     ]
    },
    {
     "data": {
      "image/png": "[encoded data removed]",
      "text/plain": [
       "<matplotlib.figure.Figure at 0x1a1dcac0f0>"
      ]
     },
     "metadata": {},
     "output_type": "display_data"
    },
    {
     "name": "stdout",
     "output_type": "stream",
     "text": [
      "AUC:  0.8550337004440645\n"
     ]
    }
   ],
   "source": [
    "train_score(classifier=best_clf, \n",
    "            xtrain=train_features, ytrain=train_target, \n",
    "            xtest=test_features, ytest=test_target)"
   ]
  },
  {
   "cell_type": "markdown",
   "metadata": {
    "ExecuteTime": {
     "end_time": "2018-02-16T16:43:14.565408Z",
     "start_time": "2018-02-16T16:43:14.558422Z"
    }
   },
   "source": [
    "# Fit Training Data and Pickle Best CLF"
   ]
  },
  {
   "cell_type": "code",
   "execution_count": 40,
   "metadata": {
    "ExecuteTime": {
     "end_time": "2018-02-19T22:04:32.986120Z",
     "start_time": "2018-02-19T22:04:31.642763Z"
    },
    "collapsed": true
   },
   "outputs": [],
   "source": [
    "model_fit = best_clf.fit(train_features, train_target)"
   ]
  },
  {
   "cell_type": "code",
   "execution_count": 41,
   "metadata": {
    "ExecuteTime": {
     "end_time": "2018-02-19T22:04:33.958566Z",
     "start_time": "2018-02-19T22:04:33.952272Z"
    },
    "collapsed": true
   },
   "outputs": [],
   "source": [
    "with open('../models/nb_trained_text_clf.pkl', 'wb') as file:\n",
    "    pickle.dump(model_fit, file)"
   ]
  }
 ],
 "metadata": {
  "kernelspec": {
   "display_name": "Python 3",
   "language": "python",
   "name": "python3"
  },
  "language_info": {
   "codemirror_mode": {
    "name": "ipython",
    "version": 3
   },
   "file_extension": ".py",
   "mimetype": "text/x-python",
   "name": "python",
   "nbconvert_exporter": "python",
   "pygments_lexer": "ipython3",
   "version": "3.6.3"
  },
  "toc": {
   "nav_menu": {},
   "number_sections": true,
   "sideBar": true,
   "skip_h1_title": false,
   "title_cell": "Table of Contents",
   "title_sidebar": "Contents",
   "toc_cell": false,
   "toc_position": {
    "height": "calc(100% - 180px)",
    "left": "10px",
    "top": "150px",
    "width": "189px"
   },
   "toc_section_display": true,
   "toc_window_display": true
  },
  "varInspector": {
   "cols": {
    "lenName": 16,
    "lenType": 16,
    "lenVar": 40
   },
   "kernels_config": {
    "python": {
     "delete_cmd_postfix": "",
     "delete_cmd_prefix": "del ",
     "library": "var_list.py",
     "varRefreshCmd": "print(var_dic_list())"
    },
    "r": {
     "delete_cmd_postfix": ") ",
     "delete_cmd_prefix": "rm(",
     "library": "var_list.r",
     "varRefreshCmd": "cat(var_dic_list()) "
    }
   },
   "types_to_exclude": [
    "module",
    "function",
    "builtin_function_or_method",
    "instance",
    "_Feature"
   ],
   "window_display": false
  }
 },
 "nbformat": 4,
 "nbformat_minor": 2
}
