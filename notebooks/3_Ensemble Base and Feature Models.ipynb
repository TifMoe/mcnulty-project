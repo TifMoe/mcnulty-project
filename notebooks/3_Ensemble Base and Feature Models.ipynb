{
 "cells": [
  {
   "cell_type": "code",
   "execution_count": 1,
   "metadata": {
    "ExecuteTime": {
     "end_time": "2018-02-19T17:56:45.417231Z",
     "start_time": "2018-02-19T17:56:44.354037Z"
    }
   },
   "outputs": [
    {
     "name": "stdout",
     "output_type": "stream",
     "text": [
      "Python version 3.6.3 |Anaconda custom (64-bit)| (default, Oct  6 2017, 12:04:38) \n",
      "[GCC 4.2.1 Compatible Clang 4.0.1 (tags/RELEASE_401/final)]\n",
      "Pandas version 0.20.3\n",
      "Numpy version 1.14.0\n"
     ]
    }
   ],
   "source": [
    "from sklearn.ensemble import GradientBoostingClassifier\n",
    "from sklearn.metrics import roc_curve, auc\n",
    "from sklearn.model_selection import cross_val_score\n",
    "import numpy as np\n",
    "import pandas as pd\n",
    "from sklearn import model_selection\n",
    "from sklearn.naive_bayes import GaussianNB\n",
    "from sklearn.model_selection import train_test_split\n",
    "import sys\n",
    "import pickle\n",
    "import matplotlib.pyplot as plt\n",
    "\n",
    "\n",
    "% matplotlib inline\n",
    "\n",
    "print('Python version', sys.version)\n",
    "print('Pandas version', pd.__version__)\n",
    "print('Numpy version', np.__version__)"
   ]
  },
  {
   "cell_type": "markdown",
   "metadata": {},
   "source": [
    "# Import test data"
   ]
  },
  {
   "cell_type": "markdown",
   "metadata": {},
   "source": [
    "### Import base features"
   ]
  },
  {
   "cell_type": "code",
   "execution_count": 60,
   "metadata": {
    "ExecuteTime": {
     "end_time": "2018-02-19T22:51:53.737607Z",
     "start_time": "2018-02-19T22:51:53.698243Z"
    }
   },
   "outputs": [],
   "source": [
    "base_features = pd.read_pickle('../data/processed/base_features.pkl')\n",
    "base_features = base_features.drop(['tweet_id'], axis=1)\n",
    "\n",
    "base_target = base_features.pop('target')\n",
    "\n",
    "base_x_train, base_x_test, base_y_train, base_y_test = train_test_split(base_features, base_target,\n",
    "                                                                    test_size=.2,\n",
    "                                                                    random_state=42)"
   ]
  },
  {
   "cell_type": "markdown",
   "metadata": {},
   "source": [
    "### Import text features and target values"
   ]
  },
  {
   "cell_type": "code",
   "execution_count": 61,
   "metadata": {
    "ExecuteTime": {
     "end_time": "2018-02-19T22:51:55.719258Z",
     "start_time": "2018-02-19T22:51:55.682894Z"
    },
    "collapsed": true
   },
   "outputs": [],
   "source": [
    "text_test = pd.read_pickle('../data/processed/test_text_features.pkl')\n",
    "\n",
    "# We can use the same target array for both the base and text test sets \n",
    "# because our features were split with the same seed\n",
    "target = text_test.pop('target')\n",
    "test_target = np.array([int(i) for i in target])"
   ]
  },
  {
   "cell_type": "markdown",
   "metadata": {},
   "source": [
    "# Evaluate Model"
   ]
  },
  {
   "cell_type": "code",
   "execution_count": 76,
   "metadata": {
    "ExecuteTime": {
     "end_time": "2018-02-19T23:03:56.458657Z",
     "start_time": "2018-02-19T23:03:56.401163Z"
    },
    "collapsed": true
   },
   "outputs": [],
   "source": [
    "def find_auc_ensemble(X_base_test, X_text_test, y_test, base_model, text_model):\n",
    "    \n",
    "    \n",
    "    base_predict = base_model.predict_proba(X_base_test)[:,1] \n",
    "    text_predict = text_model.predict_proba(X_text_test)[:,1] \n",
    "        \n",
    "    y_score = [np.mean(e) for e in zip(*[base_predict, text_predict])]\n",
    "    \n",
    "    \n",
    "    plt.figure(0).clf()\n",
    "    \n",
    "    # Ensembled Model\n",
    "    fpr, tpr, thresh = roc_curve(y_test, y_score)\n",
    "    roc_auc = auc(fpr, tpr)\n",
    "    plt.plot([0,1],[0,1]) # this is our baseline\n",
    "    plt.plot(fpr,tpr,label=\"Ensembled, auc=\"+str(round(roc_auc, 2)))\n",
    "    plt.xlabel('FPR')\n",
    "    plt.ylabel('TPR')\n",
    "    print('Ensembled AUC: ', roc_auc)\n",
    "\n",
    "    # Base Model\n",
    "    fpr, tpr, thresh = roc_curve(y_test, base_predict)\n",
    "    roc_auc = auc(fpr, tpr)\n",
    "    plt.plot(fpr,tpr,label=\"Base, auc=\"+str(round(roc_auc, 2)))\n",
    "    print('Base Model: ', roc_auc)\n",
    "\n",
    "    # Text Model\n",
    "    fpr, tpr, thresh = roc_curve(y_test, text_predict)\n",
    "    roc_auc = auc(fpr, tpr)\n",
    "    plt.plot(fpr,tpr,label=\"Text, auc=\"+str(round(roc_auc, 2)))\n",
    "    print('Text Model: ', roc_auc)\n",
    "\n",
    "    plt.legend(loc=0)\n",
    "    \n"
   ]
  },
  {
   "cell_type": "code",
   "execution_count": 78,
   "metadata": {
    "ExecuteTime": {
     "end_time": "2018-02-19T23:15:13.979784Z",
     "start_time": "2018-02-19T23:15:13.965812Z"
    },
    "collapsed": true
   },
   "outputs": [],
   "source": [
    "with open(\"../models/gcb_trained_base_clf.pkl\", \"rb\") as mdl:\n",
    "    base_model = pickle.load(mdl)"
   ]
  },
  {
   "cell_type": "code",
   "execution_count": 79,
   "metadata": {
    "ExecuteTime": {
     "end_time": "2018-02-19T23:15:14.657575Z",
     "start_time": "2018-02-19T23:15:14.653411Z"
    },
    "collapsed": true
   },
   "outputs": [],
   "source": [
    "with open(\"../models/nb_trained_text_clf.pkl\", \"rb\") as mdl:\n",
    "    text_model = pickle.load(mdl)"
   ]
  },
  {
   "cell_type": "code",
   "execution_count": 80,
   "metadata": {
    "ExecuteTime": {
     "end_time": "2018-02-19T23:15:16.132830Z",
     "start_time": "2018-02-19T23:15:15.598678Z"
    }
   },
   "outputs": [
    {
     "name": "stdout",
     "output_type": "stream",
     "text": [
      "Ensembled AUC:  0.8954930768272276\n",
      "Base Model:  0.8164920043145132\n",
      "Text Model:  0.8550337004440645\n"
     ]
    },
    {
     "data": {
      "image/png": "[encoded data removed]",
      "text/plain": [
       "<matplotlib.figure.Figure at 0x1a1268cc18>"
      ]
     },
     "metadata": {},
     "output_type": "display_data"
    }
   ],
   "source": [
    "find_auc_ensemble(X_base_test=base_x_test, \n",
    "                  X_text_test=text_test, \n",
    "                  y_test=test_target, \n",
    "                  base_model=base_model, \n",
    "                  text_model=text_model)"
   ]
  },
  {
   "cell_type": "markdown",
   "metadata": {
    "collapsed": true
   },
   "source": [
    "# Fit classifiers on all data and pickle"
   ]
  },
  {
   "cell_type": "markdown",
   "metadata": {
    "collapsed": true
   },
   "source": [
    "## Fit text clf on all tweet data"
   ]
  },
  {
   "cell_type": "code",
   "execution_count": 86,
   "metadata": {
    "ExecuteTime": {
     "end_time": "2018-02-19T23:21:10.258211Z",
     "start_time": "2018-02-19T23:21:10.165883Z"
    },
    "collapsed": true
   },
   "outputs": [],
   "source": [
    "text_features = pd.read_pickle('../data/processed/all_text_features.pkl')"
   ]
  },
  {
   "cell_type": "code",
   "execution_count": 87,
   "metadata": {
    "ExecuteTime": {
     "end_time": "2018-02-19T23:21:10.596218Z",
     "start_time": "2018-02-19T23:21:10.589344Z"
    },
    "collapsed": true
   },
   "outputs": [],
   "source": [
    "text_target = pd.read_pickle('../data/processed/all_target.pkl')\n",
    "text_target = np.array(text_target)"
   ]
  },
  {
   "cell_type": "code",
   "execution_count": 88,
   "metadata": {
    "ExecuteTime": {
     "end_time": "2018-02-19T23:21:12.828942Z",
     "start_time": "2018-02-19T23:21:11.153481Z"
    },
    "collapsed": true
   },
   "outputs": [],
   "source": [
    "text_model_fit = text_model.fit(text_features, text_target)"
   ]
  },
  {
   "cell_type": "code",
   "execution_count": 89,
   "metadata": {
    "ExecuteTime": {
     "end_time": "2018-02-19T23:21:13.108062Z",
     "start_time": "2018-02-19T23:21:13.101612Z"
    },
    "collapsed": true
   },
   "outputs": [],
   "source": [
    "with open('../models/final_text_clf.pkl', 'wb') as file:\n",
    "    pickle.dump(text_model_fit, file)"
   ]
  },
  {
   "cell_type": "markdown",
   "metadata": {
    "ExecuteTime": {
     "end_time": "2018-02-19T23:20:14.728514Z",
     "start_time": "2018-02-19T23:20:14.723259Z"
    }
   },
   "source": [
    "## Fit base clf on all base data"
   ]
  },
  {
   "cell_type": "code",
   "execution_count": 90,
   "metadata": {
    "ExecuteTime": {
     "end_time": "2018-02-19T23:21:35.291760Z",
     "start_time": "2018-02-19T23:21:29.093602Z"
    },
    "collapsed": true
   },
   "outputs": [],
   "source": [
    "base_model_fit = base_model.fit(base_features, base_target)"
   ]
  },
  {
   "cell_type": "code",
   "execution_count": 91,
   "metadata": {
    "ExecuteTime": {
     "end_time": "2018-02-19T23:21:40.754825Z",
     "start_time": "2018-02-19T23:21:40.742384Z"
    },
    "collapsed": true
   },
   "outputs": [],
   "source": [
    "with open('../models/final_base_clf.pkl', 'wb') as file:\n",
    "    pickle.dump(base_model_fit, file)"
   ]
  },
  {
   "cell_type": "code",
   "execution_count": null,
   "metadata": {
    "collapsed": true
   },
   "outputs": [],
   "source": []
  }
 ],
 "metadata": {
  "kernelspec": {
   "display_name": "Python 3",
   "language": "python",
   "name": "python3"
  },
  "language_info": {
   "codemirror_mode": {
    "name": "ipython",
    "version": 3
   },
   "file_extension": ".py",
   "mimetype": "text/x-python",
   "name": "python",
   "nbconvert_exporter": "python",
   "pygments_lexer": "ipython3",
   "version": "3.6.3"
  },
  "toc": {
   "nav_menu": {},
   "number_sections": true,
   "sideBar": true,
   "skip_h1_title": false,
   "title_cell": "Table of Contents",
   "title_sidebar": "Contents",
   "toc_cell": false,
   "toc_position": {},
   "toc_section_display": true,
   "toc_window_display": true
  },
  "varInspector": {
   "cols": {
    "lenName": 16,
    "lenType": 16,
    "lenVar": 40
   },
   "kernels_config": {
    "python": {
     "delete_cmd_postfix": "",
     "delete_cmd_prefix": "del ",
     "library": "var_list.py",
     "varRefreshCmd": "print(var_dic_list())"
    },
    "r": {
     "delete_cmd_postfix": ") ",
     "delete_cmd_prefix": "rm(",
     "library": "var_list.r",
     "varRefreshCmd": "cat(var_dic_list()) "
    }
   },
   "types_to_exclude": [
    "module",
    "function",
    "builtin_function_or_method",
    "instance",
    "_Feature"
   ],
   "window_display": false
  }
 },
 "nbformat": 4,
 "nbformat_minor": 2
}
