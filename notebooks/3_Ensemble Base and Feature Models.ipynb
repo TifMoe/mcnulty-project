{
 "cells": [
  {
   "cell_type": "code",
   "execution_count": 66,
   "metadata": {
    "ExecuteTime": {
     "end_time": "2018-02-18T22:09:36.766276Z",
     "start_time": "2018-02-18T22:09:36.741003Z"
    }
   },
   "outputs": [
    {
     "name": "stdout",
     "output_type": "stream",
     "text": [
      "Python version 3.6.3 |Anaconda custom (64-bit)| (default, Oct  6 2017, 12:04:38) \n",
      "[GCC 4.2.1 Compatible Clang 4.0.1 (tags/RELEASE_401/final)]\n",
      "Pandas version 0.20.3\n",
      "Numpy version 1.14.0\n"
     ]
    }
   ],
   "source": [
    "from sklearn.ensemble import GradientBoostingClassifier\n",
    "from sklearn.metrics import roc_curve, auc\n",
    "from sklearn.model_selection import cross_val_score\n",
    "import numpy as np\n",
    "import pandas as pd\n",
    "from sklearn import model_selection\n",
    "from sklearn.naive_bayes import GaussianNB\n",
    "from sklearn.model_selection import train_test_split\n",
    "import sys\n",
    "import pickle\n",
    "import matplotlib.pyplot as plt\n",
    "\n",
    "\n",
    "% matplotlib inline\n",
    "\n",
    "print('Python version', sys.version)\n",
    "print('Pandas version', pd.__version__)\n",
    "print('Numpy version', np.__version__)"
   ]
  },
  {
   "cell_type": "markdown",
   "metadata": {},
   "source": [
    "# Import data"
   ]
  },
  {
   "cell_type": "code",
   "execution_count": 14,
   "metadata": {
    "ExecuteTime": {
     "end_time": "2018-02-18T21:47:26.381027Z",
     "start_time": "2018-02-18T21:47:26.301214Z"
    },
    "collapsed": true
   },
   "outputs": [],
   "source": [
    "base_features = pd.read_pickle('../data/processed/base_features.pkl')\n",
    "text_features = pd.read_pickle('../data/processed/text_features.pkl')"
   ]
  },
  {
   "cell_type": "code",
   "execution_count": 29,
   "metadata": {
    "ExecuteTime": {
     "end_time": "2018-02-18T21:52:44.800530Z",
     "start_time": "2018-02-18T21:52:44.747189Z"
    }
   },
   "outputs": [],
   "source": [
    "all_features = pd.concat([base_features.reset_index(drop=True), text_features], axis=1)\n",
    "target = all_features.pop('target')"
   ]
  },
  {
   "cell_type": "code",
   "execution_count": 30,
   "metadata": {
    "ExecuteTime": {
     "end_time": "2018-02-18T21:52:46.883171Z",
     "start_time": "2018-02-18T21:52:46.839128Z"
    }
   },
   "outputs": [
    {
     "name": "stdout",
     "output_type": "stream",
     "text": [
      "(36027, 1761)\n"
     ]
    },
    {
     "data": {
      "text/html": [
       "<div>\n",
       "<style>\n",
       "    .dataframe thead tr:only-child th {\n",
       "        text-align: right;\n",
       "    }\n",
       "\n",
       "    .dataframe thead th {\n",
       "        text-align: left;\n",
       "    }\n",
       "\n",
       "    .dataframe tbody tr th {\n",
       "        vertical-align: top;\n",
       "    }\n",
       "</style>\n",
       "<table border=\"1\" class=\"dataframe\">\n",
       "  <thead>\n",
       "    <tr style=\"text-align: right;\">\n",
       "      <th></th>\n",
       "      <th>tweet_id</th>\n",
       "      <th>hour_created</th>\n",
       "      <th>weekday_created</th>\n",
       "      <th>photo_exists</th>\n",
       "      <th>tweet_sentiment</th>\n",
       "      <th>retweets_per_followers</th>\n",
       "      <th>favs_per_followers</th>\n",
       "      <th>rate_all_caps</th>\n",
       "      <th>retweet_count</th>\n",
       "      <th>favorite_count</th>\n",
       "      <th>...</th>\n",
       "      <th>yes</th>\n",
       "      <th>yesterday</th>\n",
       "      <th>yet</th>\n",
       "      <th>york</th>\n",
       "      <th>youll</th>\n",
       "      <th>young</th>\n",
       "      <th>youre</th>\n",
       "      <th>youth</th>\n",
       "      <th>yr</th>\n",
       "      <th>zero</th>\n",
       "    </tr>\n",
       "  </thead>\n",
       "  <tbody>\n",
       "    <tr>\n",
       "      <th>0</th>\n",
       "      <td>954068125439463425</td>\n",
       "      <td>19</td>\n",
       "      <td>3</td>\n",
       "      <td>0</td>\n",
       "      <td>1</td>\n",
       "      <td>0.002015</td>\n",
       "      <td>0.001936</td>\n",
       "      <td>0.030303</td>\n",
       "      <td>76</td>\n",
       "      <td>73</td>\n",
       "      <td>...</td>\n",
       "      <td>False</td>\n",
       "      <td>False</td>\n",
       "      <td>False</td>\n",
       "      <td>False</td>\n",
       "      <td>False</td>\n",
       "      <td>False</td>\n",
       "      <td>False</td>\n",
       "      <td>False</td>\n",
       "      <td>False</td>\n",
       "      <td>False</td>\n",
       "    </tr>\n",
       "    <tr>\n",
       "      <th>1</th>\n",
       "      <td>954396450611441664</td>\n",
       "      <td>16</td>\n",
       "      <td>4</td>\n",
       "      <td>0</td>\n",
       "      <td>1</td>\n",
       "      <td>0.000371</td>\n",
       "      <td>0.001114</td>\n",
       "      <td>0.000000</td>\n",
       "      <td>14</td>\n",
       "      <td>42</td>\n",
       "      <td>...</td>\n",
       "      <td>False</td>\n",
       "      <td>False</td>\n",
       "      <td>False</td>\n",
       "      <td>False</td>\n",
       "      <td>False</td>\n",
       "      <td>False</td>\n",
       "      <td>False</td>\n",
       "      <td>False</td>\n",
       "      <td>False</td>\n",
       "      <td>False</td>\n",
       "    </tr>\n",
       "    <tr>\n",
       "      <th>2</th>\n",
       "      <td>954409153203703808</td>\n",
       "      <td>17</td>\n",
       "      <td>4</td>\n",
       "      <td>0</td>\n",
       "      <td>1</td>\n",
       "      <td>0.001538</td>\n",
       "      <td>0.003686</td>\n",
       "      <td>0.058824</td>\n",
       "      <td>58</td>\n",
       "      <td>139</td>\n",
       "      <td>...</td>\n",
       "      <td>False</td>\n",
       "      <td>False</td>\n",
       "      <td>False</td>\n",
       "      <td>False</td>\n",
       "      <td>False</td>\n",
       "      <td>False</td>\n",
       "      <td>False</td>\n",
       "      <td>False</td>\n",
       "      <td>False</td>\n",
       "      <td>False</td>\n",
       "    </tr>\n",
       "    <tr>\n",
       "      <th>3</th>\n",
       "      <td>954480752573460480</td>\n",
       "      <td>22</td>\n",
       "      <td>4</td>\n",
       "      <td>0</td>\n",
       "      <td>-1</td>\n",
       "      <td>0.000663</td>\n",
       "      <td>0.001034</td>\n",
       "      <td>0.055556</td>\n",
       "      <td>25</td>\n",
       "      <td>39</td>\n",
       "      <td>...</td>\n",
       "      <td>False</td>\n",
       "      <td>False</td>\n",
       "      <td>False</td>\n",
       "      <td>False</td>\n",
       "      <td>False</td>\n",
       "      <td>False</td>\n",
       "      <td>False</td>\n",
       "      <td>False</td>\n",
       "      <td>False</td>\n",
       "      <td>False</td>\n",
       "    </tr>\n",
       "    <tr>\n",
       "      <th>4</th>\n",
       "      <td>954504963501314048</td>\n",
       "      <td>0</td>\n",
       "      <td>5</td>\n",
       "      <td>1</td>\n",
       "      <td>0</td>\n",
       "      <td>0.001220</td>\n",
       "      <td>0.002254</td>\n",
       "      <td>0.090909</td>\n",
       "      <td>46</td>\n",
       "      <td>85</td>\n",
       "      <td>...</td>\n",
       "      <td>False</td>\n",
       "      <td>False</td>\n",
       "      <td>False</td>\n",
       "      <td>False</td>\n",
       "      <td>False</td>\n",
       "      <td>False</td>\n",
       "      <td>False</td>\n",
       "      <td>False</td>\n",
       "      <td>False</td>\n",
       "      <td>False</td>\n",
       "    </tr>\n",
       "  </tbody>\n",
       "</table>\n",
       "<p>5 rows × 1761 columns</p>\n",
       "</div>"
      ],
      "text/plain": [
       "             tweet_id  hour_created  weekday_created  photo_exists  \\\n",
       "0  954068125439463425            19                3             0   \n",
       "1  954396450611441664            16                4             0   \n",
       "2  954409153203703808            17                4             0   \n",
       "3  954480752573460480            22                4             0   \n",
       "4  954504963501314048             0                5             1   \n",
       "\n",
       "   tweet_sentiment  retweets_per_followers  favs_per_followers  rate_all_caps  \\\n",
       "0                1                0.002015            0.001936       0.030303   \n",
       "1                1                0.000371            0.001114       0.000000   \n",
       "2                1                0.001538            0.003686       0.058824   \n",
       "3               -1                0.000663            0.001034       0.055556   \n",
       "4                0                0.001220            0.002254       0.090909   \n",
       "\n",
       "   retweet_count  favorite_count  ...      yes  yesterday    yet   york  \\\n",
       "0             76              73  ...    False      False  False  False   \n",
       "1             14              42  ...    False      False  False  False   \n",
       "2             58             139  ...    False      False  False  False   \n",
       "3             25              39  ...    False      False  False  False   \n",
       "4             46              85  ...    False      False  False  False   \n",
       "\n",
       "   youll  young  youre  youth     yr   zero  \n",
       "0  False  False  False  False  False  False  \n",
       "1  False  False  False  False  False  False  \n",
       "2  False  False  False  False  False  False  \n",
       "3  False  False  False  False  False  False  \n",
       "4  False  False  False  False  False  False  \n",
       "\n",
       "[5 rows x 1761 columns]"
      ]
     },
     "execution_count": 30,
     "metadata": {},
     "output_type": "execute_result"
    }
   ],
   "source": [
    "print(np.shape(all_features))\n",
    "all_features.head()"
   ]
  },
  {
   "cell_type": "markdown",
   "metadata": {},
   "source": [
    "# Evaluate Model"
   ]
  },
  {
   "cell_type": "code",
   "execution_count": 31,
   "metadata": {
    "ExecuteTime": {
     "end_time": "2018-02-18T21:52:59.433989Z",
     "start_time": "2018-02-18T21:52:59.316480Z"
    },
    "collapsed": true
   },
   "outputs": [],
   "source": [
    "X_train, X_test, y_train, y_test = train_test_split(all_features, target, test_size=0.3, random_state=42)"
   ]
  },
  {
   "cell_type": "code",
   "execution_count": 72,
   "metadata": {
    "ExecuteTime": {
     "end_time": "2018-02-18T22:26:21.217239Z",
     "start_time": "2018-02-18T22:26:21.159283Z"
    },
    "collapsed": true
   },
   "outputs": [],
   "source": [
    "def find_auc_ensemble(X_train, X_test, y_train, y_test, base_model, text_model):\n",
    "\n",
    "    X_base_train = X_train.iloc[:,:11]\n",
    "    X_base_test = X_test.iloc[:,:11]\n",
    "\n",
    "    X_text_train = X_train.iloc[:,11:]\n",
    "    X_text_test = X_test.iloc[:,11:]\n",
    "    \n",
    "    predictions = []\n",
    "    \n",
    "    def get_prediction(model, X_train, X_test):\n",
    "        \"\"\"\n",
    "        Append probability prediction to list of predictions for ensembling\n",
    "        \"\"\"\n",
    "        model.fit(X_train, np.ravel(y_train))\n",
    "        y_predict = model.predict_proba(X_test)[:,1] \n",
    "        predictions.append(y_predict)\n",
    "        \n",
    "    get_prediction(base_model, X_base_train, X_base_test)\n",
    "    get_prediction(text_model, X_text_train, X_text_test)\n",
    "        \n",
    "    y_score = [np.mean(e) for e in zip(*predictions)]\n",
    "\n",
    "    fpr, tpr, thresholds = roc_curve(y_test, y_score)\n",
    "    roc_auc = auc(fpr, tpr)\n",
    "\n",
    "    plt.figure()\n",
    "\n",
    "    plt.plot([0,1],[0,1]) # this is our baseline\n",
    "    plt.plot(fpr, tpr) # this is our ROC curve\n",
    "    plt.xlabel('FPR')\n",
    "    plt.ylabel('TPR')\n",
    "\n",
    "    print('AUC: ', roc_auc)\n",
    "    print(thresholds)"
   ]
  },
  {
   "cell_type": "code",
   "execution_count": 51,
   "metadata": {
    "ExecuteTime": {
     "end_time": "2018-02-18T22:05:46.215680Z",
     "start_time": "2018-02-18T22:05:46.204940Z"
    }
   },
   "outputs": [],
   "source": [
    "with open(\"../models/gcb_clf_base_features.pkl\", \"rb\") as mdl:\n",
    "    base_model = pickle.load(mdl)"
   ]
  },
  {
   "cell_type": "code",
   "execution_count": 46,
   "metadata": {
    "ExecuteTime": {
     "end_time": "2018-02-18T22:03:06.850837Z",
     "start_time": "2018-02-18T22:03:06.845138Z"
    },
    "collapsed": true
   },
   "outputs": [],
   "source": [
    "with open(\"../models/nb_clf_text_features.pkl\", \"rb\") as mdl:\n",
    "    text_model = pickle.load(mdl)"
   ]
  },
  {
   "cell_type": "code",
   "execution_count": 73,
   "metadata": {
    "ExecuteTime": {
     "end_time": "2018-02-18T22:26:29.679549Z",
     "start_time": "2018-02-18T22:26:23.010202Z"
    }
   },
   "outputs": [
    {
     "name": "stdout",
     "output_type": "stream",
     "text": [
      "AUC:  0.8897738050565027\n",
      "[0.99954804 0.99123325 0.99064628 ... 0.01038965 0.0102956  0.00111849]\n"
     ]
    },
    {
     "data": {
      "image/png": "[encoded data removed]",
      "text/plain": [
       "<matplotlib.figure.Figure at 0x1a24735dd8>"
      ]
     },
     "metadata": {},
     "output_type": "display_data"
    }
   ],
   "source": [
    "find_auc_ensemble(X_train, X_test, y_train, y_test, base_model, text_model)"
   ]
  },
  {
   "cell_type": "code",
   "execution_count": null,
   "metadata": {
    "collapsed": true
   },
   "outputs": [],
   "source": []
  }
 ],
 "metadata": {
  "kernelspec": {
   "display_name": "Python 3",
   "language": "python",
   "name": "python3"
  },
  "language_info": {
   "codemirror_mode": {
    "name": "ipython",
    "version": 3
   },
   "file_extension": ".py",
   "mimetype": "text/x-python",
   "name": "python",
   "nbconvert_exporter": "python",
   "pygments_lexer": "ipython3",
   "version": "3.6.3"
  },
  "toc": {
   "nav_menu": {},
   "number_sections": true,
   "sideBar": true,
   "skip_h1_title": false,
   "title_cell": "Table of Contents",
   "title_sidebar": "Contents",
   "toc_cell": false,
   "toc_position": {},
   "toc_section_display": true,
   "toc_window_display": false
  },
  "varInspector": {
   "cols": {
    "lenName": 16,
    "lenType": 16,
    "lenVar": 40
   },
   "kernels_config": {
    "python": {
     "delete_cmd_postfix": "",
     "delete_cmd_prefix": "del ",
     "library": "var_list.py",
     "varRefreshCmd": "print(var_dic_list())"
    },
    "r": {
     "delete_cmd_postfix": ") ",
     "delete_cmd_prefix": "rm(",
     "library": "var_list.r",
     "varRefreshCmd": "cat(var_dic_list()) "
    }
   },
   "types_to_exclude": [
    "module",
    "function",
    "builtin_function_or_method",
    "instance",
    "_Feature"
   ],
   "window_display": false
  }
 },
 "nbformat": 4,
 "nbformat_minor": 2
}
