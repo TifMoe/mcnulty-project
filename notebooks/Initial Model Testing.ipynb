{
 "cells": [
  {
   "cell_type": "code",
   "execution_count": 45,
   "metadata": {
    "ExecuteTime": {
     "end_time": "2018-02-18T00:09:07.114185Z",
     "start_time": "2018-02-18T00:09:07.088703Z"
    }
   },
   "outputs": [
    {
     "name": "stdout",
     "output_type": "stream",
     "text": [
      "Python version 3.6.3 |Anaconda custom (64-bit)| (default, Oct  6 2017, 12:04:38) \n",
      "[GCC 4.2.1 Compatible Clang 4.0.1 (tags/RELEASE_401/final)]\n",
      "Pandas version 0.20.3\n",
      "Numpy version 1.14.0\n"
     ]
    }
   ],
   "source": [
    "import pandas as pd\n",
    "import numpy as np\n",
    "import sys\n",
    "import matplotlib.pyplot as plt\n",
    "import operator\n",
    "import seaborn as sns\n",
    "from sklearn.metrics import confusion_matrix\n",
    "from sklearn.model_selection import train_test_split, StratifiedKFold, cross_val_score, GridSearchCV\n",
    "from sklearn.metrics import roc_curve, auc\n",
    "from sklearn import metrics\n",
    "from sklearn.ensemble import RandomForestClassifier, GradientBoostingClassifier\n",
    "from sklearn.discriminant_analysis import LinearDiscriminantAnalysis\n",
    "from sklearn.tree import DecisionTreeClassifier\n",
    "from sklearn.linear_model import LogisticRegression\n",
    "from sklearn.naive_bayes import GaussianNB\n",
    "from sklearn.neighbors import KNeighborsClassifier\n",
    "\n",
    "\n",
    "% matplotlib inline\n",
    "\n",
    "print('Python version', sys.version)\n",
    "print('Pandas version', pd.__version__)\n",
    "print('Numpy version', np.__version__)"
   ]
  },
  {
   "cell_type": "markdown",
   "metadata": {},
   "source": [
    "# Import pickled feature data"
   ]
  },
  {
   "cell_type": "code",
   "execution_count": 57,
   "metadata": {
    "ExecuteTime": {
     "end_time": "2018-02-18T00:20:52.129001Z",
     "start_time": "2018-02-18T00:20:52.117061Z"
    }
   },
   "outputs": [],
   "source": [
    "data = pd.read_pickle('../data/processed/feature_engineering.pkl')"
   ]
  },
  {
   "cell_type": "code",
   "execution_count": 58,
   "metadata": {
    "ExecuteTime": {
     "end_time": "2018-02-18T00:20:52.532552Z",
     "start_time": "2018-02-18T00:20:52.516137Z"
    }
   },
   "outputs": [
    {
     "data": {
      "text/html": [
       "<div>\n",
       "<style>\n",
       "    .dataframe thead tr:only-child th {\n",
       "        text-align: right;\n",
       "    }\n",
       "\n",
       "    .dataframe thead th {\n",
       "        text-align: left;\n",
       "    }\n",
       "\n",
       "    .dataframe tbody tr th {\n",
       "        vertical-align: top;\n",
       "    }\n",
       "</style>\n",
       "<table border=\"1\" class=\"dataframe\">\n",
       "  <thead>\n",
       "    <tr style=\"text-align: right;\">\n",
       "      <th></th>\n",
       "      <th>id</th>\n",
       "      <th>hour_created</th>\n",
       "      <th>weekday_created</th>\n",
       "      <th>photo_exists</th>\n",
       "      <th>tweet_sentiment</th>\n",
       "      <th>retweets_per_followers</th>\n",
       "      <th>favs_per_followers</th>\n",
       "      <th>rate_all_caps</th>\n",
       "      <th>retweet_count</th>\n",
       "      <th>favorite_count</th>\n",
       "      <th>text_length</th>\n",
       "      <th>target</th>\n",
       "    </tr>\n",
       "  </thead>\n",
       "  <tbody>\n",
       "    <tr>\n",
       "      <th>0</th>\n",
       "      <td>9.529341e+17</td>\n",
       "      <td>16</td>\n",
       "      <td>0</td>\n",
       "      <td>1</td>\n",
       "      <td>1</td>\n",
       "      <td>0.000743</td>\n",
       "      <td>0.002601</td>\n",
       "      <td>0.000000</td>\n",
       "      <td>28</td>\n",
       "      <td>98</td>\n",
       "      <td>203</td>\n",
       "      <td>1</td>\n",
       "    </tr>\n",
       "    <tr>\n",
       "      <th>1</th>\n",
       "      <td>9.533119e+17</td>\n",
       "      <td>17</td>\n",
       "      <td>1</td>\n",
       "      <td>1</td>\n",
       "      <td>1</td>\n",
       "      <td>0.000637</td>\n",
       "      <td>0.001805</td>\n",
       "      <td>0.000000</td>\n",
       "      <td>24</td>\n",
       "      <td>68</td>\n",
       "      <td>202</td>\n",
       "      <td>1</td>\n",
       "    </tr>\n",
       "    <tr>\n",
       "      <th>2</th>\n",
       "      <td>9.533464e+17</td>\n",
       "      <td>19</td>\n",
       "      <td>1</td>\n",
       "      <td>0</td>\n",
       "      <td>1</td>\n",
       "      <td>0.000212</td>\n",
       "      <td>0.000557</td>\n",
       "      <td>0.060606</td>\n",
       "      <td>8</td>\n",
       "      <td>21</td>\n",
       "      <td>243</td>\n",
       "      <td>1</td>\n",
       "    </tr>\n",
       "    <tr>\n",
       "      <th>3</th>\n",
       "      <td>9.536457e+17</td>\n",
       "      <td>15</td>\n",
       "      <td>2</td>\n",
       "      <td>0</td>\n",
       "      <td>1</td>\n",
       "      <td>0.000610</td>\n",
       "      <td>0.003901</td>\n",
       "      <td>0.000000</td>\n",
       "      <td>23</td>\n",
       "      <td>147</td>\n",
       "      <td>61</td>\n",
       "      <td>1</td>\n",
       "    </tr>\n",
       "    <tr>\n",
       "      <th>4</th>\n",
       "      <td>9.536777e+17</td>\n",
       "      <td>17</td>\n",
       "      <td>2</td>\n",
       "      <td>0</td>\n",
       "      <td>1</td>\n",
       "      <td>0.000478</td>\n",
       "      <td>0.001327</td>\n",
       "      <td>0.037037</td>\n",
       "      <td>18</td>\n",
       "      <td>50</td>\n",
       "      <td>220</td>\n",
       "      <td>1</td>\n",
       "    </tr>\n",
       "  </tbody>\n",
       "</table>\n",
       "</div>"
      ],
      "text/plain": [
       "             id  hour_created  weekday_created  photo_exists  tweet_sentiment  \\\n",
       "0  9.529341e+17            16                0             1                1   \n",
       "1  9.533119e+17            17                1             1                1   \n",
       "2  9.533464e+17            19                1             0                1   \n",
       "3  9.536457e+17            15                2             0                1   \n",
       "4  9.536777e+17            17                2             0                1   \n",
       "\n",
       "   retweets_per_followers  favs_per_followers  rate_all_caps  retweet_count  \\\n",
       "0                0.000743            0.002601       0.000000             28   \n",
       "1                0.000637            0.001805       0.000000             24   \n",
       "2                0.000212            0.000557       0.060606              8   \n",
       "3                0.000610            0.003901       0.000000             23   \n",
       "4                0.000478            0.001327       0.037037             18   \n",
       "\n",
       "   favorite_count  text_length target  \n",
       "0              98          203      1  \n",
       "1              68          202      1  \n",
       "2              21          243      1  \n",
       "3             147           61      1  \n",
       "4              50          220      1  "
      ]
     },
     "execution_count": 58,
     "metadata": {},
     "output_type": "execute_result"
    }
   ],
   "source": [
    "data.head()"
   ]
  },
  {
   "cell_type": "markdown",
   "metadata": {},
   "source": [
    "# Define Evaluation Functions"
   ]
  },
  {
   "cell_type": "code",
   "execution_count": 59,
   "metadata": {
    "ExecuteTime": {
     "end_time": "2018-02-18T00:20:53.468903Z",
     "start_time": "2018-02-18T00:20:53.459799Z"
    },
    "collapsed": true
   },
   "outputs": [],
   "source": [
    "# Generate a confusion matrix plot\n",
    "def plot_confusion_matrix(cm, title='Confusion Matrix', cmap=plt.cm.Blues):\n",
    "    plt.imshow(cm, interpolation='nearest', cmap=cmap)\n",
    "    plt.title(title)\n",
    "    plt.colorbar()\n",
    "    plt.tight_layout()\n",
    "    plt.ylabel('True label')\n",
    "    plt.xlabel('Predicted label')"
   ]
  },
  {
   "cell_type": "code",
   "execution_count": 60,
   "metadata": {
    "ExecuteTime": {
     "end_time": "2018-02-18T00:20:54.020940Z",
     "start_time": "2018-02-18T00:20:54.008741Z"
    },
    "collapsed": true
   },
   "outputs": [],
   "source": [
    "def find_auc(y_test, y_score):\n",
    "    \n",
    "    fpr, tpr, _ = roc_curve(y_test, y_score)\n",
    "    roc_auc = auc(fpr, tpr)\n",
    "\n",
    "    plt.figure()\n",
    "\n",
    "    plt.plot([0,1],[0,1]) # this is our baseline\n",
    "    plt.plot(fpr, tpr) # this is our ROC curve\n",
    "    plt.xlabel('FPR')\n",
    "    plt.ylabel('TPR')\n",
    "    plt.show()\n",
    "\n",
    "    print('AUC: ', roc_auc)"
   ]
  },
  {
   "cell_type": "code",
   "execution_count": 61,
   "metadata": {
    "ExecuteTime": {
     "end_time": "2018-02-18T00:20:54.656777Z",
     "start_time": "2018-02-18T00:20:54.648089Z"
    },
    "collapsed": true
   },
   "outputs": [],
   "source": [
    "def split_train_test(features, target, test_size, seed):\n",
    "    \"\"\"\n",
    "    Split data into training and test sets before cross validation on training set\n",
    "    \"\"\"\n",
    "    assert isinstance(features, np.ndarray) and isinstance(target, np.ndarray), 'Inputs and target must be np.arrays'\n",
    "\n",
    "    # Split features and response into training and validation sets\n",
    "    validation_size = test_size\n",
    "    X_train, X_validation, Y_train, Y_validation = train_test_split(features, target,\n",
    "                                                                    test_size=validation_size,\n",
    "                                                                    random_state=seed)\n",
    "\n",
    "    return X_train, X_validation, Y_train, Y_validation"
   ]
  },
  {
   "cell_type": "code",
   "execution_count": 62,
   "metadata": {
    "ExecuteTime": {
     "end_time": "2018-02-18T00:20:55.578579Z",
     "start_time": "2018-02-18T00:20:55.476892Z"
    },
    "collapsed": true
   },
   "outputs": [],
   "source": [
    "def find_best_classifier(features, target, seed, k_folds, crossval_scoring, feature_names):\n",
    "\n",
    "    \"\"\"\n",
    "    Test multiple classifiers using cross validation.\n",
    "    Evaluate performance to find model with highest score as defined by the 'crossval_scoring' argument \n",
    "    ('roc_auc', 'f1', log_loss', precision', 'recall', etc)\n",
    "    \"\"\"\n",
    "\n",
    "    # Test options and evaluation metric\n",
    "    scoring=crossval_scoring\n",
    "\n",
    "    # Spot Check Algorithms\n",
    "    models = []\n",
    "    models.append(('LogisticRegression', LogisticRegression()))\n",
    "    models.append(('LinearDiscriminantAnalysis', LinearDiscriminantAnalysis()))\n",
    "    models.append(('KNeighborsClassifier', KNeighborsClassifier()))\n",
    "    models.append(('DecisionTree', DecisionTreeClassifier(random_state=seed)))\n",
    "    models.append(('NaiveBayesGaussian', GaussianNB()))\n",
    "    models.append(('RandomForest', RandomForestClassifier(random_state=seed)))\n",
    "    models.append(('GradientBoosting', GradientBoostingClassifier(random_state=seed)))\n",
    "\n",
    "\n",
    "    # Evaluate each model in turn\n",
    "    results = []\n",
    "    names = []\n",
    "\n",
    "    for name, model in models:\n",
    "        kfold = StratifiedKFold(n_splits=k_folds, random_state=seed)\n",
    "        cv_results = cross_val_score(model, features, target, cv=kfold, scoring=scoring)\n",
    "        results.append(cv_results)\n",
    "        names.append(name)\n",
    "        msg = \"%s: %s (%f), std (%f)\" % (name, scoring, cv_results.mean(), cv_results.std())\n",
    "        print(msg)\n",
    "\n",
    "    zipped_eval = zip(models, [i.mean() for i in results])\n",
    "    model_eval = sorted(zipped_eval, key=operator.itemgetter(1))\n",
    "    \n",
    "    best_clf = model_eval[-1][0][1]\n",
    "    clf_name = model_eval[-1][0][0]\n",
    "    print(\"\\n Model with best {} is {}\".format(scoring, clf_name))\n",
    "    print('\\n', best_clf)\n",
    "    \n",
    "    print('\\n Feature Importance:')\n",
    "    try:\n",
    "        clf = best_clf\n",
    "        clf.fit(features, target)\n",
    "\n",
    "        for i in zip(feature_names, clf.feature_importances_):\n",
    "            print(i)\n",
    "            \n",
    "        feat_imp = pd.Series(clf.feature_importances_, feature_names).sort_values(ascending=False)\n",
    "        feat_imp.plot(kind='bar', title='Feature Importances')\n",
    "        plt.ylabel('Feature Importance Score')\n",
    "        \n",
    "    except AttributeError:\n",
    "        print(' Not available for {}'.format(clf_name))\n",
    "        \n",
    "    return best_clf"
   ]
  },
  {
   "cell_type": "markdown",
   "metadata": {},
   "source": [
    "# Find Best Classifier"
   ]
  },
  {
   "cell_type": "code",
   "execution_count": 63,
   "metadata": {
    "ExecuteTime": {
     "end_time": "2018-02-18T00:21:00.375184Z",
     "start_time": "2018-02-18T00:21:00.360999Z"
    }
   },
   "outputs": [],
   "source": [
    "target = data.pop('target')\n",
    "target_array = np.array([int(x) for x in target])\n",
    "\n",
    "features = data.drop(['id'], axis=1)\n",
    "features_array = np.array(features)"
   ]
  },
  {
   "cell_type": "code",
   "execution_count": 64,
   "metadata": {
    "ExecuteTime": {
     "end_time": "2018-02-18T00:21:00.779513Z",
     "start_time": "2018-02-18T00:21:00.769991Z"
    }
   },
   "outputs": [],
   "source": [
    "X_train, X_validation, Y_train, Y_validation = split_train_test(features=features_array, target=target_array, \n",
    "                                                                test_size=.2, seed=42)"
   ]
  },
  {
   "cell_type": "markdown",
   "metadata": {
    "ExecuteTime": {
     "end_time": "2018-02-16T20:56:20.129880Z",
     "start_time": "2018-02-16T20:56:20.125759Z"
    }
   },
   "source": [
    "## Test for optimal ROC AUC Score"
   ]
  },
  {
   "cell_type": "code",
   "execution_count": 54,
   "metadata": {
    "ExecuteTime": {
     "end_time": "2018-02-18T00:09:23.509358Z",
     "start_time": "2018-02-18T00:09:11.551531Z"
    }
   },
   "outputs": [
    {
     "name": "stdout",
     "output_type": "stream",
     "text": [
      "LogisticRegression: roc_auc (0.600550), std (0.008089)\n",
      "LinearDiscriminantAnalysis: roc_auc (0.613056), std (0.008102)\n",
      "KNeighborsClassifier: roc_auc (0.586696), std (0.005274)\n",
      "DecisionTree: roc_auc (0.605665), std (0.014839)\n",
      "NaiveBayesGaussian: roc_auc (0.607143), std (0.006255)\n",
      "RandomForest: roc_auc (0.701555), std (0.004497)\n",
      "GradientBoosting: roc_auc (0.715953), std (0.005615)\n",
      "\n",
      " Model with best roc_auc is GradientBoosting\n",
      "\n",
      " GradientBoostingClassifier(criterion='friedman_mse', init=None,\n",
      "              learning_rate=0.1, loss='deviance', max_depth=3,\n",
      "              max_features=None, max_leaf_nodes=None,\n",
      "              min_impurity_decrease=0.0, min_impurity_split=None,\n",
      "              min_samples_leaf=1, min_samples_split=2,\n",
      "              min_weight_fraction_leaf=0.0, n_estimators=100,\n",
      "              presort='auto', random_state=42, subsample=1.0, verbose=0,\n",
      "              warm_start=False)\n",
      "\n",
      " Feature Importance:\n",
      "('hour_created', 0.08755935909380545)\n",
      "('weekday_created', 0.04401264820696346)\n",
      "('photo_exists', 0.01709847110173193)\n",
      "('tweet_sentiment', 0.02133018805755969)\n",
      "('retweets_per_followers', 0.23488001084790253)\n",
      "('favs_per_followers', 0.18321722309045677)\n",
      "('rate_all_caps', 0.06270219213149898)\n",
      "('retweet_count', 0.14925622094115815)\n",
      "('favorite_count', 0.10978808097068128)\n",
      "('text_length', 0.09015560555824172)\n"
     ]
    },
    {
     "data": {
      "image/png": "[encoded data removed]",
      "text/plain": [
       "<matplotlib.figure.Figure at 0x1a0b2c85c0>"
      ]
     },
     "metadata": {},
     "output_type": "display_data"
    }
   ],
   "source": [
    "best_clf = find_best_classifier(features=X_train, \n",
    "                                target=Y_train, \n",
    "                                seed=42, \n",
    "                                k_folds=5, \n",
    "                                crossval_scoring='roc_auc', \n",
    "                                feature_names=list(features))"
   ]
  },
  {
   "cell_type": "markdown",
   "metadata": {},
   "source": [
    "## Test for optimal Log Loss"
   ]
  },
  {
   "cell_type": "code",
   "execution_count": 55,
   "metadata": {
    "ExecuteTime": {
     "end_time": "2018-02-18T00:09:36.485115Z",
     "start_time": "2018-02-18T00:09:23.562350Z"
    }
   },
   "outputs": [
    {
     "name": "stdout",
     "output_type": "stream",
     "text": [
      "LogisticRegression: neg_log_loss (-0.672445), std (0.002509)\n",
      "LinearDiscriminantAnalysis: neg_log_loss (-0.670024), std (0.001883)\n",
      "KNeighborsClassifier: neg_log_loss (-2.097262), std (0.070935)\n",
      "DecisionTree: neg_log_loss (-13.499979), std (0.510844)\n",
      "NaiveBayesGaussian: neg_log_loss (-0.925464), std (0.096048)\n",
      "RandomForest: neg_log_loss (-0.866168), std (0.025468)\n",
      "GradientBoosting: neg_log_loss (-0.613555), std (0.003482)\n",
      "\n",
      " Model with best neg_log_loss is GradientBoosting\n",
      "\n",
      " GradientBoostingClassifier(criterion='friedman_mse', init=None,\n",
      "              learning_rate=0.1, loss='deviance', max_depth=3,\n",
      "              max_features=None, max_leaf_nodes=None,\n",
      "              min_impurity_decrease=0.0, min_impurity_split=None,\n",
      "              min_samples_leaf=1, min_samples_split=2,\n",
      "              min_weight_fraction_leaf=0.0, n_estimators=100,\n",
      "              presort='auto', random_state=42, subsample=1.0, verbose=0,\n",
      "              warm_start=False)\n",
      "\n",
      " Feature Importance:\n",
      "('hour_created', 0.08755935909380545)\n",
      "('weekday_created', 0.04401264820696346)\n",
      "('photo_exists', 0.01709847110173193)\n",
      "('tweet_sentiment', 0.02133018805755969)\n",
      "('retweets_per_followers', 0.23488001084790253)\n",
      "('favs_per_followers', 0.18321722309045677)\n",
      "('rate_all_caps', 0.06270219213149898)\n",
      "('retweet_count', 0.14925622094115815)\n",
      "('favorite_count', 0.10978808097068128)\n",
      "('text_length', 0.09015560555824172)\n"
     ]
    },
    {
     "data": {
      "image/png": "[encoded data removed]",
      "text/plain": [
       "<matplotlib.figure.Figure at 0x1a0b23acc0>"
      ]
     },
     "metadata": {},
     "output_type": "display_data"
    }
   ],
   "source": [
    "best_clf = find_best_classifier(features=X_train, \n",
    "                                target=Y_train, \n",
    "                                seed=42, \n",
    "                                k_folds=5, \n",
    "                                crossval_scoring='neg_log_loss', \n",
    "                                feature_names=list(features))"
   ]
  },
  {
   "cell_type": "markdown",
   "metadata": {},
   "source": [
    "## Test for optimal F1 Score"
   ]
  },
  {
   "cell_type": "code",
   "execution_count": 56,
   "metadata": {
    "ExecuteTime": {
     "end_time": "2018-02-18T00:09:47.106858Z",
     "start_time": "2018-02-18T00:09:36.575535Z"
    }
   },
   "outputs": [
    {
     "name": "stdout",
     "output_type": "stream",
     "text": [
      "LogisticRegression: f1 (0.447302), std (0.007515)\n",
      "LinearDiscriminantAnalysis: f1 (0.442333), std (0.007367)\n",
      "KNeighborsClassifier: f1 (0.512548), std (0.007999)\n",
      "DecisionTree: f1 (0.568404), std (0.016129)\n",
      "NaiveBayesGaussian: f1 (0.619906), std (0.001554)\n",
      "RandomForest: f1 (0.566499), std (0.003669)\n",
      "GradientBoosting: f1 (0.599618), std (0.008472)\n",
      "\n",
      " Model with best f1 is NaiveBayesGaussian\n",
      "\n",
      " GaussianNB(priors=None)\n",
      "\n",
      " Feature Importance:\n",
      " Not available for NaiveBayesGaussian\n"
     ]
    }
   ],
   "source": [
    "best_clf = find_best_classifier(features=X_train, \n",
    "                                target=Y_train, \n",
    "                                seed=42, \n",
    "                                k_folds=5, \n",
    "                                crossval_scoring='f1', \n",
    "                                feature_names=list(features))"
   ]
  },
  {
   "cell_type": "markdown",
   "metadata": {
    "ExecuteTime": {
     "end_time": "2018-02-16T21:07:33.775514Z",
     "start_time": "2018-02-16T21:07:33.771803Z"
    }
   },
   "source": [
    "# Find Best Parameters"
   ]
  },
  {
   "cell_type": "code",
   "execution_count": 65,
   "metadata": {
    "ExecuteTime": {
     "end_time": "2018-02-18T00:21:15.346859Z",
     "start_time": "2018-02-18T00:21:15.336480Z"
    },
    "collapsed": true
   },
   "outputs": [],
   "source": [
    "def find_best_params(model, parameter_dict, scoring, features, target, feature_names):\n",
    "    \"\"\"\n",
    "    Use GridSearchCV to find optimal parameters for a given model\n",
    "    \"\"\"\n",
    "    gsearch = GridSearchCV(estimator=model, param_grid=parameter_dict, \n",
    "                           scoring=scoring,n_jobs=4,iid=False, cv=5)\n",
    "    \n",
    "    gsearch.fit(features, target)\n",
    "    \n",
    "    print(gsearch.best_score_)\n",
    "    print(gsearch.best_params_)\n"
   ]
  },
  {
   "cell_type": "markdown",
   "metadata": {},
   "source": [
    "## Find best number estimators"
   ]
  },
  {
   "cell_type": "code",
   "execution_count": 66,
   "metadata": {
    "ExecuteTime": {
     "end_time": "2018-02-18T00:21:16.575181Z",
     "start_time": "2018-02-18T00:21:16.567347Z"
    },
    "collapsed": true
   },
   "outputs": [],
   "source": [
    "gbc1 =  GradientBoostingClassifier(criterion='friedman_mse', \n",
    "                                  init=None,\n",
    "                                  learning_rate=0.1, \n",
    "                                  loss='deviance', \n",
    "                                  max_depth=3,\n",
    "                                  max_features=None, \n",
    "                                  max_leaf_nodes=None,\n",
    "                                  min_impurity_decrease=0.0, \n",
    "                                  min_impurity_split=None,\n",
    "                                  min_samples_leaf=1, \n",
    "                                  min_samples_split=2,\n",
    "                                  min_weight_fraction_leaf=0.0,\n",
    "                                  presort='auto', \n",
    "                                  random_state=42, \n",
    "                                  subsample=1.0, \n",
    "                                  verbose=0,\n",
    "                                  warm_start=False)"
   ]
  },
  {
   "cell_type": "code",
   "execution_count": 67,
   "metadata": {
    "ExecuteTime": {
     "end_time": "2018-02-18T00:21:18.684564Z",
     "start_time": "2018-02-18T00:21:18.680435Z"
    },
    "collapsed": true
   },
   "outputs": [],
   "source": [
    "parameters1 = {'n_estimators':range(20,200,10)}"
   ]
  },
  {
   "cell_type": "code",
   "execution_count": 68,
   "metadata": {
    "ExecuteTime": {
     "end_time": "2018-02-18T00:22:24.857095Z",
     "start_time": "2018-02-18T00:21:19.252990Z"
    }
   },
   "outputs": [
    {
     "name": "stdout",
     "output_type": "stream",
     "text": [
      "-0.6044444215342744\n",
      "{'n_estimators': 190}\n"
     ]
    }
   ],
   "source": [
    "find_best_params(model=gbc1, \n",
    "                 parameter_dict=parameters1, \n",
    "                 scoring='neg_log_loss',\n",
    "                 features=X_train,\n",
    "                 target=Y_train,\n",
    "                 feature_names=list(features))"
   ]
  },
  {
   "cell_type": "markdown",
   "metadata": {},
   "source": [
    "## Find best learning rate"
   ]
  },
  {
   "cell_type": "code",
   "execution_count": 69,
   "metadata": {
    "ExecuteTime": {
     "end_time": "2018-02-18T00:22:24.903492Z",
     "start_time": "2018-02-18T00:22:24.895681Z"
    },
    "collapsed": true
   },
   "outputs": [],
   "source": [
    "gbc2 =  GradientBoostingClassifier(criterion='friedman_mse', \n",
    "                                  init=None, \n",
    "                                  loss='deviance', \n",
    "                                  max_depth=3,\n",
    "                                  max_features=None, \n",
    "                                  max_leaf_nodes=None,\n",
    "                                  min_impurity_decrease=0.0, \n",
    "                                  min_impurity_split=None,\n",
    "                                  min_samples_leaf=1, \n",
    "                                  min_samples_split=2,\n",
    "                                  min_weight_fraction_leaf=0.0,\n",
    "                                  presort='auto',\n",
    "                                  n_estimators=190,\n",
    "                                  random_state=42, \n",
    "                                  subsample=1.0, \n",
    "                                  verbose=0,\n",
    "                                  warm_start=False)"
   ]
  },
  {
   "cell_type": "code",
   "execution_count": 70,
   "metadata": {
    "ExecuteTime": {
     "end_time": "2018-02-18T00:22:24.944705Z",
     "start_time": "2018-02-18T00:22:24.940002Z"
    },
    "collapsed": true
   },
   "outputs": [],
   "source": [
    "parameters2 = {'learning_rate':[0.0001, 0.001, 0.01, 0.1, 0.2, 0.3, 0.5, 1.0, 10.0]}"
   ]
  },
  {
   "cell_type": "code",
   "execution_count": 71,
   "metadata": {
    "ExecuteTime": {
     "end_time": "2018-02-18T00:23:27.291896Z",
     "start_time": "2018-02-18T00:22:24.983338Z"
    }
   },
   "outputs": [
    {
     "name": "stdout",
     "output_type": "stream",
     "text": [
      "-0.5725532579483004\n",
      "{'learning_rate': 0.5}\n"
     ]
    }
   ],
   "source": [
    "find_best_params(model=gbc2, \n",
    "                 parameter_dict=parameters2, \n",
    "                 scoring='neg_log_loss',\n",
    "                 features=X_train,\n",
    "                 target=Y_train,\n",
    "                 feature_names=list(features))"
   ]
  },
  {
   "cell_type": "markdown",
   "metadata": {},
   "source": [
    "## Find best max_depth and min_samples_leaf"
   ]
  },
  {
   "cell_type": "code",
   "execution_count": 72,
   "metadata": {
    "ExecuteTime": {
     "end_time": "2018-02-18T00:23:27.343940Z",
     "start_time": "2018-02-18T00:23:27.335588Z"
    },
    "collapsed": true
   },
   "outputs": [],
   "source": [
    "gbc3 =  GradientBoostingClassifier(criterion='friedman_mse', \n",
    "                                  init=None, \n",
    "                                  loss='deviance', \n",
    "                                  max_features=None, \n",
    "                                  max_leaf_nodes=None,\n",
    "                                  min_impurity_decrease=0.0, \n",
    "                                  min_impurity_split=None,\n",
    "                                  min_samples_split=2,\n",
    "                                  min_weight_fraction_leaf=0.0,\n",
    "                                  presort='auto',\n",
    "                                  n_estimators=190,\n",
    "                                  random_state=42,\n",
    "                                  learning_rate=0.5, \n",
    "                                  subsample=1.0, \n",
    "                                  verbose=0,\n",
    "                                  warm_start=False)"
   ]
  },
  {
   "cell_type": "code",
   "execution_count": 73,
   "metadata": {
    "ExecuteTime": {
     "end_time": "2018-02-18T00:23:27.384107Z",
     "start_time": "2018-02-18T00:23:27.380365Z"
    },
    "collapsed": true
   },
   "outputs": [],
   "source": [
    "parameters3 = {'max_depth':[3, 5, 8, 10],\n",
    "               'min_samples_leaf':range(1, 100, 10)}"
   ]
  },
  {
   "cell_type": "code",
   "execution_count": 74,
   "metadata": {
    "ExecuteTime": {
     "end_time": "2018-02-18T00:34:16.680681Z",
     "start_time": "2018-02-18T00:23:27.421617Z"
    }
   },
   "outputs": [
    {
     "name": "stdout",
     "output_type": "stream",
     "text": [
      "-0.5557251418157265\n",
      "{'max_depth': 5, 'min_samples_leaf': 11}\n"
     ]
    }
   ],
   "source": [
    "find_best_params(model=gbc3, \n",
    "                 parameter_dict=parameters3, \n",
    "                 scoring='neg_log_loss',\n",
    "                 features=X_train,\n",
    "                 target=Y_train,\n",
    "                 feature_names=list(features))"
   ]
  },
  {
   "cell_type": "markdown",
   "metadata": {},
   "source": [
    "## Visualize Results of Best Classifier on Test Set"
   ]
  },
  {
   "cell_type": "code",
   "execution_count": 258,
   "metadata": {
    "ExecuteTime": {
     "end_time": "2018-02-17T17:02:38.430749Z",
     "start_time": "2018-02-17T17:02:38.382850Z"
    },
    "collapsed": true
   },
   "outputs": [],
   "source": [
    "def train_test_score(best_classifier, X_train, X_validation, Y_train, Y_validation):\n",
    "    \n",
    "    # fit a model\n",
    "    clf = best_classifier.fit(X_train, Y_train)\n",
    "    \n",
    "    # score the model (accuracy)\n",
    "    train_acc = clf.score(X_train, Y_train)\n",
    "    test_acc = clf.score(X_validation, Y_validation)\n",
    "    print(\"Training Data Accuracy: %0.2f\" %(train_acc))\n",
    "    print(\"Test Data Accuracy:     %0.2f\" %(test_acc))\n",
    "\n",
    "    # create a confusion matrix\n",
    "    y_true = Y_validation\n",
    "    y_pred = clf.predict(X_validation)\n",
    "    \n",
    "    conf = confusion_matrix(y_true, y_pred)\n",
    "    print ('\\n')\n",
    "    print(conf)\n",
    "\n",
    "    print ('\\n')\n",
    "    print (\"Precision:              %0.2f\" %(conf[1, 1] / (conf[0, 1] + conf[1, 1])))\n",
    "    print (\"Recall:                 %0.2f\"% (conf[1, 1] / (conf[1, 0] + conf[1, 1])))\n",
    "\n",
    "    cm = confusion_matrix(y_true, y_pred, labels=None)\n",
    "    # plot the confusion matrix\n",
    "\n",
    "    print ('\\n')\n",
    "    plt.figure()\n",
    "    plot_confusion_matrix(cm)\n",
    "    plt.show()\n",
    "       \n",
    "    print('\\n')\n",
    "    find_auc(y_test=y_true, y_score=y_pred)"
   ]
  },
  {
   "cell_type": "code",
   "execution_count": 261,
   "metadata": {
    "ExecuteTime": {
     "end_time": "2018-02-17T17:04:09.590720Z",
     "start_time": "2018-02-17T17:04:09.578705Z"
    },
    "collapsed": true
   },
   "outputs": [],
   "source": [
    "tuned_classifier = GradientBoostingClassifier(criterion='friedman_mse', \n",
    "                                             init=None, \n",
    "                                             loss='deviance', \n",
    "                                             max_depth=5,\n",
    "                                             max_features=None, \n",
    "                                             max_leaf_nodes=None,\n",
    "                                             min_impurity_decrease=0.0, \n",
    "                                             min_impurity_split=None,\n",
    "                                             min_samples_leaf=11, \n",
    "                                             min_samples_split=2,\n",
    "                                             min_weight_fraction_leaf=0.0,\n",
    "                                             presort='auto',\n",
    "                                             n_estimators=190,\n",
    "                                             random_state=42, \n",
    "                                             subsample=1.0, \n",
    "                                             verbose=0,\n",
    "                                             learning_rate=0.5,\n",
    "                                             warm_start=False)"
   ]
  },
  {
   "cell_type": "code",
   "execution_count": 260,
   "metadata": {
    "ExecuteTime": {
     "end_time": "2018-02-17T17:02:46.208344Z",
     "start_time": "2018-02-17T17:02:39.437765Z"
    }
   },
   "outputs": [
    {
     "name": "stdout",
     "output_type": "stream",
     "text": [
      "Training Data Accuracy: 0.89\n",
      "Test Data Accuracy:     0.74\n",
      "\n",
      "\n",
      "[[3053  816]\n",
      " [ 981 2157]]\n",
      "\n",
      "\n",
      "Precision:              0.73\n",
      "Recall:                 0.69\n",
      "\n",
      "\n"
     ]
    },
    {
     "data": {
      "image/png": "[encoded data removed]",
      "text/plain": [
       "<matplotlib.figure.Figure at 0x1a0cc57f60>"
      ]
     },
     "metadata": {},
     "output_type": "display_data"
    },
    {
     "name": "stdout",
     "output_type": "stream",
     "text": [
      "\n",
      "\n"
     ]
    },
    {
     "data": {
      "image/png": "[encoded data removed]",
      "text/plain": [
       "<matplotlib.figure.Figure at 0x1a0abf4dd8>"
      ]
     },
     "metadata": {},
     "output_type": "display_data"
    },
    {
     "name": "stdout",
     "output_type": "stream",
     "text": [
      "AUC:  0.7382366429831276\n"
     ]
    }
   ],
   "source": [
    "train_test_score(tuned_classifier, X_train, X_validation, Y_train, Y_validation)"
   ]
  },
  {
   "cell_type": "markdown",
   "metadata": {},
   "source": [
    "# Fit All and Pickle Best CLF"
   ]
  },
  {
   "cell_type": "code",
   "execution_count": 262,
   "metadata": {
    "ExecuteTime": {
     "end_time": "2018-02-17T17:04:47.898967Z",
     "start_time": "2018-02-17T17:04:41.941287Z"
    }
   },
   "outputs": [
    {
     "data": {
      "text/plain": [
       "GradientBoostingClassifier(criterion='friedman_mse', init=None,\n",
       "              learning_rate=0.5, loss='deviance', max_depth=5,\n",
       "              max_features=None, max_leaf_nodes=None,\n",
       "              min_impurity_decrease=0.0, min_impurity_split=None,\n",
       "              min_samples_leaf=11, min_samples_split=2,\n",
       "              min_weight_fraction_leaf=0.0, n_estimators=190,\n",
       "              presort='auto', random_state=42, subsample=1.0, verbose=0,\n",
       "              warm_start=False)"
      ]
     },
     "execution_count": 262,
     "metadata": {},
     "output_type": "execute_result"
    }
   ],
   "source": [
    "tuned_classifier.fit(features_array, target_array)"
   ]
  },
  {
   "cell_type": "code",
   "execution_count": 265,
   "metadata": {
    "ExecuteTime": {
     "end_time": "2018-02-17T17:05:36.823830Z",
     "start_time": "2018-02-17T17:05:36.808891Z"
    },
    "collapsed": true
   },
   "outputs": [],
   "source": [
    "with open('models/gcb_clf_base_features.pkl', 'wb') as file:\n",
    "    pickle.dump(tuned_classifier, file)"
   ]
  },
  {
   "cell_type": "code",
   "execution_count": null,
   "metadata": {
    "collapsed": true
   },
   "outputs": [],
   "source": []
  }
 ],
 "metadata": {
  "kernelspec": {
   "display_name": "Python 3",
   "language": "python",
   "name": "python3"
  },
  "language_info": {
   "codemirror_mode": {
    "name": "ipython",
    "version": 3
   },
   "file_extension": ".py",
   "mimetype": "text/x-python",
   "name": "python",
   "nbconvert_exporter": "python",
   "pygments_lexer": "ipython3",
   "version": "3.6.3"
  },
  "toc": {
   "nav_menu": {},
   "number_sections": true,
   "sideBar": true,
   "skip_h1_title": false,
   "title_cell": "Table of Contents",
   "title_sidebar": "Contents",
   "toc_cell": false,
   "toc_position": {},
   "toc_section_display": true,
   "toc_window_display": true
  },
  "varInspector": {
   "cols": {
    "lenName": 16,
    "lenType": 16,
    "lenVar": 40
   },
   "kernels_config": {
    "python": {
     "delete_cmd_postfix": "",
     "delete_cmd_prefix": "del ",
     "library": "var_list.py",
     "varRefreshCmd": "print(var_dic_list())"
    },
    "r": {
     "delete_cmd_postfix": ") ",
     "delete_cmd_prefix": "rm(",
     "library": "var_list.r",
     "varRefreshCmd": "cat(var_dic_list()) "
    }
   },
   "types_to_exclude": [
    "module",
    "function",
    "builtin_function_or_method",
    "instance",
    "_Feature"
   ],
   "window_display": false
  }
 },
 "nbformat": 4,
 "nbformat_minor": 2
}
